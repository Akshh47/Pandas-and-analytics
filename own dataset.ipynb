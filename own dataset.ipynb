{
 "cells": [
  {
   "cell_type": "code",
   "execution_count": 2,
   "id": "a01369c7",
   "metadata": {},
   "outputs": [],
   "source": [
    "import pandas as pd \n",
    "import numpy as np \n",
    "import matplotlib.pyplot as plt\n",
    "import seaborn as sns \n",
    "from  plotly.offline import iplot\n",
    "import plotly as py \n",
    "import plotly.tools as tls \n",
    " \n",
    "%matplotlib inline"
   ]
  },
  {
   "cell_type": "code",
   "execution_count": 1,
   "id": "7c9fb59a",
   "metadata": {},
   "outputs": [
    {
     "name": "stdout",
     "output_type": "stream",
     "text": [
      "Requirement already satisfied: plotly in d:\\software\\lib\\site-packages (5.6.0)\n",
      "Requirement already satisfied: six in d:\\software\\lib\\site-packages (from plotly) (1.16.0)\n",
      "Requirement already satisfied: tenacity>=6.2.0 in d:\\software\\lib\\site-packages (from plotly) (8.0.1)\n",
      "Note: you may need to restart the kernel to use updated packages.\n"
     ]
    }
   ],
   "source": [
    "pip install plotly"
   ]
  },
  {
   "cell_type": "code",
   "execution_count": 2,
   "id": "90828894",
   "metadata": {},
   "outputs": [
    {
     "name": "stdout",
     "output_type": "stream",
     "text": [
      "Collecting cufflinks\n",
      "  Downloading cufflinks-0.17.3.tar.gz (81 kB)\n",
      "Requirement already satisfied: numpy>=1.9.2 in d:\\software\\lib\\site-packages (from cufflinks) (1.21.5)\n",
      "Requirement already satisfied: pandas>=0.19.2 in d:\\software\\lib\\site-packages (from cufflinks) (1.4.2)\n",
      "Requirement already satisfied: plotly>=4.1.1 in d:\\software\\lib\\site-packages (from cufflinks) (5.6.0)\n",
      "Requirement already satisfied: six>=1.9.0 in d:\\software\\lib\\site-packages (from cufflinks) (1.16.0)\n",
      "Collecting colorlover>=0.2.1\n",
      "  Downloading colorlover-0.3.0-py3-none-any.whl (8.9 kB)\n",
      "Requirement already satisfied: setuptools>=34.4.1 in d:\\software\\lib\\site-packages (from cufflinks) (61.2.0)\n",
      "Requirement already satisfied: ipython>=5.3.0 in d:\\software\\lib\\site-packages (from cufflinks) (8.2.0)\n",
      "Requirement already satisfied: ipywidgets>=7.0.0 in d:\\software\\lib\\site-packages (from cufflinks) (7.6.5)\n",
      "Requirement already satisfied: prompt-toolkit!=3.0.0,!=3.0.1,<3.1.0,>=2.0.0 in d:\\software\\lib\\site-packages (from ipython>=5.3.0->cufflinks) (3.0.20)\n",
      "Requirement already satisfied: jedi>=0.16 in d:\\software\\lib\\site-packages (from ipython>=5.3.0->cufflinks) (0.18.1)\n",
      "Requirement already satisfied: stack-data in d:\\software\\lib\\site-packages (from ipython>=5.3.0->cufflinks) (0.2.0)\n",
      "Requirement already satisfied: pickleshare in d:\\software\\lib\\site-packages (from ipython>=5.3.0->cufflinks) (0.7.5)\n",
      "Requirement already satisfied: pygments>=2.4.0 in d:\\software\\lib\\site-packages (from ipython>=5.3.0->cufflinks) (2.11.2)\n",
      "Requirement already satisfied: colorama in d:\\software\\lib\\site-packages (from ipython>=5.3.0->cufflinks) (0.4.4)\n",
      "Requirement already satisfied: decorator in d:\\software\\lib\\site-packages (from ipython>=5.3.0->cufflinks) (5.1.1)\n",
      "Requirement already satisfied: matplotlib-inline in d:\\software\\lib\\site-packages (from ipython>=5.3.0->cufflinks) (0.1.2)\n",
      "Requirement already satisfied: traitlets>=5 in d:\\software\\lib\\site-packages (from ipython>=5.3.0->cufflinks) (5.1.1)\n",
      "Requirement already satisfied: backcall in d:\\software\\lib\\site-packages (from ipython>=5.3.0->cufflinks) (0.2.0)\n",
      "Requirement already satisfied: widgetsnbextension~=3.5.0 in d:\\software\\lib\\site-packages (from ipywidgets>=7.0.0->cufflinks) (3.5.2)\n",
      "Requirement already satisfied: nbformat>=4.2.0 in d:\\software\\lib\\site-packages (from ipywidgets>=7.0.0->cufflinks) (5.3.0)\n",
      "Requirement already satisfied: ipython-genutils~=0.2.0 in d:\\software\\lib\\site-packages (from ipywidgets>=7.0.0->cufflinks) (0.2.0)\n",
      "Requirement already satisfied: jupyterlab-widgets>=1.0.0 in d:\\software\\lib\\site-packages (from ipywidgets>=7.0.0->cufflinks) (1.0.0)\n",
      "Requirement already satisfied: ipykernel>=4.5.1 in d:\\software\\lib\\site-packages (from ipywidgets>=7.0.0->cufflinks) (6.9.1)\n",
      "Requirement already satisfied: jupyter-client<8.0 in d:\\software\\lib\\site-packages (from ipykernel>=4.5.1->ipywidgets>=7.0.0->cufflinks) (6.1.12)\n",
      "Requirement already satisfied: tornado<7.0,>=4.2 in d:\\software\\lib\\site-packages (from ipykernel>=4.5.1->ipywidgets>=7.0.0->cufflinks) (6.1)\n",
      "Requirement already satisfied: debugpy<2.0,>=1.0.0 in d:\\software\\lib\\site-packages (from ipykernel>=4.5.1->ipywidgets>=7.0.0->cufflinks) (1.5.1)\n",
      "Requirement already satisfied: nest-asyncio in d:\\software\\lib\\site-packages (from ipykernel>=4.5.1->ipywidgets>=7.0.0->cufflinks) (1.5.5)\n",
      "Requirement already satisfied: parso<0.9.0,>=0.8.0 in d:\\software\\lib\\site-packages (from jedi>=0.16->ipython>=5.3.0->cufflinks) (0.8.3)\n",
      "Requirement already satisfied: pyzmq>=13 in d:\\software\\lib\\site-packages (from jupyter-client<8.0->ipykernel>=4.5.1->ipywidgets>=7.0.0->cufflinks) (22.3.0)\n",
      "Requirement already satisfied: python-dateutil>=2.1 in d:\\software\\lib\\site-packages (from jupyter-client<8.0->ipykernel>=4.5.1->ipywidgets>=7.0.0->cufflinks) (2.8.2)\n",
      "Requirement already satisfied: jupyter-core>=4.6.0 in d:\\software\\lib\\site-packages (from jupyter-client<8.0->ipykernel>=4.5.1->ipywidgets>=7.0.0->cufflinks) (4.9.2)\n",
      "Requirement already satisfied: pywin32>=1.0 in d:\\software\\lib\\site-packages (from jupyter-core>=4.6.0->jupyter-client<8.0->ipykernel>=4.5.1->ipywidgets>=7.0.0->cufflinks) (302)\n",
      "Requirement already satisfied: jsonschema>=2.6 in d:\\software\\lib\\site-packages (from nbformat>=4.2.0->ipywidgets>=7.0.0->cufflinks) (4.4.0)\n",
      "Requirement already satisfied: fastjsonschema in d:\\software\\lib\\site-packages (from nbformat>=4.2.0->ipywidgets>=7.0.0->cufflinks) (2.15.1)\n",
      "Requirement already satisfied: pyrsistent!=0.17.0,!=0.17.1,!=0.17.2,>=0.14.0 in d:\\software\\lib\\site-packages (from jsonschema>=2.6->nbformat>=4.2.0->ipywidgets>=7.0.0->cufflinks) (0.18.0)\n",
      "Requirement already satisfied: attrs>=17.4.0 in d:\\software\\lib\\site-packages (from jsonschema>=2.6->nbformat>=4.2.0->ipywidgets>=7.0.0->cufflinks) (21.4.0)\n",
      "Requirement already satisfied: pytz>=2020.1 in d:\\software\\lib\\site-packages (from pandas>=0.19.2->cufflinks) (2021.3)\n",
      "Requirement already satisfied: tenacity>=6.2.0 in d:\\software\\lib\\site-packages (from plotly>=4.1.1->cufflinks) (8.0.1)\n",
      "Requirement already satisfied: wcwidth in d:\\software\\lib\\site-packages (from prompt-toolkit!=3.0.0,!=3.0.1,<3.1.0,>=2.0.0->ipython>=5.3.0->cufflinks) (0.2.5)\n",
      "Requirement already satisfied: notebook>=4.4.1 in d:\\software\\lib\\site-packages (from widgetsnbextension~=3.5.0->ipywidgets>=7.0.0->cufflinks) (6.4.8)\n",
      "Requirement already satisfied: prometheus-client in d:\\software\\lib\\site-packages (from notebook>=4.4.1->widgetsnbextension~=3.5.0->ipywidgets>=7.0.0->cufflinks) (0.13.1)\n",
      "Requirement already satisfied: nbconvert in d:\\software\\lib\\site-packages (from notebook>=4.4.1->widgetsnbextension~=3.5.0->ipywidgets>=7.0.0->cufflinks) (6.4.4)\n",
      "Requirement already satisfied: argon2-cffi in d:\\software\\lib\\site-packages (from notebook>=4.4.1->widgetsnbextension~=3.5.0->ipywidgets>=7.0.0->cufflinks) (21.3.0)\n",
      "Requirement already satisfied: terminado>=0.8.3 in d:\\software\\lib\\site-packages (from notebook>=4.4.1->widgetsnbextension~=3.5.0->ipywidgets>=7.0.0->cufflinks) (0.13.1)\n",
      "Requirement already satisfied: jinja2 in d:\\software\\lib\\site-packages (from notebook>=4.4.1->widgetsnbextension~=3.5.0->ipywidgets>=7.0.0->cufflinks) (2.11.3)\n",
      "Requirement already satisfied: Send2Trash>=1.8.0 in d:\\software\\lib\\site-packages (from notebook>=4.4.1->widgetsnbextension~=3.5.0->ipywidgets>=7.0.0->cufflinks) (1.8.0)\n",
      "Requirement already satisfied: pywinpty>=1.1.0 in d:\\software\\lib\\site-packages (from terminado>=0.8.3->notebook>=4.4.1->widgetsnbextension~=3.5.0->ipywidgets>=7.0.0->cufflinks) (2.0.2)\n",
      "Requirement already satisfied: argon2-cffi-bindings in d:\\software\\lib\\site-packages (from argon2-cffi->notebook>=4.4.1->widgetsnbextension~=3.5.0->ipywidgets>=7.0.0->cufflinks) (21.2.0)\n",
      "Requirement already satisfied: cffi>=1.0.1 in d:\\software\\lib\\site-packages (from argon2-cffi-bindings->argon2-cffi->notebook>=4.4.1->widgetsnbextension~=3.5.0->ipywidgets>=7.0.0->cufflinks) (1.15.0)\n",
      "Requirement already satisfied: pycparser in d:\\software\\lib\\site-packages (from cffi>=1.0.1->argon2-cffi-bindings->argon2-cffi->notebook>=4.4.1->widgetsnbextension~=3.5.0->ipywidgets>=7.0.0->cufflinks) (2.21)\n",
      "Requirement already satisfied: MarkupSafe>=0.23 in d:\\software\\lib\\site-packages (from jinja2->notebook>=4.4.1->widgetsnbextension~=3.5.0->ipywidgets>=7.0.0->cufflinks) (2.0.1)\n",
      "Requirement already satisfied: bleach in d:\\software\\lib\\site-packages (from nbconvert->notebook>=4.4.1->widgetsnbextension~=3.5.0->ipywidgets>=7.0.0->cufflinks) (4.1.0)\n",
      "Requirement already satisfied: nbclient<0.6.0,>=0.5.0 in d:\\software\\lib\\site-packages (from nbconvert->notebook>=4.4.1->widgetsnbextension~=3.5.0->ipywidgets>=7.0.0->cufflinks) (0.5.13)\n",
      "Requirement already satisfied: pandocfilters>=1.4.1 in d:\\software\\lib\\site-packages (from nbconvert->notebook>=4.4.1->widgetsnbextension~=3.5.0->ipywidgets>=7.0.0->cufflinks) (1.5.0)\n",
      "Requirement already satisfied: testpath in d:\\software\\lib\\site-packages (from nbconvert->notebook>=4.4.1->widgetsnbextension~=3.5.0->ipywidgets>=7.0.0->cufflinks) (0.5.0)\n",
      "Requirement already satisfied: defusedxml in d:\\software\\lib\\site-packages (from nbconvert->notebook>=4.4.1->widgetsnbextension~=3.5.0->ipywidgets>=7.0.0->cufflinks) (0.7.1)\n",
      "Requirement already satisfied: beautifulsoup4 in d:\\software\\lib\\site-packages (from nbconvert->notebook>=4.4.1->widgetsnbextension~=3.5.0->ipywidgets>=7.0.0->cufflinks) (4.11.1)\n",
      "Requirement already satisfied: entrypoints>=0.2.2 in d:\\software\\lib\\site-packages (from nbconvert->notebook>=4.4.1->widgetsnbextension~=3.5.0->ipywidgets>=7.0.0->cufflinks) (0.4)\n",
      "Requirement already satisfied: mistune<2,>=0.8.1 in d:\\software\\lib\\site-packages (from nbconvert->notebook>=4.4.1->widgetsnbextension~=3.5.0->ipywidgets>=7.0.0->cufflinks) (0.8.4)\n",
      "Requirement already satisfied: jupyterlab-pygments in d:\\software\\lib\\site-packages (from nbconvert->notebook>=4.4.1->widgetsnbextension~=3.5.0->ipywidgets>=7.0.0->cufflinks) (0.1.2)\n",
      "Requirement already satisfied: soupsieve>1.2 in d:\\software\\lib\\site-packages (from beautifulsoup4->nbconvert->notebook>=4.4.1->widgetsnbextension~=3.5.0->ipywidgets>=7.0.0->cufflinks) (2.3.1)\n",
      "Requirement already satisfied: webencodings in d:\\software\\lib\\site-packages (from bleach->nbconvert->notebook>=4.4.1->widgetsnbextension~=3.5.0->ipywidgets>=7.0.0->cufflinks) (0.5.1)\n",
      "Requirement already satisfied: packaging in d:\\software\\lib\\site-packages (from bleach->nbconvert->notebook>=4.4.1->widgetsnbextension~=3.5.0->ipywidgets>=7.0.0->cufflinks) (21.3)\n",
      "Requirement already satisfied: pyparsing!=3.0.5,>=2.0.2 in d:\\software\\lib\\site-packages (from packaging->bleach->nbconvert->notebook>=4.4.1->widgetsnbextension~=3.5.0->ipywidgets>=7.0.0->cufflinks) (3.0.4)\n",
      "Requirement already satisfied: asttokens in d:\\software\\lib\\site-packages (from stack-data->ipython>=5.3.0->cufflinks) (2.0.5)\n",
      "Requirement already satisfied: executing in d:\\software\\lib\\site-packages (from stack-data->ipython>=5.3.0->cufflinks) (0.8.3)\n",
      "Requirement already satisfied: pure-eval in d:\\software\\lib\\site-packages (from stack-data->ipython>=5.3.0->cufflinks) (0.2.2)\n",
      "Building wheels for collected packages: cufflinks\n",
      "  Building wheel for cufflinks (setup.py): started\n",
      "  Building wheel for cufflinks (setup.py): finished with status 'done'\n",
      "  Created wheel for cufflinks: filename=cufflinks-0.17.3-py3-none-any.whl size=68736 sha256=f92c12886a07eb472d696fd8d2e5331a37a67ebaf9a882697d1f4dcd3346edfd\n",
      "  Stored in directory: c:\\users\\axil rana\\appdata\\local\\pip\\cache\\wheels\\29\\b4\\f8\\2fd2206eeeba6ccad8167e4e8894b8c4ec27bf1342037fd136\n",
      "Successfully built cufflinks\n",
      "Installing collected packages: colorlover, cufflinks\n",
      "Successfully installed colorlover-0.3.0 cufflinks-0.17.3\n",
      "Note: you may need to restart the kernel to use updated packages.\n"
     ]
    }
   ],
   "source": [
    "pip install cufflinks"
   ]
  },
  {
   "cell_type": "code",
   "execution_count": 3,
   "id": "6563dd66",
   "metadata": {},
   "outputs": [],
   "source": [
    "import cufflinks as cf"
   ]
  },
  {
   "cell_type": "code",
   "execution_count": 4,
   "id": "5ed9085a",
   "metadata": {},
   "outputs": [
    {
     "data": {
      "text/html": [
       "        <script type=\"text/javascript\">\n",
       "        window.PlotlyConfig = {MathJaxConfig: 'local'};\n",
       "        if (window.MathJax) {MathJax.Hub.Config({SVG: {font: \"STIX-Web\"}});}\n",
       "        if (typeof require !== 'undefined') {\n",
       "        require.undef(\"plotly\");\n",
       "        requirejs.config({\n",
       "            paths: {\n",
       "                'plotly': ['https://cdn.plot.ly/plotly-2.9.0.min']\n",
       "            }\n",
       "        });\n",
       "        require(['plotly'], function(Plotly) {\n",
       "            window._Plotly = Plotly;\n",
       "        });\n",
       "        }\n",
       "        </script>\n",
       "        "
      ]
     },
     "metadata": {},
     "output_type": "display_data"
    },
    {
     "data": {
      "text/html": [
       "        <script type=\"text/javascript\">\n",
       "        window.PlotlyConfig = {MathJaxConfig: 'local'};\n",
       "        if (window.MathJax) {MathJax.Hub.Config({SVG: {font: \"STIX-Web\"}});}\n",
       "        if (typeof require !== 'undefined') {\n",
       "        require.undef(\"plotly\");\n",
       "        requirejs.config({\n",
       "            paths: {\n",
       "                'plotly': ['https://cdn.plot.ly/plotly-2.9.0.min']\n",
       "            }\n",
       "        });\n",
       "        require(['plotly'], function(Plotly) {\n",
       "            window._Plotly = Plotly;\n",
       "        });\n",
       "        }\n",
       "        </script>\n",
       "        "
      ]
     },
     "metadata": {},
     "output_type": "display_data"
    }
   ],
   "source": [
    "py.offline.init_notebook_mode(connected=True)\n",
    "cf.go_offline()"
   ]
  },
  {
   "cell_type": "code",
   "execution_count": 5,
   "id": "15350adf",
   "metadata": {},
   "outputs": [],
   "source": [
    "import plotly as py "
   ]
  },
  {
   "cell_type": "code",
   "execution_count": null,
   "id": "aaa14278",
   "metadata": {},
   "outputs": [],
   "source": []
  },
  {
   "cell_type": "code",
   "execution_count": null,
   "id": "8f7086d9",
   "metadata": {},
   "outputs": [],
   "source": []
  },
  {
   "cell_type": "code",
   "execution_count": 2,
   "id": "094c4ae4",
   "metadata": {},
   "outputs": [],
   "source": [
    "import pandas as pd "
   ]
  },
  {
   "cell_type": "code",
   "execution_count": 6,
   "id": "a847c652",
   "metadata": {},
   "outputs": [
    {
     "data": {
      "application/vnd.plotly.v1+json": {
       "config": {
        "linkText": "Export to plot.ly",
        "plotlyServerURL": "https://plot.ly",
        "showLink": true
       },
       "data": [
        {
         "boxpoints": false,
         "line": {
          "width": 1.3
         },
         "marker": {
          "color": "rgba(255, 153, 51, 1.0)"
         },
         "name": "0",
         "orientation": "v",
         "type": "box",
         "y": [
          1,
          2,
          3,
          4,
          5,
          6,
          7,
          8,
          9,
          10,
          11,
          2,
          1,
          3,
          4,
          5,
          2,
          110,
          111,
          101
         ]
        }
       ],
       "layout": {
        "legend": {
         "bgcolor": "#151516",
         "font": {
          "color": "#D9D9D9"
         }
        },
        "paper_bgcolor": "#151516",
        "plot_bgcolor": "#151516",
        "template": {
         "data": {
          "bar": [
           {
            "error_x": {
             "color": "#2a3f5f"
            },
            "error_y": {
             "color": "#2a3f5f"
            },
            "marker": {
             "line": {
              "color": "#E5ECF6",
              "width": 0.5
             },
             "pattern": {
              "fillmode": "overlay",
              "size": 10,
              "solidity": 0.2
             }
            },
            "type": "bar"
           }
          ],
          "barpolar": [
           {
            "marker": {
             "line": {
              "color": "#E5ECF6",
              "width": 0.5
             },
             "pattern": {
              "fillmode": "overlay",
              "size": 10,
              "solidity": 0.2
             }
            },
            "type": "barpolar"
           }
          ],
          "carpet": [
           {
            "aaxis": {
             "endlinecolor": "#2a3f5f",
             "gridcolor": "white",
             "linecolor": "white",
             "minorgridcolor": "white",
             "startlinecolor": "#2a3f5f"
            },
            "baxis": {
             "endlinecolor": "#2a3f5f",
             "gridcolor": "white",
             "linecolor": "white",
             "minorgridcolor": "white",
             "startlinecolor": "#2a3f5f"
            },
            "type": "carpet"
           }
          ],
          "choropleth": [
           {
            "colorbar": {
             "outlinewidth": 0,
             "ticks": ""
            },
            "type": "choropleth"
           }
          ],
          "contour": [
           {
            "colorbar": {
             "outlinewidth": 0,
             "ticks": ""
            },
            "colorscale": [
             [
              0,
              "#0d0887"
             ],
             [
              0.1111111111111111,
              "#46039f"
             ],
             [
              0.2222222222222222,
              "#7201a8"
             ],
             [
              0.3333333333333333,
              "#9c179e"
             ],
             [
              0.4444444444444444,
              "#bd3786"
             ],
             [
              0.5555555555555556,
              "#d8576b"
             ],
             [
              0.6666666666666666,
              "#ed7953"
             ],
             [
              0.7777777777777778,
              "#fb9f3a"
             ],
             [
              0.8888888888888888,
              "#fdca26"
             ],
             [
              1,
              "#f0f921"
             ]
            ],
            "type": "contour"
           }
          ],
          "contourcarpet": [
           {
            "colorbar": {
             "outlinewidth": 0,
             "ticks": ""
            },
            "type": "contourcarpet"
           }
          ],
          "heatmap": [
           {
            "colorbar": {
             "outlinewidth": 0,
             "ticks": ""
            },
            "colorscale": [
             [
              0,
              "#0d0887"
             ],
             [
              0.1111111111111111,
              "#46039f"
             ],
             [
              0.2222222222222222,
              "#7201a8"
             ],
             [
              0.3333333333333333,
              "#9c179e"
             ],
             [
              0.4444444444444444,
              "#bd3786"
             ],
             [
              0.5555555555555556,
              "#d8576b"
             ],
             [
              0.6666666666666666,
              "#ed7953"
             ],
             [
              0.7777777777777778,
              "#fb9f3a"
             ],
             [
              0.8888888888888888,
              "#fdca26"
             ],
             [
              1,
              "#f0f921"
             ]
            ],
            "type": "heatmap"
           }
          ],
          "heatmapgl": [
           {
            "colorbar": {
             "outlinewidth": 0,
             "ticks": ""
            },
            "colorscale": [
             [
              0,
              "#0d0887"
             ],
             [
              0.1111111111111111,
              "#46039f"
             ],
             [
              0.2222222222222222,
              "#7201a8"
             ],
             [
              0.3333333333333333,
              "#9c179e"
             ],
             [
              0.4444444444444444,
              "#bd3786"
             ],
             [
              0.5555555555555556,
              "#d8576b"
             ],
             [
              0.6666666666666666,
              "#ed7953"
             ],
             [
              0.7777777777777778,
              "#fb9f3a"
             ],
             [
              0.8888888888888888,
              "#fdca26"
             ],
             [
              1,
              "#f0f921"
             ]
            ],
            "type": "heatmapgl"
           }
          ],
          "histogram": [
           {
            "marker": {
             "pattern": {
              "fillmode": "overlay",
              "size": 10,
              "solidity": 0.2
             }
            },
            "type": "histogram"
           }
          ],
          "histogram2d": [
           {
            "colorbar": {
             "outlinewidth": 0,
             "ticks": ""
            },
            "colorscale": [
             [
              0,
              "#0d0887"
             ],
             [
              0.1111111111111111,
              "#46039f"
             ],
             [
              0.2222222222222222,
              "#7201a8"
             ],
             [
              0.3333333333333333,
              "#9c179e"
             ],
             [
              0.4444444444444444,
              "#bd3786"
             ],
             [
              0.5555555555555556,
              "#d8576b"
             ],
             [
              0.6666666666666666,
              "#ed7953"
             ],
             [
              0.7777777777777778,
              "#fb9f3a"
             ],
             [
              0.8888888888888888,
              "#fdca26"
             ],
             [
              1,
              "#f0f921"
             ]
            ],
            "type": "histogram2d"
           }
          ],
          "histogram2dcontour": [
           {
            "colorbar": {
             "outlinewidth": 0,
             "ticks": ""
            },
            "colorscale": [
             [
              0,
              "#0d0887"
             ],
             [
              0.1111111111111111,
              "#46039f"
             ],
             [
              0.2222222222222222,
              "#7201a8"
             ],
             [
              0.3333333333333333,
              "#9c179e"
             ],
             [
              0.4444444444444444,
              "#bd3786"
             ],
             [
              0.5555555555555556,
              "#d8576b"
             ],
             [
              0.6666666666666666,
              "#ed7953"
             ],
             [
              0.7777777777777778,
              "#fb9f3a"
             ],
             [
              0.8888888888888888,
              "#fdca26"
             ],
             [
              1,
              "#f0f921"
             ]
            ],
            "type": "histogram2dcontour"
           }
          ],
          "mesh3d": [
           {
            "colorbar": {
             "outlinewidth": 0,
             "ticks": ""
            },
            "type": "mesh3d"
           }
          ],
          "parcoords": [
           {
            "line": {
             "colorbar": {
              "outlinewidth": 0,
              "ticks": ""
             }
            },
            "type": "parcoords"
           }
          ],
          "pie": [
           {
            "automargin": true,
            "type": "pie"
           }
          ],
          "scatter": [
           {
            "marker": {
             "colorbar": {
              "outlinewidth": 0,
              "ticks": ""
             }
            },
            "type": "scatter"
           }
          ],
          "scatter3d": [
           {
            "line": {
             "colorbar": {
              "outlinewidth": 0,
              "ticks": ""
             }
            },
            "marker": {
             "colorbar": {
              "outlinewidth": 0,
              "ticks": ""
             }
            },
            "type": "scatter3d"
           }
          ],
          "scattercarpet": [
           {
            "marker": {
             "colorbar": {
              "outlinewidth": 0,
              "ticks": ""
             }
            },
            "type": "scattercarpet"
           }
          ],
          "scattergeo": [
           {
            "marker": {
             "colorbar": {
              "outlinewidth": 0,
              "ticks": ""
             }
            },
            "type": "scattergeo"
           }
          ],
          "scattergl": [
           {
            "marker": {
             "colorbar": {
              "outlinewidth": 0,
              "ticks": ""
             }
            },
            "type": "scattergl"
           }
          ],
          "scattermapbox": [
           {
            "marker": {
             "colorbar": {
              "outlinewidth": 0,
              "ticks": ""
             }
            },
            "type": "scattermapbox"
           }
          ],
          "scatterpolar": [
           {
            "marker": {
             "colorbar": {
              "outlinewidth": 0,
              "ticks": ""
             }
            },
            "type": "scatterpolar"
           }
          ],
          "scatterpolargl": [
           {
            "marker": {
             "colorbar": {
              "outlinewidth": 0,
              "ticks": ""
             }
            },
            "type": "scatterpolargl"
           }
          ],
          "scatterternary": [
           {
            "marker": {
             "colorbar": {
              "outlinewidth": 0,
              "ticks": ""
             }
            },
            "type": "scatterternary"
           }
          ],
          "surface": [
           {
            "colorbar": {
             "outlinewidth": 0,
             "ticks": ""
            },
            "colorscale": [
             [
              0,
              "#0d0887"
             ],
             [
              0.1111111111111111,
              "#46039f"
             ],
             [
              0.2222222222222222,
              "#7201a8"
             ],
             [
              0.3333333333333333,
              "#9c179e"
             ],
             [
              0.4444444444444444,
              "#bd3786"
             ],
             [
              0.5555555555555556,
              "#d8576b"
             ],
             [
              0.6666666666666666,
              "#ed7953"
             ],
             [
              0.7777777777777778,
              "#fb9f3a"
             ],
             [
              0.8888888888888888,
              "#fdca26"
             ],
             [
              1,
              "#f0f921"
             ]
            ],
            "type": "surface"
           }
          ],
          "table": [
           {
            "cells": {
             "fill": {
              "color": "#EBF0F8"
             },
             "line": {
              "color": "white"
             }
            },
            "header": {
             "fill": {
              "color": "#C8D4E3"
             },
             "line": {
              "color": "white"
             }
            },
            "type": "table"
           }
          ]
         },
         "layout": {
          "annotationdefaults": {
           "arrowcolor": "#2a3f5f",
           "arrowhead": 0,
           "arrowwidth": 1
          },
          "autotypenumbers": "strict",
          "coloraxis": {
           "colorbar": {
            "outlinewidth": 0,
            "ticks": ""
           }
          },
          "colorscale": {
           "diverging": [
            [
             0,
             "#8e0152"
            ],
            [
             0.1,
             "#c51b7d"
            ],
            [
             0.2,
             "#de77ae"
            ],
            [
             0.3,
             "#f1b6da"
            ],
            [
             0.4,
             "#fde0ef"
            ],
            [
             0.5,
             "#f7f7f7"
            ],
            [
             0.6,
             "#e6f5d0"
            ],
            [
             0.7,
             "#b8e186"
            ],
            [
             0.8,
             "#7fbc41"
            ],
            [
             0.9,
             "#4d9221"
            ],
            [
             1,
             "#276419"
            ]
           ],
           "sequential": [
            [
             0,
             "#0d0887"
            ],
            [
             0.1111111111111111,
             "#46039f"
            ],
            [
             0.2222222222222222,
             "#7201a8"
            ],
            [
             0.3333333333333333,
             "#9c179e"
            ],
            [
             0.4444444444444444,
             "#bd3786"
            ],
            [
             0.5555555555555556,
             "#d8576b"
            ],
            [
             0.6666666666666666,
             "#ed7953"
            ],
            [
             0.7777777777777778,
             "#fb9f3a"
            ],
            [
             0.8888888888888888,
             "#fdca26"
            ],
            [
             1,
             "#f0f921"
            ]
           ],
           "sequentialminus": [
            [
             0,
             "#0d0887"
            ],
            [
             0.1111111111111111,
             "#46039f"
            ],
            [
             0.2222222222222222,
             "#7201a8"
            ],
            [
             0.3333333333333333,
             "#9c179e"
            ],
            [
             0.4444444444444444,
             "#bd3786"
            ],
            [
             0.5555555555555556,
             "#d8576b"
            ],
            [
             0.6666666666666666,
             "#ed7953"
            ],
            [
             0.7777777777777778,
             "#fb9f3a"
            ],
            [
             0.8888888888888888,
             "#fdca26"
            ],
            [
             1,
             "#f0f921"
            ]
           ]
          },
          "colorway": [
           "#636efa",
           "#EF553B",
           "#00cc96",
           "#ab63fa",
           "#FFA15A",
           "#19d3f3",
           "#FF6692",
           "#B6E880",
           "#FF97FF",
           "#FECB52"
          ],
          "font": {
           "color": "#2a3f5f"
          },
          "geo": {
           "bgcolor": "white",
           "lakecolor": "white",
           "landcolor": "#E5ECF6",
           "showlakes": true,
           "showland": true,
           "subunitcolor": "white"
          },
          "hoverlabel": {
           "align": "left"
          },
          "hovermode": "closest",
          "mapbox": {
           "style": "light"
          },
          "paper_bgcolor": "white",
          "plot_bgcolor": "#E5ECF6",
          "polar": {
           "angularaxis": {
            "gridcolor": "white",
            "linecolor": "white",
            "ticks": ""
           },
           "bgcolor": "#E5ECF6",
           "radialaxis": {
            "gridcolor": "white",
            "linecolor": "white",
            "ticks": ""
           }
          },
          "scene": {
           "xaxis": {
            "backgroundcolor": "#E5ECF6",
            "gridcolor": "white",
            "gridwidth": 2,
            "linecolor": "white",
            "showbackground": true,
            "ticks": "",
            "zerolinecolor": "white"
           },
           "yaxis": {
            "backgroundcolor": "#E5ECF6",
            "gridcolor": "white",
            "gridwidth": 2,
            "linecolor": "white",
            "showbackground": true,
            "ticks": "",
            "zerolinecolor": "white"
           },
           "zaxis": {
            "backgroundcolor": "#E5ECF6",
            "gridcolor": "white",
            "gridwidth": 2,
            "linecolor": "white",
            "showbackground": true,
            "ticks": "",
            "zerolinecolor": "white"
           }
          },
          "shapedefaults": {
           "line": {
            "color": "#2a3f5f"
           }
          },
          "ternary": {
           "aaxis": {
            "gridcolor": "white",
            "linecolor": "white",
            "ticks": ""
           },
           "baxis": {
            "gridcolor": "white",
            "linecolor": "white",
            "ticks": ""
           },
           "bgcolor": "#E5ECF6",
           "caxis": {
            "gridcolor": "white",
            "linecolor": "white",
            "ticks": ""
           }
          },
          "title": {
           "x": 0.05
          },
          "xaxis": {
           "automargin": true,
           "gridcolor": "white",
           "linecolor": "white",
           "ticks": "",
           "title": {
            "standoff": 15
           },
           "zerolinecolor": "white",
           "zerolinewidth": 2
          },
          "yaxis": {
           "automargin": true,
           "gridcolor": "white",
           "linecolor": "white",
           "ticks": "",
           "title": {
            "standoff": 15
           },
           "zerolinecolor": "white",
           "zerolinewidth": 2
          }
         }
        },
        "title": {
         "font": {
          "color": "#D9D9D9"
         }
        },
        "xaxis": {
         "gridcolor": "#434343",
         "showgrid": true,
         "tickfont": {
          "color": "#C2C2C2"
         },
         "title": {
          "font": {
           "color": "#D9D9D9"
          },
          "text": ""
         },
         "zerolinecolor": "#666570"
        },
        "yaxis": {
         "gridcolor": "#434343",
         "showgrid": true,
         "tickfont": {
          "color": "#C2C2C2"
         },
         "title": {
          "font": {
           "color": "#D9D9D9"
          },
          "text": ""
         },
         "zerolinecolor": "#666570"
        }
       }
      },
      "text/html": [
       "<div>                            <div id=\"081eaa71-c681-4d04-935d-88e410742bc5\" class=\"plotly-graph-div\" style=\"height:525px; width:100%;\"></div>            <script type=\"text/javascript\">                require([\"plotly\"], function(Plotly) {                    window.PLOTLYENV=window.PLOTLYENV || {};\n",
       "                    window.PLOTLYENV.BASE_URL='https://plot.ly';                                    if (document.getElementById(\"081eaa71-c681-4d04-935d-88e410742bc5\")) {                    Plotly.newPlot(                        \"081eaa71-c681-4d04-935d-88e410742bc5\",                        [{\"boxpoints\":false,\"line\":{\"width\":1.3},\"marker\":{\"color\":\"rgba(255, 153, 51, 1.0)\"},\"name\":\"0\",\"orientation\":\"v\",\"y\":[1,2,3,4,5,6,7,8,9,10,11,2,1,3,4,5,2,110,111,101],\"type\":\"box\"}],                        {\"legend\":{\"bgcolor\":\"#151516\",\"font\":{\"color\":\"#D9D9D9\"}},\"paper_bgcolor\":\"#151516\",\"plot_bgcolor\":\"#151516\",\"template\":{\"data\":{\"barpolar\":[{\"marker\":{\"line\":{\"color\":\"#E5ECF6\",\"width\":0.5},\"pattern\":{\"fillmode\":\"overlay\",\"size\":10,\"solidity\":0.2}},\"type\":\"barpolar\"}],\"bar\":[{\"error_x\":{\"color\":\"#2a3f5f\"},\"error_y\":{\"color\":\"#2a3f5f\"},\"marker\":{\"line\":{\"color\":\"#E5ECF6\",\"width\":0.5},\"pattern\":{\"fillmode\":\"overlay\",\"size\":10,\"solidity\":0.2}},\"type\":\"bar\"}],\"carpet\":[{\"aaxis\":{\"endlinecolor\":\"#2a3f5f\",\"gridcolor\":\"white\",\"linecolor\":\"white\",\"minorgridcolor\":\"white\",\"startlinecolor\":\"#2a3f5f\"},\"baxis\":{\"endlinecolor\":\"#2a3f5f\",\"gridcolor\":\"white\",\"linecolor\":\"white\",\"minorgridcolor\":\"white\",\"startlinecolor\":\"#2a3f5f\"},\"type\":\"carpet\"}],\"choropleth\":[{\"colorbar\":{\"outlinewidth\":0,\"ticks\":\"\"},\"type\":\"choropleth\"}],\"contourcarpet\":[{\"colorbar\":{\"outlinewidth\":0,\"ticks\":\"\"},\"type\":\"contourcarpet\"}],\"contour\":[{\"colorbar\":{\"outlinewidth\":0,\"ticks\":\"\"},\"colorscale\":[[0.0,\"#0d0887\"],[0.1111111111111111,\"#46039f\"],[0.2222222222222222,\"#7201a8\"],[0.3333333333333333,\"#9c179e\"],[0.4444444444444444,\"#bd3786\"],[0.5555555555555556,\"#d8576b\"],[0.6666666666666666,\"#ed7953\"],[0.7777777777777778,\"#fb9f3a\"],[0.8888888888888888,\"#fdca26\"],[1.0,\"#f0f921\"]],\"type\":\"contour\"}],\"heatmapgl\":[{\"colorbar\":{\"outlinewidth\":0,\"ticks\":\"\"},\"colorscale\":[[0.0,\"#0d0887\"],[0.1111111111111111,\"#46039f\"],[0.2222222222222222,\"#7201a8\"],[0.3333333333333333,\"#9c179e\"],[0.4444444444444444,\"#bd3786\"],[0.5555555555555556,\"#d8576b\"],[0.6666666666666666,\"#ed7953\"],[0.7777777777777778,\"#fb9f3a\"],[0.8888888888888888,\"#fdca26\"],[1.0,\"#f0f921\"]],\"type\":\"heatmapgl\"}],\"heatmap\":[{\"colorbar\":{\"outlinewidth\":0,\"ticks\":\"\"},\"colorscale\":[[0.0,\"#0d0887\"],[0.1111111111111111,\"#46039f\"],[0.2222222222222222,\"#7201a8\"],[0.3333333333333333,\"#9c179e\"],[0.4444444444444444,\"#bd3786\"],[0.5555555555555556,\"#d8576b\"],[0.6666666666666666,\"#ed7953\"],[0.7777777777777778,\"#fb9f3a\"],[0.8888888888888888,\"#fdca26\"],[1.0,\"#f0f921\"]],\"type\":\"heatmap\"}],\"histogram2dcontour\":[{\"colorbar\":{\"outlinewidth\":0,\"ticks\":\"\"},\"colorscale\":[[0.0,\"#0d0887\"],[0.1111111111111111,\"#46039f\"],[0.2222222222222222,\"#7201a8\"],[0.3333333333333333,\"#9c179e\"],[0.4444444444444444,\"#bd3786\"],[0.5555555555555556,\"#d8576b\"],[0.6666666666666666,\"#ed7953\"],[0.7777777777777778,\"#fb9f3a\"],[0.8888888888888888,\"#fdca26\"],[1.0,\"#f0f921\"]],\"type\":\"histogram2dcontour\"}],\"histogram2d\":[{\"colorbar\":{\"outlinewidth\":0,\"ticks\":\"\"},\"colorscale\":[[0.0,\"#0d0887\"],[0.1111111111111111,\"#46039f\"],[0.2222222222222222,\"#7201a8\"],[0.3333333333333333,\"#9c179e\"],[0.4444444444444444,\"#bd3786\"],[0.5555555555555556,\"#d8576b\"],[0.6666666666666666,\"#ed7953\"],[0.7777777777777778,\"#fb9f3a\"],[0.8888888888888888,\"#fdca26\"],[1.0,\"#f0f921\"]],\"type\":\"histogram2d\"}],\"histogram\":[{\"marker\":{\"pattern\":{\"fillmode\":\"overlay\",\"size\":10,\"solidity\":0.2}},\"type\":\"histogram\"}],\"mesh3d\":[{\"colorbar\":{\"outlinewidth\":0,\"ticks\":\"\"},\"type\":\"mesh3d\"}],\"parcoords\":[{\"line\":{\"colorbar\":{\"outlinewidth\":0,\"ticks\":\"\"}},\"type\":\"parcoords\"}],\"pie\":[{\"automargin\":true,\"type\":\"pie\"}],\"scatter3d\":[{\"line\":{\"colorbar\":{\"outlinewidth\":0,\"ticks\":\"\"}},\"marker\":{\"colorbar\":{\"outlinewidth\":0,\"ticks\":\"\"}},\"type\":\"scatter3d\"}],\"scattercarpet\":[{\"marker\":{\"colorbar\":{\"outlinewidth\":0,\"ticks\":\"\"}},\"type\":\"scattercarpet\"}],\"scattergeo\":[{\"marker\":{\"colorbar\":{\"outlinewidth\":0,\"ticks\":\"\"}},\"type\":\"scattergeo\"}],\"scattergl\":[{\"marker\":{\"colorbar\":{\"outlinewidth\":0,\"ticks\":\"\"}},\"type\":\"scattergl\"}],\"scattermapbox\":[{\"marker\":{\"colorbar\":{\"outlinewidth\":0,\"ticks\":\"\"}},\"type\":\"scattermapbox\"}],\"scatterpolargl\":[{\"marker\":{\"colorbar\":{\"outlinewidth\":0,\"ticks\":\"\"}},\"type\":\"scatterpolargl\"}],\"scatterpolar\":[{\"marker\":{\"colorbar\":{\"outlinewidth\":0,\"ticks\":\"\"}},\"type\":\"scatterpolar\"}],\"scatter\":[{\"marker\":{\"colorbar\":{\"outlinewidth\":0,\"ticks\":\"\"}},\"type\":\"scatter\"}],\"scatterternary\":[{\"marker\":{\"colorbar\":{\"outlinewidth\":0,\"ticks\":\"\"}},\"type\":\"scatterternary\"}],\"surface\":[{\"colorbar\":{\"outlinewidth\":0,\"ticks\":\"\"},\"colorscale\":[[0.0,\"#0d0887\"],[0.1111111111111111,\"#46039f\"],[0.2222222222222222,\"#7201a8\"],[0.3333333333333333,\"#9c179e\"],[0.4444444444444444,\"#bd3786\"],[0.5555555555555556,\"#d8576b\"],[0.6666666666666666,\"#ed7953\"],[0.7777777777777778,\"#fb9f3a\"],[0.8888888888888888,\"#fdca26\"],[1.0,\"#f0f921\"]],\"type\":\"surface\"}],\"table\":[{\"cells\":{\"fill\":{\"color\":\"#EBF0F8\"},\"line\":{\"color\":\"white\"}},\"header\":{\"fill\":{\"color\":\"#C8D4E3\"},\"line\":{\"color\":\"white\"}},\"type\":\"table\"}]},\"layout\":{\"annotationdefaults\":{\"arrowcolor\":\"#2a3f5f\",\"arrowhead\":0,\"arrowwidth\":1},\"autotypenumbers\":\"strict\",\"coloraxis\":{\"colorbar\":{\"outlinewidth\":0,\"ticks\":\"\"}},\"colorscale\":{\"diverging\":[[0,\"#8e0152\"],[0.1,\"#c51b7d\"],[0.2,\"#de77ae\"],[0.3,\"#f1b6da\"],[0.4,\"#fde0ef\"],[0.5,\"#f7f7f7\"],[0.6,\"#e6f5d0\"],[0.7,\"#b8e186\"],[0.8,\"#7fbc41\"],[0.9,\"#4d9221\"],[1,\"#276419\"]],\"sequential\":[[0.0,\"#0d0887\"],[0.1111111111111111,\"#46039f\"],[0.2222222222222222,\"#7201a8\"],[0.3333333333333333,\"#9c179e\"],[0.4444444444444444,\"#bd3786\"],[0.5555555555555556,\"#d8576b\"],[0.6666666666666666,\"#ed7953\"],[0.7777777777777778,\"#fb9f3a\"],[0.8888888888888888,\"#fdca26\"],[1.0,\"#f0f921\"]],\"sequentialminus\":[[0.0,\"#0d0887\"],[0.1111111111111111,\"#46039f\"],[0.2222222222222222,\"#7201a8\"],[0.3333333333333333,\"#9c179e\"],[0.4444444444444444,\"#bd3786\"],[0.5555555555555556,\"#d8576b\"],[0.6666666666666666,\"#ed7953\"],[0.7777777777777778,\"#fb9f3a\"],[0.8888888888888888,\"#fdca26\"],[1.0,\"#f0f921\"]]},\"colorway\":[\"#636efa\",\"#EF553B\",\"#00cc96\",\"#ab63fa\",\"#FFA15A\",\"#19d3f3\",\"#FF6692\",\"#B6E880\",\"#FF97FF\",\"#FECB52\"],\"font\":{\"color\":\"#2a3f5f\"},\"geo\":{\"bgcolor\":\"white\",\"lakecolor\":\"white\",\"landcolor\":\"#E5ECF6\",\"showlakes\":true,\"showland\":true,\"subunitcolor\":\"white\"},\"hoverlabel\":{\"align\":\"left\"},\"hovermode\":\"closest\",\"mapbox\":{\"style\":\"light\"},\"paper_bgcolor\":\"white\",\"plot_bgcolor\":\"#E5ECF6\",\"polar\":{\"angularaxis\":{\"gridcolor\":\"white\",\"linecolor\":\"white\",\"ticks\":\"\"},\"bgcolor\":\"#E5ECF6\",\"radialaxis\":{\"gridcolor\":\"white\",\"linecolor\":\"white\",\"ticks\":\"\"}},\"scene\":{\"xaxis\":{\"backgroundcolor\":\"#E5ECF6\",\"gridcolor\":\"white\",\"gridwidth\":2,\"linecolor\":\"white\",\"showbackground\":true,\"ticks\":\"\",\"zerolinecolor\":\"white\"},\"yaxis\":{\"backgroundcolor\":\"#E5ECF6\",\"gridcolor\":\"white\",\"gridwidth\":2,\"linecolor\":\"white\",\"showbackground\":true,\"ticks\":\"\",\"zerolinecolor\":\"white\"},\"zaxis\":{\"backgroundcolor\":\"#E5ECF6\",\"gridcolor\":\"white\",\"gridwidth\":2,\"linecolor\":\"white\",\"showbackground\":true,\"ticks\":\"\",\"zerolinecolor\":\"white\"}},\"shapedefaults\":{\"line\":{\"color\":\"#2a3f5f\"}},\"ternary\":{\"aaxis\":{\"gridcolor\":\"white\",\"linecolor\":\"white\",\"ticks\":\"\"},\"baxis\":{\"gridcolor\":\"white\",\"linecolor\":\"white\",\"ticks\":\"\"},\"bgcolor\":\"#E5ECF6\",\"caxis\":{\"gridcolor\":\"white\",\"linecolor\":\"white\",\"ticks\":\"\"}},\"title\":{\"x\":0.05},\"xaxis\":{\"automargin\":true,\"gridcolor\":\"white\",\"linecolor\":\"white\",\"ticks\":\"\",\"title\":{\"standoff\":15},\"zerolinecolor\":\"white\",\"zerolinewidth\":2},\"yaxis\":{\"automargin\":true,\"gridcolor\":\"white\",\"linecolor\":\"white\",\"ticks\":\"\",\"title\":{\"standoff\":15},\"zerolinecolor\":\"white\",\"zerolinewidth\":2}}},\"title\":{\"font\":{\"color\":\"#D9D9D9\"}},\"xaxis\":{\"gridcolor\":\"#434343\",\"showgrid\":true,\"tickfont\":{\"color\":\"#C2C2C2\"},\"title\":{\"font\":{\"color\":\"#D9D9D9\"},\"text\":\"\"},\"zerolinecolor\":\"#666570\"},\"yaxis\":{\"gridcolor\":\"#434343\",\"showgrid\":true,\"tickfont\":{\"color\":\"#C2C2C2\"},\"title\":{\"font\":{\"color\":\"#D9D9D9\"},\"text\":\"\"},\"zerolinecolor\":\"#666570\"}},                        {\"showLink\": true, \"linkText\": \"Export to plot.ly\", \"plotlyServerURL\": \"https://plot.ly\", \"responsive\": true}                    ).then(function(){\n",
       "                            \n",
       "var gd = document.getElementById('081eaa71-c681-4d04-935d-88e410742bc5');\n",
       "var x = new MutationObserver(function (mutations, observer) {{\n",
       "        var display = window.getComputedStyle(gd).display;\n",
       "        if (!display || display === 'none') {{\n",
       "            console.log([gd, 'removed!']);\n",
       "            Plotly.purge(gd);\n",
       "            observer.disconnect();\n",
       "        }}\n",
       "}});\n",
       "\n",
       "// Listen for the removal of the full notebook cells\n",
       "var notebookContainer = gd.closest('#notebook-container');\n",
       "if (notebookContainer) {{\n",
       "    x.observe(notebookContainer, {childList: true});\n",
       "}}\n",
       "\n",
       "// Listen for the clearing of the current output cell\n",
       "var outputEl = gd.closest('.output');\n",
       "if (outputEl) {{\n",
       "    x.observe(outputEl, {childList: true});\n",
       "}}\n",
       "\n",
       "                        })                };                });            </script>        </div>"
      ]
     },
     "metadata": {},
     "output_type": "display_data"
    }
   ],
   "source": [
    "de2 = pd.DataFrame([1,2,3,4,5,6,7,8,9,10,11,2,1,3,4,5,2,110,111,101])\n",
    "de2.iplot(kind='box')\n"
   ]
  },
  {
   "cell_type": "code",
   "execution_count": 7,
   "id": "7a60c742",
   "metadata": {},
   "outputs": [
    {
     "data": {
      "text/plain": [
       "0    37.686903\n",
       "dtype: float64"
      ]
     },
     "execution_count": 7,
     "metadata": {},
     "output_type": "execute_result"
    }
   ],
   "source": [
    "de2 = pd.DataFrame([1,2,3,4,5,6,7,8,9,10,11,2,1,3,4,5,2,110,111,101])\n",
    "de2.std()"
   ]
  },
  {
   "cell_type": "code",
   "execution_count": 8,
   "id": "afce35a0",
   "metadata": {},
   "outputs": [],
   "source": [
    "import scipy.stats as stats"
   ]
  },
  {
   "cell_type": "code",
   "execution_count": null,
   "id": "e0d82d12",
   "metadata": {},
   "outputs": [],
   "source": [
    "de2 = pd.DataFrame([1,2,3,4,5,6,7,8,9,10,11,2,1,3,4,5,2,110,111,101])\n",
    "stats.iqr(a)"
   ]
  },
  {
   "cell_type": "code",
   "execution_count": 10,
   "id": "9e6dc225",
   "metadata": {},
   "outputs": [],
   "source": [
    "de3 = pd.DataFrame(np.random.rand(300,3) , columns=['a', 'b','c'])"
   ]
  },
  {
   "cell_type": "code",
   "execution_count": 11,
   "id": "f7300894",
   "metadata": {},
   "outputs": [],
   "source": [
    "de3 = pd.DataFrame(np.random.rand(300,3) , columns=['a', 'b','c'])"
   ]
  },
  {
   "cell_type": "code",
   "execution_count": 12,
   "id": "41fa5ab9",
   "metadata": {},
   "outputs": [],
   "source": [
    "import numpy as np "
   ]
  },
  {
   "cell_type": "code",
   "execution_count": 13,
   "id": "6545ac11",
   "metadata": {},
   "outputs": [
    {
     "data": {
      "application/vnd.plotly.v1+json": {
       "config": {
        "linkText": "Export to plot.ly",
        "plotlyServerURL": "https://plot.ly",
        "showLink": true
       },
       "data": [
        {
         "marker": {
          "color": [
           "rgba(255, 153, 51, 1.0)",
           "rgba(55, 128, 191, 1.0)",
           "rgba(50, 171, 96, 1.0)",
           "rgba(128, 0, 128, 1.0)",
           "rgba(219, 64, 82, 1.0)",
           "rgba(0, 128, 128, 1.0)",
           "rgba(255, 255, 51, 1.0)",
           "rgba(128, 128, 0, 1.0)",
           "rgba(251, 128, 114, 1.0)",
           "rgba(128, 177, 211, 1.0)",
           "rgba(128, 177, 211, 0.9733333333333334)",
           "rgba(255, 153, 51, 0.9733333333333334)",
           "rgba(55, 128, 191, 0.9733333333333334)",
           "rgba(50, 171, 96, 0.9733333333333334)",
           "rgba(128, 0, 128, 0.9733333333333334)",
           "rgba(219, 64, 82, 0.9733333333333334)",
           "rgba(0, 128, 128, 0.9733333333333334)",
           "rgba(255, 255, 51, 0.9733333333333334)",
           "rgba(128, 128, 0, 0.9733333333333334)",
           "rgba(251, 128, 114, 0.9733333333333334)",
           "rgba(251, 128, 114, 0.9466666666666665)",
           "rgba(128, 177, 211, 0.9466666666666665)",
           "rgba(255, 153, 51, 0.9466666666666665)",
           "rgba(55, 128, 191, 0.9466666666666665)",
           "rgba(50, 171, 96, 0.9466666666666665)",
           "rgba(128, 0, 128, 0.9466666666666665)",
           "rgba(219, 64, 82, 0.9466666666666665)",
           "rgba(0, 128, 128, 0.9466666666666665)",
           "rgba(255, 255, 51, 0.9466666666666665)",
           "rgba(128, 128, 0, 0.9466666666666665)",
           "rgba(128, 128, 0, 0.9199999999999999)",
           "rgba(251, 128, 114, 0.9199999999999999)",
           "rgba(128, 177, 211, 0.9199999999999999)",
           "rgba(255, 153, 51, 0.9199999999999999)",
           "rgba(55, 128, 191, 0.9199999999999999)",
           "rgba(50, 171, 96, 0.9199999999999999)",
           "rgba(128, 0, 128, 0.9199999999999999)",
           "rgba(219, 64, 82, 0.9199999999999999)",
           "rgba(0, 128, 128, 0.9199999999999999)",
           "rgba(255, 255, 51, 0.9199999999999999)",
           "rgba(255, 255, 51, 0.8933333333333333)",
           "rgba(128, 128, 0, 0.8933333333333333)",
           "rgba(251, 128, 114, 0.8933333333333333)",
           "rgba(128, 177, 211, 0.8933333333333333)",
           "rgba(255, 153, 51, 0.8933333333333333)",
           "rgba(55, 128, 191, 0.8933333333333333)",
           "rgba(50, 171, 96, 0.8933333333333333)",
           "rgba(128, 0, 128, 0.8933333333333333)",
           "rgba(219, 64, 82, 0.8933333333333333)",
           "rgba(0, 128, 128, 0.8933333333333333)",
           "rgba(0, 128, 128, 0.8666666666666667)",
           "rgba(255, 255, 51, 0.8666666666666667)",
           "rgba(128, 128, 0, 0.8666666666666667)",
           "rgba(251, 128, 114, 0.8666666666666667)",
           "rgba(128, 177, 211, 0.8666666666666667)",
           "rgba(255, 153, 51, 0.8666666666666667)",
           "rgba(55, 128, 191, 0.8666666666666667)",
           "rgba(50, 171, 96, 0.8666666666666667)",
           "rgba(128, 0, 128, 0.8666666666666667)",
           "rgba(219, 64, 82, 0.8666666666666667)",
           "rgba(219, 64, 82, 0.8399999999999999)",
           "rgba(0, 128, 128, 0.8399999999999999)",
           "rgba(255, 255, 51, 0.8399999999999999)",
           "rgba(128, 128, 0, 0.8399999999999999)",
           "rgba(251, 128, 114, 0.8399999999999999)",
           "rgba(128, 177, 211, 0.8399999999999999)",
           "rgba(255, 153, 51, 0.8399999999999999)",
           "rgba(55, 128, 191, 0.8399999999999999)",
           "rgba(50, 171, 96, 0.8399999999999999)",
           "rgba(128, 0, 128, 0.8399999999999999)",
           "rgba(128, 0, 128, 0.8133333333333332)",
           "rgba(219, 64, 82, 0.8133333333333332)",
           "rgba(0, 128, 128, 0.8133333333333332)",
           "rgba(255, 255, 51, 0.8133333333333332)",
           "rgba(128, 128, 0, 0.8133333333333332)",
           "rgba(251, 128, 114, 0.8133333333333332)",
           "rgba(128, 177, 211, 0.8133333333333332)",
           "rgba(255, 153, 51, 0.8133333333333332)",
           "rgba(55, 128, 191, 0.8133333333333332)",
           "rgba(50, 171, 96, 0.8133333333333332)",
           "rgba(50, 171, 96, 0.7866666666666666)",
           "rgba(128, 0, 128, 0.7866666666666666)",
           "rgba(219, 64, 82, 0.7866666666666666)",
           "rgba(0, 128, 128, 0.7866666666666666)",
           "rgba(255, 255, 51, 0.7866666666666666)",
           "rgba(128, 128, 0, 0.7866666666666666)",
           "rgba(251, 128, 114, 0.7866666666666666)",
           "rgba(128, 177, 211, 0.7866666666666666)",
           "rgba(255, 153, 51, 0.7866666666666666)",
           "rgba(55, 128, 191, 0.7866666666666666)",
           "rgba(55, 128, 191, 0.76)",
           "rgba(50, 171, 96, 0.76)",
           "rgba(128, 0, 128, 0.76)",
           "rgba(219, 64, 82, 0.76)",
           "rgba(0, 128, 128, 0.76)",
           "rgba(255, 255, 51, 0.76)",
           "rgba(128, 128, 0, 0.76)",
           "rgba(251, 128, 114, 0.76)",
           "rgba(128, 177, 211, 0.76)",
           "rgba(255, 153, 51, 0.76)",
           "rgba(255, 153, 51, 0.7333333333333332)",
           "rgba(55, 128, 191, 0.7333333333333332)",
           "rgba(50, 171, 96, 0.7333333333333332)",
           "rgba(128, 0, 128, 0.7333333333333332)",
           "rgba(219, 64, 82, 0.7333333333333332)",
           "rgba(0, 128, 128, 0.7333333333333332)",
           "rgba(255, 255, 51, 0.7333333333333332)",
           "rgba(128, 128, 0, 0.7333333333333332)",
           "rgba(251, 128, 114, 0.7333333333333332)",
           "rgba(128, 177, 211, 0.7333333333333332)",
           "rgba(128, 177, 211, 0.7066666666666666)",
           "rgba(255, 153, 51, 0.7066666666666666)",
           "rgba(55, 128, 191, 0.7066666666666666)",
           "rgba(50, 171, 96, 0.7066666666666666)",
           "rgba(128, 0, 128, 0.7066666666666666)",
           "rgba(219, 64, 82, 0.7066666666666666)",
           "rgba(0, 128, 128, 0.7066666666666666)",
           "rgba(255, 255, 51, 0.7066666666666666)",
           "rgba(128, 128, 0, 0.7066666666666666)",
           "rgba(251, 128, 114, 0.7066666666666666)",
           "rgba(251, 128, 114, 0.6799999999999999)",
           "rgba(128, 177, 211, 0.6799999999999999)",
           "rgba(255, 153, 51, 0.6799999999999999)",
           "rgba(55, 128, 191, 0.6799999999999999)",
           "rgba(50, 171, 96, 0.6799999999999999)",
           "rgba(128, 0, 128, 0.6799999999999999)",
           "rgba(219, 64, 82, 0.6799999999999999)",
           "rgba(0, 128, 128, 0.6799999999999999)",
           "rgba(255, 255, 51, 0.6799999999999999)",
           "rgba(128, 128, 0, 0.6799999999999999)",
           "rgba(128, 128, 0, 0.6533333333333333)",
           "rgba(251, 128, 114, 0.6533333333333333)",
           "rgba(128, 177, 211, 0.6533333333333333)",
           "rgba(255, 153, 51, 0.6533333333333333)",
           "rgba(55, 128, 191, 0.6533333333333333)",
           "rgba(50, 171, 96, 0.6533333333333333)",
           "rgba(128, 0, 128, 0.6533333333333333)",
           "rgba(219, 64, 82, 0.6533333333333333)",
           "rgba(0, 128, 128, 0.6533333333333333)",
           "rgba(255, 255, 51, 0.6533333333333333)",
           "rgba(255, 255, 51, 0.6266666666666665)",
           "rgba(128, 128, 0, 0.6266666666666665)",
           "rgba(251, 128, 114, 0.6266666666666665)",
           "rgba(128, 177, 211, 0.6266666666666665)",
           "rgba(255, 153, 51, 0.6266666666666665)",
           "rgba(55, 128, 191, 0.6266666666666665)",
           "rgba(50, 171, 96, 0.6266666666666665)",
           "rgba(128, 0, 128, 0.6266666666666665)",
           "rgba(219, 64, 82, 0.6266666666666665)",
           "rgba(0, 128, 128, 0.6266666666666665)",
           "rgba(0, 128, 128, 0.5999999999999999)",
           "rgba(255, 255, 51, 0.5999999999999999)",
           "rgba(128, 128, 0, 0.5999999999999999)",
           "rgba(251, 128, 114, 0.5999999999999999)",
           "rgba(128, 177, 211, 0.5999999999999999)",
           "rgba(255, 153, 51, 0.5999999999999999)",
           "rgba(55, 128, 191, 0.5999999999999999)",
           "rgba(50, 171, 96, 0.5999999999999999)",
           "rgba(128, 0, 128, 0.5999999999999999)",
           "rgba(219, 64, 82, 0.5999999999999999)",
           "rgba(219, 64, 82, 0.5733333333333333)",
           "rgba(0, 128, 128, 0.5733333333333333)",
           "rgba(255, 255, 51, 0.5733333333333333)",
           "rgba(128, 128, 0, 0.5733333333333333)",
           "rgba(251, 128, 114, 0.5733333333333333)",
           "rgba(128, 177, 211, 0.5733333333333333)",
           "rgba(255, 153, 51, 0.5733333333333333)",
           "rgba(55, 128, 191, 0.5733333333333333)",
           "rgba(50, 171, 96, 0.5733333333333333)",
           "rgba(128, 0, 128, 0.5733333333333333)",
           "rgba(128, 0, 128, 0.5466666666666666)",
           "rgba(219, 64, 82, 0.5466666666666666)",
           "rgba(0, 128, 128, 0.5466666666666666)",
           "rgba(255, 255, 51, 0.5466666666666666)",
           "rgba(128, 128, 0, 0.5466666666666666)",
           "rgba(251, 128, 114, 0.5466666666666666)",
           "rgba(128, 177, 211, 0.5466666666666666)",
           "rgba(255, 153, 51, 0.5466666666666666)",
           "rgba(55, 128, 191, 0.5466666666666666)",
           "rgba(50, 171, 96, 0.5466666666666666)",
           "rgba(50, 171, 96, 0.5199999999999998)",
           "rgba(128, 0, 128, 0.5199999999999998)",
           "rgba(219, 64, 82, 0.5199999999999998)",
           "rgba(0, 128, 128, 0.5199999999999998)",
           "rgba(255, 255, 51, 0.5199999999999998)",
           "rgba(128, 128, 0, 0.5199999999999998)",
           "rgba(251, 128, 114, 0.5199999999999998)",
           "rgba(128, 177, 211, 0.5199999999999998)",
           "rgba(255, 153, 51, 0.5199999999999998)",
           "rgba(55, 128, 191, 0.5199999999999998)",
           "rgba(55, 128, 191, 0.49333333333333323)",
           "rgba(50, 171, 96, 0.49333333333333323)",
           "rgba(128, 0, 128, 0.49333333333333323)",
           "rgba(219, 64, 82, 0.49333333333333323)",
           "rgba(0, 128, 128, 0.49333333333333323)",
           "rgba(255, 255, 51, 0.49333333333333323)",
           "rgba(128, 128, 0, 0.49333333333333323)",
           "rgba(251, 128, 114, 0.49333333333333323)",
           "rgba(128, 177, 211, 0.49333333333333323)",
           "rgba(255, 153, 51, 0.49333333333333323)",
           "rgba(255, 153, 51, 0.4666666666666666)",
           "rgba(55, 128, 191, 0.4666666666666666)",
           "rgba(50, 171, 96, 0.4666666666666666)",
           "rgba(128, 0, 128, 0.4666666666666666)",
           "rgba(219, 64, 82, 0.4666666666666666)",
           "rgba(0, 128, 128, 0.4666666666666666)",
           "rgba(255, 255, 51, 0.4666666666666666)",
           "rgba(128, 128, 0, 0.4666666666666666)",
           "rgba(251, 128, 114, 0.4666666666666666)",
           "rgba(128, 177, 211, 0.4666666666666666)",
           "rgba(128, 177, 211, 0.44)",
           "rgba(255, 153, 51, 0.44)",
           "rgba(55, 128, 191, 0.44)",
           "rgba(50, 171, 96, 0.44)",
           "rgba(128, 0, 128, 0.44)",
           "rgba(219, 64, 82, 0.44)",
           "rgba(0, 128, 128, 0.44)",
           "rgba(255, 255, 51, 0.44)",
           "rgba(128, 128, 0, 0.44)",
           "rgba(251, 128, 114, 0.44)",
           "rgba(251, 128, 114, 0.41333333333333316)",
           "rgba(128, 177, 211, 0.41333333333333316)",
           "rgba(255, 153, 51, 0.41333333333333316)",
           "rgba(55, 128, 191, 0.41333333333333316)",
           "rgba(50, 171, 96, 0.41333333333333316)",
           "rgba(128, 0, 128, 0.41333333333333316)",
           "rgba(219, 64, 82, 0.41333333333333316)",
           "rgba(0, 128, 128, 0.41333333333333316)",
           "rgba(255, 255, 51, 0.41333333333333316)",
           "rgba(128, 128, 0, 0.41333333333333316)",
           "rgba(128, 128, 0, 0.38666666666666655)",
           "rgba(251, 128, 114, 0.38666666666666655)",
           "rgba(128, 177, 211, 0.38666666666666655)",
           "rgba(255, 153, 51, 0.38666666666666655)",
           "rgba(55, 128, 191, 0.38666666666666655)",
           "rgba(50, 171, 96, 0.38666666666666655)",
           "rgba(128, 0, 128, 0.38666666666666655)",
           "rgba(219, 64, 82, 0.38666666666666655)",
           "rgba(0, 128, 128, 0.38666666666666655)",
           "rgba(255, 255, 51, 0.38666666666666655)",
           "rgba(255, 255, 51, 0.35999999999999993)",
           "rgba(128, 128, 0, 0.35999999999999993)",
           "rgba(251, 128, 114, 0.35999999999999993)",
           "rgba(128, 177, 211, 0.35999999999999993)",
           "rgba(255, 153, 51, 0.35999999999999993)",
           "rgba(55, 128, 191, 0.35999999999999993)",
           "rgba(50, 171, 96, 0.35999999999999993)",
           "rgba(128, 0, 128, 0.35999999999999993)",
           "rgba(219, 64, 82, 0.35999999999999993)",
           "rgba(0, 128, 128, 0.35999999999999993)",
           "rgba(0, 128, 128, 0.3333333333333333)",
           "rgba(255, 255, 51, 0.3333333333333333)",
           "rgba(128, 128, 0, 0.3333333333333333)",
           "rgba(251, 128, 114, 0.3333333333333333)",
           "rgba(128, 177, 211, 0.3333333333333333)",
           "rgba(255, 153, 51, 0.3333333333333333)",
           "rgba(55, 128, 191, 0.3333333333333333)",
           "rgba(50, 171, 96, 0.3333333333333333)",
           "rgba(128, 0, 128, 0.3333333333333333)",
           "rgba(219, 64, 82, 0.3333333333333333)",
           "rgba(219, 64, 82, 0.3066666666666665)",
           "rgba(0, 128, 128, 0.3066666666666665)",
           "rgba(255, 255, 51, 0.3066666666666665)",
           "rgba(128, 128, 0, 0.3066666666666665)",
           "rgba(251, 128, 114, 0.3066666666666665)",
           "rgba(128, 177, 211, 0.3066666666666665)",
           "rgba(255, 153, 51, 0.3066666666666665)",
           "rgba(55, 128, 191, 0.3066666666666665)",
           "rgba(50, 171, 96, 0.3066666666666665)",
           "rgba(128, 0, 128, 0.3066666666666665)",
           "rgba(128, 0, 128, 0.27999999999999986)",
           "rgba(219, 64, 82, 0.27999999999999986)",
           "rgba(0, 128, 128, 0.27999999999999986)",
           "rgba(255, 255, 51, 0.27999999999999986)",
           "rgba(128, 128, 0, 0.27999999999999986)",
           "rgba(251, 128, 114, 0.27999999999999986)",
           "rgba(128, 177, 211, 0.27999999999999986)",
           "rgba(255, 153, 51, 0.27999999999999986)",
           "rgba(55, 128, 191, 0.27999999999999986)",
           "rgba(50, 171, 96, 0.27999999999999986)",
           "rgba(50, 171, 96, 0.25333333333333324)",
           "rgba(128, 0, 128, 0.25333333333333324)",
           "rgba(219, 64, 82, 0.25333333333333324)",
           "rgba(0, 128, 128, 0.25333333333333324)",
           "rgba(255, 255, 51, 0.25333333333333324)",
           "rgba(128, 128, 0, 0.25333333333333324)",
           "rgba(251, 128, 114, 0.25333333333333324)",
           "rgba(128, 177, 211, 0.25333333333333324)",
           "rgba(255, 153, 51, 0.25333333333333324)",
           "rgba(55, 128, 191, 0.25333333333333324)",
           "rgba(55, 128, 191, 0.22666666666666663)",
           "rgba(50, 171, 96, 0.22666666666666663)",
           "rgba(128, 0, 128, 0.22666666666666663)",
           "rgba(219, 64, 82, 0.22666666666666663)",
           "rgba(0, 128, 128, 0.22666666666666663)",
           "rgba(255, 255, 51, 0.22666666666666663)",
           "rgba(128, 128, 0, 0.22666666666666663)",
           "rgba(251, 128, 114, 0.22666666666666663)",
           "rgba(128, 177, 211, 0.22666666666666663)",
           "rgba(255, 153, 51, 0.22666666666666663)"
          ],
          "opacity": 0.8,
          "size": [
           12,
           12,
           12,
           12,
           12,
           12,
           12,
           12,
           12,
           12,
           12,
           12,
           12,
           12,
           12,
           12,
           12,
           12,
           12,
           12,
           12,
           12,
           12,
           12,
           12,
           12,
           12,
           12,
           12,
           12,
           12,
           12,
           12,
           12,
           12,
           12,
           12,
           12,
           12,
           12,
           12,
           12,
           12,
           12,
           12,
           12,
           12,
           12,
           12,
           12,
           12,
           12,
           12,
           12,
           12,
           12,
           12,
           12,
           12,
           12,
           12,
           12,
           12,
           12,
           12,
           12,
           12,
           12,
           12,
           12,
           12,
           12,
           12,
           12,
           12,
           12,
           12,
           12,
           12,
           12,
           12,
           12,
           12,
           12,
           12,
           12,
           12,
           12,
           12,
           12,
           12,
           12,
           12,
           12,
           12,
           12,
           12,
           12,
           12,
           12,
           12,
           12,
           12,
           12,
           12,
           12,
           12,
           12,
           12,
           12,
           12,
           12,
           12,
           12,
           12,
           12,
           12,
           12,
           12,
           12,
           12,
           12,
           12,
           12,
           12,
           12,
           12,
           12,
           12,
           12,
           12,
           12,
           12,
           12,
           12,
           12,
           12,
           12,
           12,
           12,
           12,
           12,
           12,
           12,
           12,
           12,
           12,
           12,
           12,
           12,
           12,
           12,
           12,
           12,
           12,
           12,
           12,
           12,
           12,
           12,
           12,
           12,
           12,
           12,
           12,
           12,
           12,
           12,
           12,
           12,
           12,
           12,
           12,
           12,
           12,
           12,
           12,
           12,
           12,
           12,
           12,
           12,
           12,
           12,
           12,
           12,
           12,
           12,
           12,
           12,
           12,
           12,
           12,
           12,
           12,
           12,
           12,
           12,
           12,
           12,
           12,
           12,
           12,
           12,
           12,
           12,
           12,
           12,
           12,
           12,
           12,
           12,
           12,
           12,
           12,
           12,
           12,
           12,
           12,
           12,
           12,
           12,
           12,
           12,
           12,
           12,
           12,
           12,
           12,
           12,
           12,
           12,
           12,
           12,
           12,
           12,
           12,
           12,
           12,
           12,
           12,
           12,
           12,
           12,
           12,
           12,
           12,
           12,
           12,
           12,
           12,
           12,
           12,
           12,
           12,
           12,
           12,
           12,
           12,
           12,
           12,
           12,
           12,
           12,
           12,
           12,
           12,
           12,
           12,
           12,
           12,
           12,
           12,
           12,
           12,
           12,
           12,
           12,
           12,
           12,
           12,
           12,
           12,
           12,
           12,
           12,
           12,
           12,
           12,
           12,
           12,
           12,
           12,
           12,
           12,
           12,
           12,
           12,
           12,
           12
          ],
          "symbol": "circle"
         },
         "mode": "markers",
         "text": [
          "0",
          "1",
          "2",
          "3",
          "4",
          "5",
          "6",
          "7",
          "8",
          "9",
          "10",
          "11",
          "12",
          "13",
          "14",
          "15",
          "16",
          "17",
          "18",
          "19",
          "20",
          "21",
          "22",
          "23",
          "24",
          "25",
          "26",
          "27",
          "28",
          "29",
          "30",
          "31",
          "32",
          "33",
          "34",
          "35",
          "36",
          "37",
          "38",
          "39",
          "40",
          "41",
          "42",
          "43",
          "44",
          "45",
          "46",
          "47",
          "48",
          "49",
          "50",
          "51",
          "52",
          "53",
          "54",
          "55",
          "56",
          "57",
          "58",
          "59",
          "60",
          "61",
          "62",
          "63",
          "64",
          "65",
          "66",
          "67",
          "68",
          "69",
          "70",
          "71",
          "72",
          "73",
          "74",
          "75",
          "76",
          "77",
          "78",
          "79",
          "80",
          "81",
          "82",
          "83",
          "84",
          "85",
          "86",
          "87",
          "88",
          "89",
          "90",
          "91",
          "92",
          "93",
          "94",
          "95",
          "96",
          "97",
          "98",
          "99",
          "100",
          "101",
          "102",
          "103",
          "104",
          "105",
          "106",
          "107",
          "108",
          "109",
          "110",
          "111",
          "112",
          "113",
          "114",
          "115",
          "116",
          "117",
          "118",
          "119",
          "120",
          "121",
          "122",
          "123",
          "124",
          "125",
          "126",
          "127",
          "128",
          "129",
          "130",
          "131",
          "132",
          "133",
          "134",
          "135",
          "136",
          "137",
          "138",
          "139",
          "140",
          "141",
          "142",
          "143",
          "144",
          "145",
          "146",
          "147",
          "148",
          "149",
          "150",
          "151",
          "152",
          "153",
          "154",
          "155",
          "156",
          "157",
          "158",
          "159",
          "160",
          "161",
          "162",
          "163",
          "164",
          "165",
          "166",
          "167",
          "168",
          "169",
          "170",
          "171",
          "172",
          "173",
          "174",
          "175",
          "176",
          "177",
          "178",
          "179",
          "180",
          "181",
          "182",
          "183",
          "184",
          "185",
          "186",
          "187",
          "188",
          "189",
          "190",
          "191",
          "192",
          "193",
          "194",
          "195",
          "196",
          "197",
          "198",
          "199",
          "200",
          "201",
          "202",
          "203",
          "204",
          "205",
          "206",
          "207",
          "208",
          "209",
          "210",
          "211",
          "212",
          "213",
          "214",
          "215",
          "216",
          "217",
          "218",
          "219",
          "220",
          "221",
          "222",
          "223",
          "224",
          "225",
          "226",
          "227",
          "228",
          "229",
          "230",
          "231",
          "232",
          "233",
          "234",
          "235",
          "236",
          "237",
          "238",
          "239",
          "240",
          "241",
          "242",
          "243",
          "244",
          "245",
          "246",
          "247",
          "248",
          "249",
          "250",
          "251",
          "252",
          "253",
          "254",
          "255",
          "256",
          "257",
          "258",
          "259",
          "260",
          "261",
          "262",
          "263",
          "264",
          "265",
          "266",
          "267",
          "268",
          "269",
          "270",
          "271",
          "272",
          "273",
          "274",
          "275",
          "276",
          "277",
          "278",
          "279",
          "280",
          "281",
          "282",
          "283",
          "284",
          "285",
          "286",
          "287",
          "288",
          "289",
          "290",
          "291",
          "292",
          "293",
          "294",
          "295",
          "296",
          "297",
          "298",
          "299"
         ],
         "type": "scatter3d",
         "x": [
          0.4805180236512694,
          0.43550247554477406,
          0.7638582930124218,
          0.058477753961242995,
          0.48842105892623044,
          0.9104691610980766,
          0.7830137325843803,
          0.45540790878847615,
          0.5499234142206358,
          0.7816302322937705,
          0.1542248729933714,
          0.9934987104037283,
          0.7513788813581082,
          0.6585585175588562,
          0.2530764424699312,
          0.8414547083143562,
          0.47617356900493724,
          0.623035199227627,
          0.9745818370194924,
          0.4426130253484404,
          0.5974385428530128,
          0.865014773354495,
          0.6371664259543772,
          0.9490707762635722,
          0.8088126179973245,
          0.7975592937394747,
          0.3830933426059684,
          0.7391741607348541,
          0.21233618209791316,
          0.3424379503678229,
          0.39343138496823216,
          0.24733394178374657,
          0.9639699007679877,
          0.5156576835857729,
          0.9390827380909558,
          0.9736286459609916,
          0.14256267576207027,
          0.8803872959832698,
          0.5422453104094671,
          0.052740688916577017,
          0.6768037493763827,
          0.4303957997023784,
          0.14663332831505593,
          0.884979354791805,
          0.22969214680353,
          0.3518481262337879,
          0.920538992705409,
          0.3547440751680496,
          0.7145865535633373,
          0.08397927705435781,
          0.7975716462098886,
          0.19546397666613757,
          0.23376507595561857,
          0.21080201988300817,
          0.5213476657559573,
          0.9828803673202637,
          0.3389562668052999,
          0.7004581509531357,
          0.20134554207518784,
          0.3384541234014249,
          0.026920079848589906,
          0.8916220045896014,
          0.27454537769634624,
          0.33864238557059023,
          0.6466867653705195,
          0.7367883124952433,
          0.1409214573092643,
          0.6601320195535882,
          0.24081904090015482,
          0.5403616200995277,
          0.7466027692934228,
          0.8157067955365893,
          0.950974515004191,
          0.7441317342612848,
          0.9937889712641775,
          0.8807064535631802,
          0.3776141343118019,
          0.06750204343493105,
          0.913710478224249,
          0.6721451015323363,
          0.11814471644872393,
          0.2757806896406877,
          0.8440483783891166,
          0.9715168096116128,
          0.8312066015229351,
          0.5927002641764545,
          0.8106755325589681,
          0.3846981130150223,
          0.7574096883622572,
          0.6605163662245337,
          0.31610900165986544,
          0.053705223405780655,
          0.5971430094980757,
          0.5227357031916632,
          0.027982809720308532,
          0.14965812274332857,
          0.9814461161095585,
          0.746536254334702,
          0.15753965249331137,
          0.448566977055901,
          0.17817374016203413,
          0.7508849541213567,
          0.7056794707073033,
          0.2562919952902938,
          0.6559592450092664,
          0.552259001322632,
          0.889553651220763,
          0.20569271252115617,
          0.19166331322399044,
          0.30348558818039895,
          0.36787275140598785,
          0.619987412224018,
          0.3943786716030552,
          0.6557894007394777,
          0.8209326644120659,
          0.811330095561994,
          0.07026665392290965,
          0.3643150865671022,
          0.6910958033350569,
          0.4610910736504238,
          0.6517791575644528,
          0.3577315289320896,
          0.4687262116001606,
          0.053073619905108615,
          0.0966639711070284,
          0.5843027101936487,
          0.8397387818381248,
          0.7462436498908546,
          0.4109559747521697,
          0.1217281361822482,
          0.030998904924069093,
          0.8629338244561007,
          0.43769113733768683,
          0.9129578711860614,
          0.3574307201057264,
          0.5890594833160312,
          0.0880290933427299,
          0.9279537907331749,
          0.3091456379611326,
          0.754113372148418,
          0.302567995516151,
          0.7023919870247578,
          0.9507441682806775,
          0.31281938757547734,
          0.23275842289728255,
          0.7749750058153453,
          0.26083388467928237,
          0.807998115517997,
          0.11615109235572119,
          0.29652677356863366,
          0.21687461886175685,
          0.3342960041358759,
          0.12153779850571667,
          0.7824718341932465,
          0.8489201308362406,
          0.30080877155582975,
          0.5909789335429633,
          0.09738664238252748,
          0.7917484902605484,
          0.5177407750807479,
          0.8479323202982691,
          0.1736294595504292,
          0.1162386694155979,
          0.28213422548820843,
          0.41554569111504736,
          0.6950640952243496,
          0.17854150341188757,
          0.5816510568811482,
          0.2918564637071287,
          0.3648390040808822,
          0.7299559764932132,
          0.31672903930482166,
          0.6055587214441999,
          0.9280422621322838,
          0.07016387265522828,
          0.9858590944898352,
          0.06251510535869254,
          0.9784677911869331,
          0.034959324677262926,
          0.8238366990103345,
          0.41648125234724975,
          0.018039757156518288,
          0.024095951950959815,
          0.40758759492821417,
          0.2956966605803575,
          0.7347562193650921,
          0.8752438974140592,
          0.8981362584543128,
          0.6812995400660025,
          0.6037322261714015,
          0.012338105591265469,
          0.23805115592659576,
          0.7366707279043103,
          0.44676479018411497,
          0.9106364785131152,
          0.5961249054530399,
          0.05932210788365644,
          0.6904504225057506,
          0.5364045841297277,
          0.5021800558020327,
          0.18576771700535366,
          0.9057506469470292,
          0.09936111649723056,
          0.5510323678749866,
          0.3522920655079712,
          0.07652962501123883,
          0.7385821603305627,
          0.03739678283048842,
          0.6157957425801661,
          0.20895744081006895,
          0.5542736952192329,
          0.3944988245251134,
          0.32981484243512027,
          0.5841271442893475,
          0.8882145468940412,
          0.45339445693057734,
          0.2073925818638963,
          0.7569379965440296,
          0.855020769237822,
          0.986103518750744,
          0.46304277399685767,
          0.9169150374521705,
          0.28543338583314515,
          0.078375788149327,
          0.6907535897709757,
          0.5363616455702898,
          0.05648996043689003,
          0.47780005140980364,
          0.20749512508833645,
          0.725262964785317,
          0.2861329468273035,
          0.6546655538396429,
          0.5827429839577649,
          0.4254874094101202,
          0.17220581888966147,
          0.23214782325710392,
          0.7386203764996878,
          0.026883715752366144,
          0.08942882890256276,
          0.06277083255608995,
          0.7009823569487197,
          0.22192006354638438,
          0.847016545920658,
          0.39940399234682045,
          0.5484092058660311,
          0.2892180148730782,
          0.23500953810163228,
          0.33992700943742016,
          0.08333737620577164,
          0.6434553971442605,
          0.9701365522518629,
          0.015669538892733925,
          0.44424684618969823,
          0.15352594074666137,
          0.2639497677168744,
          0.7452903057606506,
          0.031562588942379954,
          0.4266724695337214,
          0.03721569803888625,
          0.5561444456048287,
          0.9399588842387024,
          0.9741018544186113,
          0.1221242427779472,
          0.10956905159374686,
          0.5539081340363624,
          0.4790524724025048,
          0.20877638714726954,
          0.6343482224554199,
          0.7810519525830806,
          0.12345467112911668,
          0.16630979210690178,
          0.21533723352669054,
          0.26959834084406875,
          0.2798503392940118,
          0.585761070931887,
          0.31534284153565306,
          0.9134165383677784,
          0.1479972982171246,
          0.280644924379573,
          0.810673760141672,
          0.4329517576556512,
          0.9108021870184035,
          0.6075330991313546,
          0.5517014730953486,
          0.6373228999622604,
          0.9534675573173252,
          0.4095400203247491,
          0.3542239185914058,
          0.05942128055443585,
          0.9602165876271606,
          0.9977552519518161,
          0.552551470845481,
          0.4927164288889204,
          0.5520188675958654,
          0.3479506629702983,
          0.20938199623278098,
          0.40839349396125413,
          0.33592176559716336,
          0.2782869049134953,
          0.6576067594858146
         ],
         "y": [
          0.2616972067562794,
          0.965856192761436,
          0.9731755877329998,
          0.09650187591020143,
          0.677377160678866,
          0.7746766179041092,
          0.6096952090678328,
          0.5100560601906962,
          0.47929448870739966,
          0.21559272989178424,
          0.16034468723673523,
          0.9568548103569411,
          0.03915713960078926,
          0.5668813319953047,
          0.23803726214256005,
          0.025574871046434855,
          0.9944695894028708,
          0.879381548097398,
          0.27995010512869645,
          0.10451465518802716,
          0.866600357196071,
          0.8792502431986794,
          0.6537439752900239,
          0.2773790373348036,
          0.03407916371688968,
          0.8372406866886217,
          0.9485506852568658,
          0.631492332765093,
          0.8205970079235249,
          0.4859670916836111,
          0.89736876897561,
          0.6111278417657411,
          0.6218672131270867,
          0.47119610360024977,
          0.3420522682464564,
          0.02504916012091829,
          0.6778307173871495,
          0.38609149005007315,
          0.42999738942306254,
          0.07120311005406543,
          0.2650259856565099,
          0.8196466216094488,
          0.9476048381658999,
          0.16737120781283066,
          0.5984004867761263,
          0.7651356795648258,
          0.23347317317284177,
          0.8781334518492326,
          0.9255359518906756,
          0.05029070076949371,
          0.7679726357971449,
          0.034382593270424144,
          0.10474677472514238,
          0.5960081846380327,
          0.8781944575645191,
          0.8460677635797924,
          0.663031910094326,
          0.6431945514914079,
          0.05781904827643558,
          0.026075179552852434,
          0.6748158727681163,
          0.8176766820950822,
          0.7275777074542967,
          0.4370644588853483,
          0.8899330035297478,
          0.6636814412831845,
          0.04930755439622492,
          0.39543761933653687,
          0.4059634628249097,
          0.7092522005491678,
          0.9575505703580512,
          0.22422318643970318,
          0.38918279838526526,
          0.9312927357802647,
          0.7998449483268358,
          0.034839240290610474,
          0.8150062554428444,
          0.20218160054288614,
          0.2775156542982915,
          0.13614523713853732,
          0.7852948137902311,
          0.6389487430365167,
          0.6879947492387687,
          0.057741001209266174,
          0.9389594267594324,
          0.8840349540926837,
          0.607535860797791,
          0.42903937076610843,
          0.9392257331827042,
          0.8113597578537464,
          0.055159950718778994,
          0.9740082303900695,
          0.6045526655780177,
          0.7099045591866116,
          0.42843209426739004,
          0.24493222407071735,
          0.9134035217812333,
          0.8771525858554973,
          0.3027111860675219,
          0.4552200744657213,
          0.3537313766413003,
          0.4684251864513199,
          0.4715666277703051,
          0.7892944343951966,
          0.38168840974090545,
          0.809912782121264,
          0.32064171391951923,
          0.07791239676980843,
          0.8376963917153093,
          0.8168075342963187,
          0.8567733751216048,
          0.00976369685121592,
          0.1694945441814284,
          0.4495833318254179,
          0.6749276497575252,
          0.9063038648170022,
          0.45926011530225397,
          0.8994230383505314,
          0.17833115484886464,
          0.9938345616881894,
          0.016476523895530004,
          0.5571740970158847,
          0.9786598384882385,
          0.20259908296700935,
          0.3699105963059285,
          0.0013403744934005202,
          0.3586572644844819,
          0.20423033295329218,
          0.9324296213070646,
          0.6924609918516542,
          0.9426437299180822,
          0.17475498129467193,
          0.6365737064870617,
          0.4789273351002966,
          0.280979574133258,
          0.725206659048991,
          0.12179342411583849,
          0.6176619978854906,
          0.3893706393813703,
          0.8609583426700588,
          0.6249326230027313,
          0.5558698359040055,
          0.3689363768960059,
          0.9112359321874759,
          0.1181103360967628,
          0.7520367346749153,
          0.25173481139068443,
          0.7113731520084642,
          0.4833855897747795,
          0.45234864418309684,
          0.07184661535172576,
          0.647646955273128,
          0.2146877200576638,
          0.24147110867315313,
          0.8971789879967281,
          0.41504023046111915,
          0.19143050993627864,
          0.6957606783372118,
          0.7533533306857292,
          0.17506482227841547,
          0.5246549756944253,
          0.5363145645613424,
          0.37728856131163824,
          0.23102227246141127,
          0.4228908520339598,
          0.7549803371516597,
          0.603388936932501,
          0.5746658306156146,
          0.8451051576301085,
          0.43444156979279613,
          0.28545792889043653,
          0.6470659982941506,
          0.3885372972573463,
          0.8093092457884983,
          0.5612693800757292,
          0.8727873396876118,
          0.5228341544343228,
          0.7750010829832723,
          0.5579476670542088,
          0.46444959165328537,
          0.7193596306349374,
          0.15652979709190395,
          0.4692385240486969,
          0.33027072744580077,
          0.2543965000879188,
          0.09693434345689855,
          0.3503432901827973,
          0.9303462355057094,
          0.8390919584158387,
          0.18634709315467457,
          0.7429148443969288,
          0.3209751423750685,
          0.047192726942152485,
          0.2510934580531283,
          0.4574810915894314,
          0.35802222420377605,
          0.2421993080142386,
          0.5964161914467453,
          0.3983814822394983,
          0.378972169134698,
          0.5106380829965077,
          0.29164633084780744,
          0.6393155376849227,
          0.5801493834483331,
          0.6971895003249141,
          0.4255597523990272,
          0.24755956393214162,
          0.9024826645156634,
          0.3518934579750793,
          0.07186650364824998,
          0.7711674297139942,
          0.12289699196946235,
          0.04438635247070377,
          0.6796393957854073,
          0.4836660995078472,
          0.8573920538763091,
          0.6728322051762375,
          0.49179046407282634,
          0.6509662231371871,
          0.5453497014984713,
          0.9473619262213605,
          0.41666025125140393,
          0.6860477434705998,
          0.03383942744976731,
          0.23756503175121058,
          0.0029948093862748326,
          0.47062081662097666,
          0.08638885287423548,
          0.46221432373176086,
          0.6723345778108596,
          0.8832347427647242,
          0.6831224222820484,
          0.9262032759668022,
          0.8430774272580798,
          0.11972458787273976,
          0.038466809524619894,
          0.7658930049131565,
          0.3105084487942681,
          0.29322221742321364,
          0.8306009865094309,
          0.5348799325788595,
          0.6428207246413357,
          0.15146667852820805,
          0.1955755784713884,
          0.7159577464589186,
          0.21096713817755564,
          0.6785283773608595,
          0.001033018049806933,
          0.548103948007289,
          0.32334458813047806,
          0.026608578608872002,
          0.9020415781475918,
          0.5227448010696475,
          0.6982743544388744,
          0.44675617091479025,
          0.60934295588084,
          0.7406750757376289,
          0.12773346926111928,
          0.5035028038781004,
          0.5548447159737414,
          0.45615849241510975,
          0.6926077309933943,
          0.3397801724664603,
          0.64840003089699,
          0.3385451241736305,
          0.025508195133065903,
          0.69749352111413,
          0.09926014840077291,
          0.396579945508882,
          0.6967548798847544,
          0.1592636590596601,
          0.9685476389242043,
          0.4667461736599968,
          0.38066522717284146,
          0.10791119035768937,
          0.7082086424248432,
          0.9538315378029285,
          0.02477228974483847,
          0.20975356527006128,
          0.07342574463189466,
          0.6118088171689587,
          0.10906450612993457,
          0.5803349487413056,
          0.4407561075520843,
          0.10264160561010338,
          0.9191928560793947,
          0.21672230574560636,
          0.6516946313316628,
          0.7736660244537953,
          0.9758249156797977,
          0.6896982261107723,
          0.33567748552513366,
          0.704024380939992,
          0.020228216393820997,
          0.8880649538773379,
          0.6392556047614111,
          0.4931517325659819,
          0.1178005847655812,
          0.3463202530905676,
          0.11735213898795183
         ],
         "z": [
          0.14761764872208294,
          0.9396899009955453,
          0.8339870192575315,
          0.37055182472211545,
          0.2183818954368063,
          0.040191932403714326,
          0.39568151517686956,
          0.5410571240953373,
          0.4037059716057467,
          0.7669137818596906,
          0.5580093497183138,
          0.7995250915067058,
          0.47714895371263977,
          0.8109484860274389,
          0.12126163198436257,
          0.7309953161284616,
          0.004044995876716917,
          0.16735412324305354,
          0.7835861191945575,
          0.9940888391067109,
          0.33462456447158617,
          0.7904328387487796,
          0.2489222314865991,
          0.027638356970694722,
          0.6968090530098987,
          0.4201624593563933,
          0.9454367382425181,
          0.4426866221516993,
          0.5460923749852856,
          0.6038973393304851,
          0.5845873559677979,
          0.28715559076602815,
          0.7356962282113202,
          0.25139388465442847,
          0.6401695778287583,
          0.5393399939528126,
          0.42768300653989033,
          0.6985101245638986,
          0.7161259833231802,
          0.07337309100393641,
          0.5395385053680002,
          0.7394794920444232,
          0.9448489443397495,
          0.06631224206799413,
          0.8974275048704307,
          0.24356846127089693,
          0.8209526013156715,
          0.5550249219503631,
          0.5017321289777424,
          0.34582538650893,
          0.8122539591078208,
          0.16811813679424625,
          0.9194447041177214,
          0.3430659196253547,
          0.396799214125923,
          0.9696795580554887,
          0.8713003374284285,
          0.3965886086621123,
          0.23893353538140472,
          0.3085803665671001,
          0.08882967006631803,
          0.7432743138040552,
          0.9084966745352318,
          0.6799926631414109,
          0.7164163238678074,
          0.11459857652615368,
          0.19037756552118656,
          0.017289907231762047,
          0.18159135132986193,
          0.06037710058358614,
          0.6357534478365008,
          0.10583523298766973,
          0.2565841539989847,
          0.3773281241726003,
          0.6297987596733172,
          0.348661373618009,
          0.5195376960135674,
          0.9770669244221744,
          0.4074087196227282,
          0.5378571152043959,
          0.05939761181896197,
          0.10307486416435307,
          0.3219870723210261,
          0.7991987125364719,
          0.14858405334467162,
          0.18042842037766793,
          0.9760313736009334,
          0.2865072836476127,
          0.3802985333406903,
          0.2464511046514647,
          0.3947958814926664,
          0.7571805433785189,
          0.36838650803001394,
          0.32639492975336215,
          0.1679835853328402,
          0.4060386919816855,
          0.16214122153133304,
          0.6198650226863044,
          0.11891299163381885,
          0.5776420188445636,
          0.6252044132133566,
          0.24503221177188328,
          0.677102836316627,
          0.7515218489374903,
          0.9894248682002048,
          0.9533576783696645,
          0.3953519944897057,
          0.4083778275611394,
          0.5083269151151611,
          0.5741087094314675,
          0.5034908389335185,
          0.11048697555836462,
          0.30808698056638184,
          0.5253734629063436,
          0.8369772662818231,
          0.8484740368793011,
          0.9869852146731323,
          0.3254150699057853,
          0.8339628363014,
          0.9243463138450299,
          0.24899053090185097,
          0.5517662461304847,
          0.039600469327114696,
          0.30187228701437185,
          0.7186477348749052,
          0.5895094409398803,
          0.03500043707867517,
          0.021430132240257027,
          0.6496467536471344,
          0.17205279433617315,
          0.2553616942856386,
          0.9467883282324135,
          0.19227486931003757,
          0.5444925847446097,
          0.791346762158903,
          0.7904526118774355,
          0.2882158224344029,
          0.24156867158872264,
          0.8527715891340293,
          0.5627286924018814,
          0.23790541548278643,
          0.28133696338720005,
          0.22399465160618603,
          0.7608971626751602,
          0.17145078799667446,
          0.4379305523532121,
          0.3630322914810168,
          0.9827803533576899,
          0.3543032470233717,
          0.05429754475877702,
          0.23234645875288673,
          0.2337716896543851,
          0.9923961181170792,
          0.6992936234275665,
          0.885000447642663,
          0.6138651053158811,
          0.5105959248441541,
          0.023013587019601767,
          0.16490639959257525,
          0.1253522429603795,
          0.3773007965396452,
          0.2021668679650549,
          0.7515451093256905,
          0.596992857893058,
          0.4826909844953148,
          0.9035515527159623,
          0.5822980598683567,
          0.8448949313623216,
          0.7208347913995637,
          0.2138527422204317,
          0.07658271811011708,
          0.01909769962601915,
          0.8805326268831725,
          0.7316580272533483,
          0.7690409238475473,
          0.12705507935156313,
          0.857393894619422,
          0.6750288848445752,
          0.19313355155816103,
          0.5501156219926524,
          0.2196273009852956,
          0.7985238508639808,
          0.2774473596795184,
          0.35141052790296246,
          0.3972382218800481,
          0.8219977619058579,
          0.8872720952639572,
          0.11424308693384155,
          0.9419629059029017,
          0.5140556265204579,
          0.7422422779900777,
          0.27466611426396637,
          0.2110317735650049,
          0.4304639657070235,
          0.4256826395160248,
          0.042384604706934836,
          0.7535022239861277,
          0.9471189121818417,
          0.9272395563599813,
          0.8528386109637146,
          0.826036613603677,
          0.37469116941888203,
          0.5641326474697468,
          0.3228616615542317,
          0.9978345035154313,
          0.8124717140621195,
          0.7794503279770771,
          0.7926426815640625,
          0.41902438263659647,
          0.30734695431314507,
          0.8127230193002891,
          0.35266895261589304,
          0.7607505028402972,
          0.936552714352052,
          0.7654600794903601,
          0.18772050025464948,
          0.7784045710288031,
          0.17637423781493433,
          0.5870473835369399,
          0.34851531073328224,
          0.8693279013370969,
          0.7332079638307131,
          0.45331564096155363,
          0.2787077032498504,
          0.8974089462879974,
          0.37918488670513373,
          0.6289603229877309,
          0.2608329717360094,
          0.6963372759693088,
          0.20213231334939274,
          0.2991070678906056,
          0.3567824629162675,
          0.2592656553761866,
          0.11885644090495973,
          0.2309985481829132,
          0.5592217452215639,
          0.39459110338015224,
          0.1403652193846513,
          0.5131396538700477,
          0.4089411050157703,
          0.7278470124760659,
          0.9150807471679782,
          0.9008024161553868,
          0.022868411317891746,
          0.6658354182699361,
          0.6624909916008652,
          0.5586977828450547,
          0.2681159973293247,
          0.495678748158351,
          0.2357618508959446,
          0.893246333014358,
          0.35020671238712886,
          0.6752232901606315,
          0.7881958549981704,
          0.6280367231029025,
          0.06865047974018468,
          0.5795264440211609,
          0.03709184504433116,
          0.9675555955618362,
          0.8871683486526225,
          0.20926716034720483,
          0.242542545228701,
          0.7537668419127912,
          0.029579105353888524,
          0.5744381331797977,
          0.054753074213708564,
          0.17968040776430527,
          0.3681156352319225,
          0.23218519296962326,
          0.32037174215188136,
          0.7352475805825872,
          0.9997652955531965,
          0.33033187538690667,
          0.4360988265036241,
          0.3570666190443049,
          0.6928907633902772,
          0.14145619498916207,
          0.1605565939616289,
          0.9507706199228995,
          0.28882624099002074,
          0.7352107198167187,
          0.11299077142950509,
          0.5824365016006109,
          0.32243715306257525,
          0.9094084073797081,
          0.2724754198068887,
          0.9145439384411967,
          0.9124817421388298,
          0.8730151434533091,
          0.019081534152579738,
          0.9668329733881255,
          0.18459458849258148,
          0.6850312027831862,
          0.6725414324321933,
          0.014957504885588335,
          0.44684712674460614,
          0.19524370933660573,
          0.24391745013616428,
          0.8798824568072795,
          0.3443378223647128
         ]
        }
       ],
       "layout": {
        "legend": {
         "bgcolor": "#151516",
         "font": {
          "color": "#D9D9D9"
         }
        },
        "paper_bgcolor": "#151516",
        "plot_bgcolor": "#151516",
        "scene": {
         "xaxis": {
          "gridcolor": "#434343",
          "showgrid": true,
          "tickfont": {
           "color": "#C2C2C2"
          },
          "title": {
           "font": {
            "color": "#D9D9D9"
           },
           "text": ""
          },
          "zerolinecolor": "#666570"
         },
         "yaxis": {
          "gridcolor": "#434343",
          "showgrid": true,
          "tickfont": {
           "color": "#C2C2C2"
          },
          "title": {
           "font": {
            "color": "#D9D9D9"
           },
           "text": ""
          },
          "zerolinecolor": "#666570"
         },
         "zaxis": {
          "gridcolor": "#434343",
          "showgrid": true,
          "tickfont": {
           "color": "#C2C2C2"
          },
          "title": {
           "font": {
            "color": "#D9D9D9"
           },
           "text": ""
          },
          "zerolinecolor": "#666570"
         }
        },
        "template": {
         "data": {
          "bar": [
           {
            "error_x": {
             "color": "#2a3f5f"
            },
            "error_y": {
             "color": "#2a3f5f"
            },
            "marker": {
             "line": {
              "color": "#E5ECF6",
              "width": 0.5
             },
             "pattern": {
              "fillmode": "overlay",
              "size": 10,
              "solidity": 0.2
             }
            },
            "type": "bar"
           }
          ],
          "barpolar": [
           {
            "marker": {
             "line": {
              "color": "#E5ECF6",
              "width": 0.5
             },
             "pattern": {
              "fillmode": "overlay",
              "size": 10,
              "solidity": 0.2
             }
            },
            "type": "barpolar"
           }
          ],
          "carpet": [
           {
            "aaxis": {
             "endlinecolor": "#2a3f5f",
             "gridcolor": "white",
             "linecolor": "white",
             "minorgridcolor": "white",
             "startlinecolor": "#2a3f5f"
            },
            "baxis": {
             "endlinecolor": "#2a3f5f",
             "gridcolor": "white",
             "linecolor": "white",
             "minorgridcolor": "white",
             "startlinecolor": "#2a3f5f"
            },
            "type": "carpet"
           }
          ],
          "choropleth": [
           {
            "colorbar": {
             "outlinewidth": 0,
             "ticks": ""
            },
            "type": "choropleth"
           }
          ],
          "contour": [
           {
            "colorbar": {
             "outlinewidth": 0,
             "ticks": ""
            },
            "colorscale": [
             [
              0,
              "#0d0887"
             ],
             [
              0.1111111111111111,
              "#46039f"
             ],
             [
              0.2222222222222222,
              "#7201a8"
             ],
             [
              0.3333333333333333,
              "#9c179e"
             ],
             [
              0.4444444444444444,
              "#bd3786"
             ],
             [
              0.5555555555555556,
              "#d8576b"
             ],
             [
              0.6666666666666666,
              "#ed7953"
             ],
             [
              0.7777777777777778,
              "#fb9f3a"
             ],
             [
              0.8888888888888888,
              "#fdca26"
             ],
             [
              1,
              "#f0f921"
             ]
            ],
            "type": "contour"
           }
          ],
          "contourcarpet": [
           {
            "colorbar": {
             "outlinewidth": 0,
             "ticks": ""
            },
            "type": "contourcarpet"
           }
          ],
          "heatmap": [
           {
            "colorbar": {
             "outlinewidth": 0,
             "ticks": ""
            },
            "colorscale": [
             [
              0,
              "#0d0887"
             ],
             [
              0.1111111111111111,
              "#46039f"
             ],
             [
              0.2222222222222222,
              "#7201a8"
             ],
             [
              0.3333333333333333,
              "#9c179e"
             ],
             [
              0.4444444444444444,
              "#bd3786"
             ],
             [
              0.5555555555555556,
              "#d8576b"
             ],
             [
              0.6666666666666666,
              "#ed7953"
             ],
             [
              0.7777777777777778,
              "#fb9f3a"
             ],
             [
              0.8888888888888888,
              "#fdca26"
             ],
             [
              1,
              "#f0f921"
             ]
            ],
            "type": "heatmap"
           }
          ],
          "heatmapgl": [
           {
            "colorbar": {
             "outlinewidth": 0,
             "ticks": ""
            },
            "colorscale": [
             [
              0,
              "#0d0887"
             ],
             [
              0.1111111111111111,
              "#46039f"
             ],
             [
              0.2222222222222222,
              "#7201a8"
             ],
             [
              0.3333333333333333,
              "#9c179e"
             ],
             [
              0.4444444444444444,
              "#bd3786"
             ],
             [
              0.5555555555555556,
              "#d8576b"
             ],
             [
              0.6666666666666666,
              "#ed7953"
             ],
             [
              0.7777777777777778,
              "#fb9f3a"
             ],
             [
              0.8888888888888888,
              "#fdca26"
             ],
             [
              1,
              "#f0f921"
             ]
            ],
            "type": "heatmapgl"
           }
          ],
          "histogram": [
           {
            "marker": {
             "pattern": {
              "fillmode": "overlay",
              "size": 10,
              "solidity": 0.2
             }
            },
            "type": "histogram"
           }
          ],
          "histogram2d": [
           {
            "colorbar": {
             "outlinewidth": 0,
             "ticks": ""
            },
            "colorscale": [
             [
              0,
              "#0d0887"
             ],
             [
              0.1111111111111111,
              "#46039f"
             ],
             [
              0.2222222222222222,
              "#7201a8"
             ],
             [
              0.3333333333333333,
              "#9c179e"
             ],
             [
              0.4444444444444444,
              "#bd3786"
             ],
             [
              0.5555555555555556,
              "#d8576b"
             ],
             [
              0.6666666666666666,
              "#ed7953"
             ],
             [
              0.7777777777777778,
              "#fb9f3a"
             ],
             [
              0.8888888888888888,
              "#fdca26"
             ],
             [
              1,
              "#f0f921"
             ]
            ],
            "type": "histogram2d"
           }
          ],
          "histogram2dcontour": [
           {
            "colorbar": {
             "outlinewidth": 0,
             "ticks": ""
            },
            "colorscale": [
             [
              0,
              "#0d0887"
             ],
             [
              0.1111111111111111,
              "#46039f"
             ],
             [
              0.2222222222222222,
              "#7201a8"
             ],
             [
              0.3333333333333333,
              "#9c179e"
             ],
             [
              0.4444444444444444,
              "#bd3786"
             ],
             [
              0.5555555555555556,
              "#d8576b"
             ],
             [
              0.6666666666666666,
              "#ed7953"
             ],
             [
              0.7777777777777778,
              "#fb9f3a"
             ],
             [
              0.8888888888888888,
              "#fdca26"
             ],
             [
              1,
              "#f0f921"
             ]
            ],
            "type": "histogram2dcontour"
           }
          ],
          "mesh3d": [
           {
            "colorbar": {
             "outlinewidth": 0,
             "ticks": ""
            },
            "type": "mesh3d"
           }
          ],
          "parcoords": [
           {
            "line": {
             "colorbar": {
              "outlinewidth": 0,
              "ticks": ""
             }
            },
            "type": "parcoords"
           }
          ],
          "pie": [
           {
            "automargin": true,
            "type": "pie"
           }
          ],
          "scatter": [
           {
            "marker": {
             "colorbar": {
              "outlinewidth": 0,
              "ticks": ""
             }
            },
            "type": "scatter"
           }
          ],
          "scatter3d": [
           {
            "line": {
             "colorbar": {
              "outlinewidth": 0,
              "ticks": ""
             }
            },
            "marker": {
             "colorbar": {
              "outlinewidth": 0,
              "ticks": ""
             }
            },
            "type": "scatter3d"
           }
          ],
          "scattercarpet": [
           {
            "marker": {
             "colorbar": {
              "outlinewidth": 0,
              "ticks": ""
             }
            },
            "type": "scattercarpet"
           }
          ],
          "scattergeo": [
           {
            "marker": {
             "colorbar": {
              "outlinewidth": 0,
              "ticks": ""
             }
            },
            "type": "scattergeo"
           }
          ],
          "scattergl": [
           {
            "marker": {
             "colorbar": {
              "outlinewidth": 0,
              "ticks": ""
             }
            },
            "type": "scattergl"
           }
          ],
          "scattermapbox": [
           {
            "marker": {
             "colorbar": {
              "outlinewidth": 0,
              "ticks": ""
             }
            },
            "type": "scattermapbox"
           }
          ],
          "scatterpolar": [
           {
            "marker": {
             "colorbar": {
              "outlinewidth": 0,
              "ticks": ""
             }
            },
            "type": "scatterpolar"
           }
          ],
          "scatterpolargl": [
           {
            "marker": {
             "colorbar": {
              "outlinewidth": 0,
              "ticks": ""
             }
            },
            "type": "scatterpolargl"
           }
          ],
          "scatterternary": [
           {
            "marker": {
             "colorbar": {
              "outlinewidth": 0,
              "ticks": ""
             }
            },
            "type": "scatterternary"
           }
          ],
          "surface": [
           {
            "colorbar": {
             "outlinewidth": 0,
             "ticks": ""
            },
            "colorscale": [
             [
              0,
              "#0d0887"
             ],
             [
              0.1111111111111111,
              "#46039f"
             ],
             [
              0.2222222222222222,
              "#7201a8"
             ],
             [
              0.3333333333333333,
              "#9c179e"
             ],
             [
              0.4444444444444444,
              "#bd3786"
             ],
             [
              0.5555555555555556,
              "#d8576b"
             ],
             [
              0.6666666666666666,
              "#ed7953"
             ],
             [
              0.7777777777777778,
              "#fb9f3a"
             ],
             [
              0.8888888888888888,
              "#fdca26"
             ],
             [
              1,
              "#f0f921"
             ]
            ],
            "type": "surface"
           }
          ],
          "table": [
           {
            "cells": {
             "fill": {
              "color": "#EBF0F8"
             },
             "line": {
              "color": "white"
             }
            },
            "header": {
             "fill": {
              "color": "#C8D4E3"
             },
             "line": {
              "color": "white"
             }
            },
            "type": "table"
           }
          ]
         },
         "layout": {
          "annotationdefaults": {
           "arrowcolor": "#2a3f5f",
           "arrowhead": 0,
           "arrowwidth": 1
          },
          "autotypenumbers": "strict",
          "coloraxis": {
           "colorbar": {
            "outlinewidth": 0,
            "ticks": ""
           }
          },
          "colorscale": {
           "diverging": [
            [
             0,
             "#8e0152"
            ],
            [
             0.1,
             "#c51b7d"
            ],
            [
             0.2,
             "#de77ae"
            ],
            [
             0.3,
             "#f1b6da"
            ],
            [
             0.4,
             "#fde0ef"
            ],
            [
             0.5,
             "#f7f7f7"
            ],
            [
             0.6,
             "#e6f5d0"
            ],
            [
             0.7,
             "#b8e186"
            ],
            [
             0.8,
             "#7fbc41"
            ],
            [
             0.9,
             "#4d9221"
            ],
            [
             1,
             "#276419"
            ]
           ],
           "sequential": [
            [
             0,
             "#0d0887"
            ],
            [
             0.1111111111111111,
             "#46039f"
            ],
            [
             0.2222222222222222,
             "#7201a8"
            ],
            [
             0.3333333333333333,
             "#9c179e"
            ],
            [
             0.4444444444444444,
             "#bd3786"
            ],
            [
             0.5555555555555556,
             "#d8576b"
            ],
            [
             0.6666666666666666,
             "#ed7953"
            ],
            [
             0.7777777777777778,
             "#fb9f3a"
            ],
            [
             0.8888888888888888,
             "#fdca26"
            ],
            [
             1,
             "#f0f921"
            ]
           ],
           "sequentialminus": [
            [
             0,
             "#0d0887"
            ],
            [
             0.1111111111111111,
             "#46039f"
            ],
            [
             0.2222222222222222,
             "#7201a8"
            ],
            [
             0.3333333333333333,
             "#9c179e"
            ],
            [
             0.4444444444444444,
             "#bd3786"
            ],
            [
             0.5555555555555556,
             "#d8576b"
            ],
            [
             0.6666666666666666,
             "#ed7953"
            ],
            [
             0.7777777777777778,
             "#fb9f3a"
            ],
            [
             0.8888888888888888,
             "#fdca26"
            ],
            [
             1,
             "#f0f921"
            ]
           ]
          },
          "colorway": [
           "#636efa",
           "#EF553B",
           "#00cc96",
           "#ab63fa",
           "#FFA15A",
           "#19d3f3",
           "#FF6692",
           "#B6E880",
           "#FF97FF",
           "#FECB52"
          ],
          "font": {
           "color": "#2a3f5f"
          },
          "geo": {
           "bgcolor": "white",
           "lakecolor": "white",
           "landcolor": "#E5ECF6",
           "showlakes": true,
           "showland": true,
           "subunitcolor": "white"
          },
          "hoverlabel": {
           "align": "left"
          },
          "hovermode": "closest",
          "mapbox": {
           "style": "light"
          },
          "paper_bgcolor": "white",
          "plot_bgcolor": "#E5ECF6",
          "polar": {
           "angularaxis": {
            "gridcolor": "white",
            "linecolor": "white",
            "ticks": ""
           },
           "bgcolor": "#E5ECF6",
           "radialaxis": {
            "gridcolor": "white",
            "linecolor": "white",
            "ticks": ""
           }
          },
          "scene": {
           "xaxis": {
            "backgroundcolor": "#E5ECF6",
            "gridcolor": "white",
            "gridwidth": 2,
            "linecolor": "white",
            "showbackground": true,
            "ticks": "",
            "zerolinecolor": "white"
           },
           "yaxis": {
            "backgroundcolor": "#E5ECF6",
            "gridcolor": "white",
            "gridwidth": 2,
            "linecolor": "white",
            "showbackground": true,
            "ticks": "",
            "zerolinecolor": "white"
           },
           "zaxis": {
            "backgroundcolor": "#E5ECF6",
            "gridcolor": "white",
            "gridwidth": 2,
            "linecolor": "white",
            "showbackground": true,
            "ticks": "",
            "zerolinecolor": "white"
           }
          },
          "shapedefaults": {
           "line": {
            "color": "#2a3f5f"
           }
          },
          "ternary": {
           "aaxis": {
            "gridcolor": "white",
            "linecolor": "white",
            "ticks": ""
           },
           "baxis": {
            "gridcolor": "white",
            "linecolor": "white",
            "ticks": ""
           },
           "bgcolor": "#E5ECF6",
           "caxis": {
            "gridcolor": "white",
            "linecolor": "white",
            "ticks": ""
           }
          },
          "title": {
           "x": 0.05
          },
          "xaxis": {
           "automargin": true,
           "gridcolor": "white",
           "linecolor": "white",
           "ticks": "",
           "title": {
            "standoff": 15
           },
           "zerolinecolor": "white",
           "zerolinewidth": 2
          },
          "yaxis": {
           "automargin": true,
           "gridcolor": "white",
           "linecolor": "white",
           "ticks": "",
           "title": {
            "standoff": 15
           },
           "zerolinecolor": "white",
           "zerolinewidth": 2
          }
         }
        },
        "title": {
         "font": {
          "color": "#D9D9D9"
         }
        }
       }
      },
      "text/html": [
       "<div>                            <div id=\"fe48e4d9-c838-4dda-a74a-a5b0b8d57079\" class=\"plotly-graph-div\" style=\"height:525px; width:100%;\"></div>            <script type=\"text/javascript\">                require([\"plotly\"], function(Plotly) {                    window.PLOTLYENV=window.PLOTLYENV || {};\n",
       "                    window.PLOTLYENV.BASE_URL='https://plot.ly';                                    if (document.getElementById(\"fe48e4d9-c838-4dda-a74a-a5b0b8d57079\")) {                    Plotly.newPlot(                        \"fe48e4d9-c838-4dda-a74a-a5b0b8d57079\",                        [{\"marker\":{\"color\":[\"rgba(255, 153, 51, 1.0)\",\"rgba(55, 128, 191, 1.0)\",\"rgba(50, 171, 96, 1.0)\",\"rgba(128, 0, 128, 1.0)\",\"rgba(219, 64, 82, 1.0)\",\"rgba(0, 128, 128, 1.0)\",\"rgba(255, 255, 51, 1.0)\",\"rgba(128, 128, 0, 1.0)\",\"rgba(251, 128, 114, 1.0)\",\"rgba(128, 177, 211, 1.0)\",\"rgba(128, 177, 211, 0.9733333333333334)\",\"rgba(255, 153, 51, 0.9733333333333334)\",\"rgba(55, 128, 191, 0.9733333333333334)\",\"rgba(50, 171, 96, 0.9733333333333334)\",\"rgba(128, 0, 128, 0.9733333333333334)\",\"rgba(219, 64, 82, 0.9733333333333334)\",\"rgba(0, 128, 128, 0.9733333333333334)\",\"rgba(255, 255, 51, 0.9733333333333334)\",\"rgba(128, 128, 0, 0.9733333333333334)\",\"rgba(251, 128, 114, 0.9733333333333334)\",\"rgba(251, 128, 114, 0.9466666666666665)\",\"rgba(128, 177, 211, 0.9466666666666665)\",\"rgba(255, 153, 51, 0.9466666666666665)\",\"rgba(55, 128, 191, 0.9466666666666665)\",\"rgba(50, 171, 96, 0.9466666666666665)\",\"rgba(128, 0, 128, 0.9466666666666665)\",\"rgba(219, 64, 82, 0.9466666666666665)\",\"rgba(0, 128, 128, 0.9466666666666665)\",\"rgba(255, 255, 51, 0.9466666666666665)\",\"rgba(128, 128, 0, 0.9466666666666665)\",\"rgba(128, 128, 0, 0.9199999999999999)\",\"rgba(251, 128, 114, 0.9199999999999999)\",\"rgba(128, 177, 211, 0.9199999999999999)\",\"rgba(255, 153, 51, 0.9199999999999999)\",\"rgba(55, 128, 191, 0.9199999999999999)\",\"rgba(50, 171, 96, 0.9199999999999999)\",\"rgba(128, 0, 128, 0.9199999999999999)\",\"rgba(219, 64, 82, 0.9199999999999999)\",\"rgba(0, 128, 128, 0.9199999999999999)\",\"rgba(255, 255, 51, 0.9199999999999999)\",\"rgba(255, 255, 51, 0.8933333333333333)\",\"rgba(128, 128, 0, 0.8933333333333333)\",\"rgba(251, 128, 114, 0.8933333333333333)\",\"rgba(128, 177, 211, 0.8933333333333333)\",\"rgba(255, 153, 51, 0.8933333333333333)\",\"rgba(55, 128, 191, 0.8933333333333333)\",\"rgba(50, 171, 96, 0.8933333333333333)\",\"rgba(128, 0, 128, 0.8933333333333333)\",\"rgba(219, 64, 82, 0.8933333333333333)\",\"rgba(0, 128, 128, 0.8933333333333333)\",\"rgba(0, 128, 128, 0.8666666666666667)\",\"rgba(255, 255, 51, 0.8666666666666667)\",\"rgba(128, 128, 0, 0.8666666666666667)\",\"rgba(251, 128, 114, 0.8666666666666667)\",\"rgba(128, 177, 211, 0.8666666666666667)\",\"rgba(255, 153, 51, 0.8666666666666667)\",\"rgba(55, 128, 191, 0.8666666666666667)\",\"rgba(50, 171, 96, 0.8666666666666667)\",\"rgba(128, 0, 128, 0.8666666666666667)\",\"rgba(219, 64, 82, 0.8666666666666667)\",\"rgba(219, 64, 82, 0.8399999999999999)\",\"rgba(0, 128, 128, 0.8399999999999999)\",\"rgba(255, 255, 51, 0.8399999999999999)\",\"rgba(128, 128, 0, 0.8399999999999999)\",\"rgba(251, 128, 114, 0.8399999999999999)\",\"rgba(128, 177, 211, 0.8399999999999999)\",\"rgba(255, 153, 51, 0.8399999999999999)\",\"rgba(55, 128, 191, 0.8399999999999999)\",\"rgba(50, 171, 96, 0.8399999999999999)\",\"rgba(128, 0, 128, 0.8399999999999999)\",\"rgba(128, 0, 128, 0.8133333333333332)\",\"rgba(219, 64, 82, 0.8133333333333332)\",\"rgba(0, 128, 128, 0.8133333333333332)\",\"rgba(255, 255, 51, 0.8133333333333332)\",\"rgba(128, 128, 0, 0.8133333333333332)\",\"rgba(251, 128, 114, 0.8133333333333332)\",\"rgba(128, 177, 211, 0.8133333333333332)\",\"rgba(255, 153, 51, 0.8133333333333332)\",\"rgba(55, 128, 191, 0.8133333333333332)\",\"rgba(50, 171, 96, 0.8133333333333332)\",\"rgba(50, 171, 96, 0.7866666666666666)\",\"rgba(128, 0, 128, 0.7866666666666666)\",\"rgba(219, 64, 82, 0.7866666666666666)\",\"rgba(0, 128, 128, 0.7866666666666666)\",\"rgba(255, 255, 51, 0.7866666666666666)\",\"rgba(128, 128, 0, 0.7866666666666666)\",\"rgba(251, 128, 114, 0.7866666666666666)\",\"rgba(128, 177, 211, 0.7866666666666666)\",\"rgba(255, 153, 51, 0.7866666666666666)\",\"rgba(55, 128, 191, 0.7866666666666666)\",\"rgba(55, 128, 191, 0.76)\",\"rgba(50, 171, 96, 0.76)\",\"rgba(128, 0, 128, 0.76)\",\"rgba(219, 64, 82, 0.76)\",\"rgba(0, 128, 128, 0.76)\",\"rgba(255, 255, 51, 0.76)\",\"rgba(128, 128, 0, 0.76)\",\"rgba(251, 128, 114, 0.76)\",\"rgba(128, 177, 211, 0.76)\",\"rgba(255, 153, 51, 0.76)\",\"rgba(255, 153, 51, 0.7333333333333332)\",\"rgba(55, 128, 191, 0.7333333333333332)\",\"rgba(50, 171, 96, 0.7333333333333332)\",\"rgba(128, 0, 128, 0.7333333333333332)\",\"rgba(219, 64, 82, 0.7333333333333332)\",\"rgba(0, 128, 128, 0.7333333333333332)\",\"rgba(255, 255, 51, 0.7333333333333332)\",\"rgba(128, 128, 0, 0.7333333333333332)\",\"rgba(251, 128, 114, 0.7333333333333332)\",\"rgba(128, 177, 211, 0.7333333333333332)\",\"rgba(128, 177, 211, 0.7066666666666666)\",\"rgba(255, 153, 51, 0.7066666666666666)\",\"rgba(55, 128, 191, 0.7066666666666666)\",\"rgba(50, 171, 96, 0.7066666666666666)\",\"rgba(128, 0, 128, 0.7066666666666666)\",\"rgba(219, 64, 82, 0.7066666666666666)\",\"rgba(0, 128, 128, 0.7066666666666666)\",\"rgba(255, 255, 51, 0.7066666666666666)\",\"rgba(128, 128, 0, 0.7066666666666666)\",\"rgba(251, 128, 114, 0.7066666666666666)\",\"rgba(251, 128, 114, 0.6799999999999999)\",\"rgba(128, 177, 211, 0.6799999999999999)\",\"rgba(255, 153, 51, 0.6799999999999999)\",\"rgba(55, 128, 191, 0.6799999999999999)\",\"rgba(50, 171, 96, 0.6799999999999999)\",\"rgba(128, 0, 128, 0.6799999999999999)\",\"rgba(219, 64, 82, 0.6799999999999999)\",\"rgba(0, 128, 128, 0.6799999999999999)\",\"rgba(255, 255, 51, 0.6799999999999999)\",\"rgba(128, 128, 0, 0.6799999999999999)\",\"rgba(128, 128, 0, 0.6533333333333333)\",\"rgba(251, 128, 114, 0.6533333333333333)\",\"rgba(128, 177, 211, 0.6533333333333333)\",\"rgba(255, 153, 51, 0.6533333333333333)\",\"rgba(55, 128, 191, 0.6533333333333333)\",\"rgba(50, 171, 96, 0.6533333333333333)\",\"rgba(128, 0, 128, 0.6533333333333333)\",\"rgba(219, 64, 82, 0.6533333333333333)\",\"rgba(0, 128, 128, 0.6533333333333333)\",\"rgba(255, 255, 51, 0.6533333333333333)\",\"rgba(255, 255, 51, 0.6266666666666665)\",\"rgba(128, 128, 0, 0.6266666666666665)\",\"rgba(251, 128, 114, 0.6266666666666665)\",\"rgba(128, 177, 211, 0.6266666666666665)\",\"rgba(255, 153, 51, 0.6266666666666665)\",\"rgba(55, 128, 191, 0.6266666666666665)\",\"rgba(50, 171, 96, 0.6266666666666665)\",\"rgba(128, 0, 128, 0.6266666666666665)\",\"rgba(219, 64, 82, 0.6266666666666665)\",\"rgba(0, 128, 128, 0.6266666666666665)\",\"rgba(0, 128, 128, 0.5999999999999999)\",\"rgba(255, 255, 51, 0.5999999999999999)\",\"rgba(128, 128, 0, 0.5999999999999999)\",\"rgba(251, 128, 114, 0.5999999999999999)\",\"rgba(128, 177, 211, 0.5999999999999999)\",\"rgba(255, 153, 51, 0.5999999999999999)\",\"rgba(55, 128, 191, 0.5999999999999999)\",\"rgba(50, 171, 96, 0.5999999999999999)\",\"rgba(128, 0, 128, 0.5999999999999999)\",\"rgba(219, 64, 82, 0.5999999999999999)\",\"rgba(219, 64, 82, 0.5733333333333333)\",\"rgba(0, 128, 128, 0.5733333333333333)\",\"rgba(255, 255, 51, 0.5733333333333333)\",\"rgba(128, 128, 0, 0.5733333333333333)\",\"rgba(251, 128, 114, 0.5733333333333333)\",\"rgba(128, 177, 211, 0.5733333333333333)\",\"rgba(255, 153, 51, 0.5733333333333333)\",\"rgba(55, 128, 191, 0.5733333333333333)\",\"rgba(50, 171, 96, 0.5733333333333333)\",\"rgba(128, 0, 128, 0.5733333333333333)\",\"rgba(128, 0, 128, 0.5466666666666666)\",\"rgba(219, 64, 82, 0.5466666666666666)\",\"rgba(0, 128, 128, 0.5466666666666666)\",\"rgba(255, 255, 51, 0.5466666666666666)\",\"rgba(128, 128, 0, 0.5466666666666666)\",\"rgba(251, 128, 114, 0.5466666666666666)\",\"rgba(128, 177, 211, 0.5466666666666666)\",\"rgba(255, 153, 51, 0.5466666666666666)\",\"rgba(55, 128, 191, 0.5466666666666666)\",\"rgba(50, 171, 96, 0.5466666666666666)\",\"rgba(50, 171, 96, 0.5199999999999998)\",\"rgba(128, 0, 128, 0.5199999999999998)\",\"rgba(219, 64, 82, 0.5199999999999998)\",\"rgba(0, 128, 128, 0.5199999999999998)\",\"rgba(255, 255, 51, 0.5199999999999998)\",\"rgba(128, 128, 0, 0.5199999999999998)\",\"rgba(251, 128, 114, 0.5199999999999998)\",\"rgba(128, 177, 211, 0.5199999999999998)\",\"rgba(255, 153, 51, 0.5199999999999998)\",\"rgba(55, 128, 191, 0.5199999999999998)\",\"rgba(55, 128, 191, 0.49333333333333323)\",\"rgba(50, 171, 96, 0.49333333333333323)\",\"rgba(128, 0, 128, 0.49333333333333323)\",\"rgba(219, 64, 82, 0.49333333333333323)\",\"rgba(0, 128, 128, 0.49333333333333323)\",\"rgba(255, 255, 51, 0.49333333333333323)\",\"rgba(128, 128, 0, 0.49333333333333323)\",\"rgba(251, 128, 114, 0.49333333333333323)\",\"rgba(128, 177, 211, 0.49333333333333323)\",\"rgba(255, 153, 51, 0.49333333333333323)\",\"rgba(255, 153, 51, 0.4666666666666666)\",\"rgba(55, 128, 191, 0.4666666666666666)\",\"rgba(50, 171, 96, 0.4666666666666666)\",\"rgba(128, 0, 128, 0.4666666666666666)\",\"rgba(219, 64, 82, 0.4666666666666666)\",\"rgba(0, 128, 128, 0.4666666666666666)\",\"rgba(255, 255, 51, 0.4666666666666666)\",\"rgba(128, 128, 0, 0.4666666666666666)\",\"rgba(251, 128, 114, 0.4666666666666666)\",\"rgba(128, 177, 211, 0.4666666666666666)\",\"rgba(128, 177, 211, 0.44)\",\"rgba(255, 153, 51, 0.44)\",\"rgba(55, 128, 191, 0.44)\",\"rgba(50, 171, 96, 0.44)\",\"rgba(128, 0, 128, 0.44)\",\"rgba(219, 64, 82, 0.44)\",\"rgba(0, 128, 128, 0.44)\",\"rgba(255, 255, 51, 0.44)\",\"rgba(128, 128, 0, 0.44)\",\"rgba(251, 128, 114, 0.44)\",\"rgba(251, 128, 114, 0.41333333333333316)\",\"rgba(128, 177, 211, 0.41333333333333316)\",\"rgba(255, 153, 51, 0.41333333333333316)\",\"rgba(55, 128, 191, 0.41333333333333316)\",\"rgba(50, 171, 96, 0.41333333333333316)\",\"rgba(128, 0, 128, 0.41333333333333316)\",\"rgba(219, 64, 82, 0.41333333333333316)\",\"rgba(0, 128, 128, 0.41333333333333316)\",\"rgba(255, 255, 51, 0.41333333333333316)\",\"rgba(128, 128, 0, 0.41333333333333316)\",\"rgba(128, 128, 0, 0.38666666666666655)\",\"rgba(251, 128, 114, 0.38666666666666655)\",\"rgba(128, 177, 211, 0.38666666666666655)\",\"rgba(255, 153, 51, 0.38666666666666655)\",\"rgba(55, 128, 191, 0.38666666666666655)\",\"rgba(50, 171, 96, 0.38666666666666655)\",\"rgba(128, 0, 128, 0.38666666666666655)\",\"rgba(219, 64, 82, 0.38666666666666655)\",\"rgba(0, 128, 128, 0.38666666666666655)\",\"rgba(255, 255, 51, 0.38666666666666655)\",\"rgba(255, 255, 51, 0.35999999999999993)\",\"rgba(128, 128, 0, 0.35999999999999993)\",\"rgba(251, 128, 114, 0.35999999999999993)\",\"rgba(128, 177, 211, 0.35999999999999993)\",\"rgba(255, 153, 51, 0.35999999999999993)\",\"rgba(55, 128, 191, 0.35999999999999993)\",\"rgba(50, 171, 96, 0.35999999999999993)\",\"rgba(128, 0, 128, 0.35999999999999993)\",\"rgba(219, 64, 82, 0.35999999999999993)\",\"rgba(0, 128, 128, 0.35999999999999993)\",\"rgba(0, 128, 128, 0.3333333333333333)\",\"rgba(255, 255, 51, 0.3333333333333333)\",\"rgba(128, 128, 0, 0.3333333333333333)\",\"rgba(251, 128, 114, 0.3333333333333333)\",\"rgba(128, 177, 211, 0.3333333333333333)\",\"rgba(255, 153, 51, 0.3333333333333333)\",\"rgba(55, 128, 191, 0.3333333333333333)\",\"rgba(50, 171, 96, 0.3333333333333333)\",\"rgba(128, 0, 128, 0.3333333333333333)\",\"rgba(219, 64, 82, 0.3333333333333333)\",\"rgba(219, 64, 82, 0.3066666666666665)\",\"rgba(0, 128, 128, 0.3066666666666665)\",\"rgba(255, 255, 51, 0.3066666666666665)\",\"rgba(128, 128, 0, 0.3066666666666665)\",\"rgba(251, 128, 114, 0.3066666666666665)\",\"rgba(128, 177, 211, 0.3066666666666665)\",\"rgba(255, 153, 51, 0.3066666666666665)\",\"rgba(55, 128, 191, 0.3066666666666665)\",\"rgba(50, 171, 96, 0.3066666666666665)\",\"rgba(128, 0, 128, 0.3066666666666665)\",\"rgba(128, 0, 128, 0.27999999999999986)\",\"rgba(219, 64, 82, 0.27999999999999986)\",\"rgba(0, 128, 128, 0.27999999999999986)\",\"rgba(255, 255, 51, 0.27999999999999986)\",\"rgba(128, 128, 0, 0.27999999999999986)\",\"rgba(251, 128, 114, 0.27999999999999986)\",\"rgba(128, 177, 211, 0.27999999999999986)\",\"rgba(255, 153, 51, 0.27999999999999986)\",\"rgba(55, 128, 191, 0.27999999999999986)\",\"rgba(50, 171, 96, 0.27999999999999986)\",\"rgba(50, 171, 96, 0.25333333333333324)\",\"rgba(128, 0, 128, 0.25333333333333324)\",\"rgba(219, 64, 82, 0.25333333333333324)\",\"rgba(0, 128, 128, 0.25333333333333324)\",\"rgba(255, 255, 51, 0.25333333333333324)\",\"rgba(128, 128, 0, 0.25333333333333324)\",\"rgba(251, 128, 114, 0.25333333333333324)\",\"rgba(128, 177, 211, 0.25333333333333324)\",\"rgba(255, 153, 51, 0.25333333333333324)\",\"rgba(55, 128, 191, 0.25333333333333324)\",\"rgba(55, 128, 191, 0.22666666666666663)\",\"rgba(50, 171, 96, 0.22666666666666663)\",\"rgba(128, 0, 128, 0.22666666666666663)\",\"rgba(219, 64, 82, 0.22666666666666663)\",\"rgba(0, 128, 128, 0.22666666666666663)\",\"rgba(255, 255, 51, 0.22666666666666663)\",\"rgba(128, 128, 0, 0.22666666666666663)\",\"rgba(251, 128, 114, 0.22666666666666663)\",\"rgba(128, 177, 211, 0.22666666666666663)\",\"rgba(255, 153, 51, 0.22666666666666663)\"],\"opacity\":0.8,\"size\":[12,12,12,12,12,12,12,12,12,12,12,12,12,12,12,12,12,12,12,12,12,12,12,12,12,12,12,12,12,12,12,12,12,12,12,12,12,12,12,12,12,12,12,12,12,12,12,12,12,12,12,12,12,12,12,12,12,12,12,12,12,12,12,12,12,12,12,12,12,12,12,12,12,12,12,12,12,12,12,12,12,12,12,12,12,12,12,12,12,12,12,12,12,12,12,12,12,12,12,12,12,12,12,12,12,12,12,12,12,12,12,12,12,12,12,12,12,12,12,12,12,12,12,12,12,12,12,12,12,12,12,12,12,12,12,12,12,12,12,12,12,12,12,12,12,12,12,12,12,12,12,12,12,12,12,12,12,12,12,12,12,12,12,12,12,12,12,12,12,12,12,12,12,12,12,12,12,12,12,12,12,12,12,12,12,12,12,12,12,12,12,12,12,12,12,12,12,12,12,12,12,12,12,12,12,12,12,12,12,12,12,12,12,12,12,12,12,12,12,12,12,12,12,12,12,12,12,12,12,12,12,12,12,12,12,12,12,12,12,12,12,12,12,12,12,12,12,12,12,12,12,12,12,12,12,12,12,12,12,12,12,12,12,12,12,12,12,12,12,12,12,12,12,12,12,12,12,12,12,12,12,12,12,12,12,12,12,12,12,12,12,12,12,12,12,12,12,12,12,12],\"symbol\":\"circle\"},\"mode\":\"markers\",\"text\":[\"0\",\"1\",\"2\",\"3\",\"4\",\"5\",\"6\",\"7\",\"8\",\"9\",\"10\",\"11\",\"12\",\"13\",\"14\",\"15\",\"16\",\"17\",\"18\",\"19\",\"20\",\"21\",\"22\",\"23\",\"24\",\"25\",\"26\",\"27\",\"28\",\"29\",\"30\",\"31\",\"32\",\"33\",\"34\",\"35\",\"36\",\"37\",\"38\",\"39\",\"40\",\"41\",\"42\",\"43\",\"44\",\"45\",\"46\",\"47\",\"48\",\"49\",\"50\",\"51\",\"52\",\"53\",\"54\",\"55\",\"56\",\"57\",\"58\",\"59\",\"60\",\"61\",\"62\",\"63\",\"64\",\"65\",\"66\",\"67\",\"68\",\"69\",\"70\",\"71\",\"72\",\"73\",\"74\",\"75\",\"76\",\"77\",\"78\",\"79\",\"80\",\"81\",\"82\",\"83\",\"84\",\"85\",\"86\",\"87\",\"88\",\"89\",\"90\",\"91\",\"92\",\"93\",\"94\",\"95\",\"96\",\"97\",\"98\",\"99\",\"100\",\"101\",\"102\",\"103\",\"104\",\"105\",\"106\",\"107\",\"108\",\"109\",\"110\",\"111\",\"112\",\"113\",\"114\",\"115\",\"116\",\"117\",\"118\",\"119\",\"120\",\"121\",\"122\",\"123\",\"124\",\"125\",\"126\",\"127\",\"128\",\"129\",\"130\",\"131\",\"132\",\"133\",\"134\",\"135\",\"136\",\"137\",\"138\",\"139\",\"140\",\"141\",\"142\",\"143\",\"144\",\"145\",\"146\",\"147\",\"148\",\"149\",\"150\",\"151\",\"152\",\"153\",\"154\",\"155\",\"156\",\"157\",\"158\",\"159\",\"160\",\"161\",\"162\",\"163\",\"164\",\"165\",\"166\",\"167\",\"168\",\"169\",\"170\",\"171\",\"172\",\"173\",\"174\",\"175\",\"176\",\"177\",\"178\",\"179\",\"180\",\"181\",\"182\",\"183\",\"184\",\"185\",\"186\",\"187\",\"188\",\"189\",\"190\",\"191\",\"192\",\"193\",\"194\",\"195\",\"196\",\"197\",\"198\",\"199\",\"200\",\"201\",\"202\",\"203\",\"204\",\"205\",\"206\",\"207\",\"208\",\"209\",\"210\",\"211\",\"212\",\"213\",\"214\",\"215\",\"216\",\"217\",\"218\",\"219\",\"220\",\"221\",\"222\",\"223\",\"224\",\"225\",\"226\",\"227\",\"228\",\"229\",\"230\",\"231\",\"232\",\"233\",\"234\",\"235\",\"236\",\"237\",\"238\",\"239\",\"240\",\"241\",\"242\",\"243\",\"244\",\"245\",\"246\",\"247\",\"248\",\"249\",\"250\",\"251\",\"252\",\"253\",\"254\",\"255\",\"256\",\"257\",\"258\",\"259\",\"260\",\"261\",\"262\",\"263\",\"264\",\"265\",\"266\",\"267\",\"268\",\"269\",\"270\",\"271\",\"272\",\"273\",\"274\",\"275\",\"276\",\"277\",\"278\",\"279\",\"280\",\"281\",\"282\",\"283\",\"284\",\"285\",\"286\",\"287\",\"288\",\"289\",\"290\",\"291\",\"292\",\"293\",\"294\",\"295\",\"296\",\"297\",\"298\",\"299\"],\"x\":[0.4805180236512694,0.43550247554477406,0.7638582930124218,0.058477753961242995,0.48842105892623044,0.9104691610980766,0.7830137325843803,0.45540790878847615,0.5499234142206358,0.7816302322937705,0.1542248729933714,0.9934987104037283,0.7513788813581082,0.6585585175588562,0.2530764424699312,0.8414547083143562,0.47617356900493724,0.623035199227627,0.9745818370194924,0.4426130253484404,0.5974385428530128,0.865014773354495,0.6371664259543772,0.9490707762635722,0.8088126179973245,0.7975592937394747,0.3830933426059684,0.7391741607348541,0.21233618209791316,0.3424379503678229,0.39343138496823216,0.24733394178374657,0.9639699007679877,0.5156576835857729,0.9390827380909558,0.9736286459609916,0.14256267576207027,0.8803872959832698,0.5422453104094671,0.052740688916577017,0.6768037493763827,0.4303957997023784,0.14663332831505593,0.884979354791805,0.22969214680353,0.3518481262337879,0.920538992705409,0.3547440751680496,0.7145865535633373,0.08397927705435781,0.7975716462098886,0.19546397666613757,0.23376507595561857,0.21080201988300817,0.5213476657559573,0.9828803673202637,0.3389562668052999,0.7004581509531357,0.20134554207518784,0.3384541234014249,0.026920079848589906,0.8916220045896014,0.27454537769634624,0.33864238557059023,0.6466867653705195,0.7367883124952433,0.1409214573092643,0.6601320195535882,0.24081904090015482,0.5403616200995277,0.7466027692934228,0.8157067955365893,0.950974515004191,0.7441317342612848,0.9937889712641775,0.8807064535631802,0.3776141343118019,0.06750204343493105,0.913710478224249,0.6721451015323363,0.11814471644872393,0.2757806896406877,0.8440483783891166,0.9715168096116128,0.8312066015229351,0.5927002641764545,0.8106755325589681,0.3846981130150223,0.7574096883622572,0.6605163662245337,0.31610900165986544,0.053705223405780655,0.5971430094980757,0.5227357031916632,0.027982809720308532,0.14965812274332857,0.9814461161095585,0.746536254334702,0.15753965249331137,0.448566977055901,0.17817374016203413,0.7508849541213567,0.7056794707073033,0.2562919952902938,0.6559592450092664,0.552259001322632,0.889553651220763,0.20569271252115617,0.19166331322399044,0.30348558818039895,0.36787275140598785,0.619987412224018,0.3943786716030552,0.6557894007394777,0.8209326644120659,0.811330095561994,0.07026665392290965,0.3643150865671022,0.6910958033350569,0.4610910736504238,0.6517791575644528,0.3577315289320896,0.4687262116001606,0.053073619905108615,0.0966639711070284,0.5843027101936487,0.8397387818381248,0.7462436498908546,0.4109559747521697,0.1217281361822482,0.030998904924069093,0.8629338244561007,0.43769113733768683,0.9129578711860614,0.3574307201057264,0.5890594833160312,0.0880290933427299,0.9279537907331749,0.3091456379611326,0.754113372148418,0.302567995516151,0.7023919870247578,0.9507441682806775,0.31281938757547734,0.23275842289728255,0.7749750058153453,0.26083388467928237,0.807998115517997,0.11615109235572119,0.29652677356863366,0.21687461886175685,0.3342960041358759,0.12153779850571667,0.7824718341932465,0.8489201308362406,0.30080877155582975,0.5909789335429633,0.09738664238252748,0.7917484902605484,0.5177407750807479,0.8479323202982691,0.1736294595504292,0.1162386694155979,0.28213422548820843,0.41554569111504736,0.6950640952243496,0.17854150341188757,0.5816510568811482,0.2918564637071287,0.3648390040808822,0.7299559764932132,0.31672903930482166,0.6055587214441999,0.9280422621322838,0.07016387265522828,0.9858590944898352,0.06251510535869254,0.9784677911869331,0.034959324677262926,0.8238366990103345,0.41648125234724975,0.018039757156518288,0.024095951950959815,0.40758759492821417,0.2956966605803575,0.7347562193650921,0.8752438974140592,0.8981362584543128,0.6812995400660025,0.6037322261714015,0.012338105591265469,0.23805115592659576,0.7366707279043103,0.44676479018411497,0.9106364785131152,0.5961249054530399,0.05932210788365644,0.6904504225057506,0.5364045841297277,0.5021800558020327,0.18576771700535366,0.9057506469470292,0.09936111649723056,0.5510323678749866,0.3522920655079712,0.07652962501123883,0.7385821603305627,0.03739678283048842,0.6157957425801661,0.20895744081006895,0.5542736952192329,0.3944988245251134,0.32981484243512027,0.5841271442893475,0.8882145468940412,0.45339445693057734,0.2073925818638963,0.7569379965440296,0.855020769237822,0.986103518750744,0.46304277399685767,0.9169150374521705,0.28543338583314515,0.078375788149327,0.6907535897709757,0.5363616455702898,0.05648996043689003,0.47780005140980364,0.20749512508833645,0.725262964785317,0.2861329468273035,0.6546655538396429,0.5827429839577649,0.4254874094101202,0.17220581888966147,0.23214782325710392,0.7386203764996878,0.026883715752366144,0.08942882890256276,0.06277083255608995,0.7009823569487197,0.22192006354638438,0.847016545920658,0.39940399234682045,0.5484092058660311,0.2892180148730782,0.23500953810163228,0.33992700943742016,0.08333737620577164,0.6434553971442605,0.9701365522518629,0.015669538892733925,0.44424684618969823,0.15352594074666137,0.2639497677168744,0.7452903057606506,0.031562588942379954,0.4266724695337214,0.03721569803888625,0.5561444456048287,0.9399588842387024,0.9741018544186113,0.1221242427779472,0.10956905159374686,0.5539081340363624,0.4790524724025048,0.20877638714726954,0.6343482224554199,0.7810519525830806,0.12345467112911668,0.16630979210690178,0.21533723352669054,0.26959834084406875,0.2798503392940118,0.585761070931887,0.31534284153565306,0.9134165383677784,0.1479972982171246,0.280644924379573,0.810673760141672,0.4329517576556512,0.9108021870184035,0.6075330991313546,0.5517014730953486,0.6373228999622604,0.9534675573173252,0.4095400203247491,0.3542239185914058,0.05942128055443585,0.9602165876271606,0.9977552519518161,0.552551470845481,0.4927164288889204,0.5520188675958654,0.3479506629702983,0.20938199623278098,0.40839349396125413,0.33592176559716336,0.2782869049134953,0.6576067594858146],\"y\":[0.2616972067562794,0.965856192761436,0.9731755877329998,0.09650187591020143,0.677377160678866,0.7746766179041092,0.6096952090678328,0.5100560601906962,0.47929448870739966,0.21559272989178424,0.16034468723673523,0.9568548103569411,0.03915713960078926,0.5668813319953047,0.23803726214256005,0.025574871046434855,0.9944695894028708,0.879381548097398,0.27995010512869645,0.10451465518802716,0.866600357196071,0.8792502431986794,0.6537439752900239,0.2773790373348036,0.03407916371688968,0.8372406866886217,0.9485506852568658,0.631492332765093,0.8205970079235249,0.4859670916836111,0.89736876897561,0.6111278417657411,0.6218672131270867,0.47119610360024977,0.3420522682464564,0.02504916012091829,0.6778307173871495,0.38609149005007315,0.42999738942306254,0.07120311005406543,0.2650259856565099,0.8196466216094488,0.9476048381658999,0.16737120781283066,0.5984004867761263,0.7651356795648258,0.23347317317284177,0.8781334518492326,0.9255359518906756,0.05029070076949371,0.7679726357971449,0.034382593270424144,0.10474677472514238,0.5960081846380327,0.8781944575645191,0.8460677635797924,0.663031910094326,0.6431945514914079,0.05781904827643558,0.026075179552852434,0.6748158727681163,0.8176766820950822,0.7275777074542967,0.4370644588853483,0.8899330035297478,0.6636814412831845,0.04930755439622492,0.39543761933653687,0.4059634628249097,0.7092522005491678,0.9575505703580512,0.22422318643970318,0.38918279838526526,0.9312927357802647,0.7998449483268358,0.034839240290610474,0.8150062554428444,0.20218160054288614,0.2775156542982915,0.13614523713853732,0.7852948137902311,0.6389487430365167,0.6879947492387687,0.057741001209266174,0.9389594267594324,0.8840349540926837,0.607535860797791,0.42903937076610843,0.9392257331827042,0.8113597578537464,0.055159950718778994,0.9740082303900695,0.6045526655780177,0.7099045591866116,0.42843209426739004,0.24493222407071735,0.9134035217812333,0.8771525858554973,0.3027111860675219,0.4552200744657213,0.3537313766413003,0.4684251864513199,0.4715666277703051,0.7892944343951966,0.38168840974090545,0.809912782121264,0.32064171391951923,0.07791239676980843,0.8376963917153093,0.8168075342963187,0.8567733751216048,0.00976369685121592,0.1694945441814284,0.4495833318254179,0.6749276497575252,0.9063038648170022,0.45926011530225397,0.8994230383505314,0.17833115484886464,0.9938345616881894,0.016476523895530004,0.5571740970158847,0.9786598384882385,0.20259908296700935,0.3699105963059285,0.0013403744934005202,0.3586572644844819,0.20423033295329218,0.9324296213070646,0.6924609918516542,0.9426437299180822,0.17475498129467193,0.6365737064870617,0.4789273351002966,0.280979574133258,0.725206659048991,0.12179342411583849,0.6176619978854906,0.3893706393813703,0.8609583426700588,0.6249326230027313,0.5558698359040055,0.3689363768960059,0.9112359321874759,0.1181103360967628,0.7520367346749153,0.25173481139068443,0.7113731520084642,0.4833855897747795,0.45234864418309684,0.07184661535172576,0.647646955273128,0.2146877200576638,0.24147110867315313,0.8971789879967281,0.41504023046111915,0.19143050993627864,0.6957606783372118,0.7533533306857292,0.17506482227841547,0.5246549756944253,0.5363145645613424,0.37728856131163824,0.23102227246141127,0.4228908520339598,0.7549803371516597,0.603388936932501,0.5746658306156146,0.8451051576301085,0.43444156979279613,0.28545792889043653,0.6470659982941506,0.3885372972573463,0.8093092457884983,0.5612693800757292,0.8727873396876118,0.5228341544343228,0.7750010829832723,0.5579476670542088,0.46444959165328537,0.7193596306349374,0.15652979709190395,0.4692385240486969,0.33027072744580077,0.2543965000879188,0.09693434345689855,0.3503432901827973,0.9303462355057094,0.8390919584158387,0.18634709315467457,0.7429148443969288,0.3209751423750685,0.047192726942152485,0.2510934580531283,0.4574810915894314,0.35802222420377605,0.2421993080142386,0.5964161914467453,0.3983814822394983,0.378972169134698,0.5106380829965077,0.29164633084780744,0.6393155376849227,0.5801493834483331,0.6971895003249141,0.4255597523990272,0.24755956393214162,0.9024826645156634,0.3518934579750793,0.07186650364824998,0.7711674297139942,0.12289699196946235,0.04438635247070377,0.6796393957854073,0.4836660995078472,0.8573920538763091,0.6728322051762375,0.49179046407282634,0.6509662231371871,0.5453497014984713,0.9473619262213605,0.41666025125140393,0.6860477434705998,0.03383942744976731,0.23756503175121058,0.0029948093862748326,0.47062081662097666,0.08638885287423548,0.46221432373176086,0.6723345778108596,0.8832347427647242,0.6831224222820484,0.9262032759668022,0.8430774272580798,0.11972458787273976,0.038466809524619894,0.7658930049131565,0.3105084487942681,0.29322221742321364,0.8306009865094309,0.5348799325788595,0.6428207246413357,0.15146667852820805,0.1955755784713884,0.7159577464589186,0.21096713817755564,0.6785283773608595,0.001033018049806933,0.548103948007289,0.32334458813047806,0.026608578608872002,0.9020415781475918,0.5227448010696475,0.6982743544388744,0.44675617091479025,0.60934295588084,0.7406750757376289,0.12773346926111928,0.5035028038781004,0.5548447159737414,0.45615849241510975,0.6926077309933943,0.3397801724664603,0.64840003089699,0.3385451241736305,0.025508195133065903,0.69749352111413,0.09926014840077291,0.396579945508882,0.6967548798847544,0.1592636590596601,0.9685476389242043,0.4667461736599968,0.38066522717284146,0.10791119035768937,0.7082086424248432,0.9538315378029285,0.02477228974483847,0.20975356527006128,0.07342574463189466,0.6118088171689587,0.10906450612993457,0.5803349487413056,0.4407561075520843,0.10264160561010338,0.9191928560793947,0.21672230574560636,0.6516946313316628,0.7736660244537953,0.9758249156797977,0.6896982261107723,0.33567748552513366,0.704024380939992,0.020228216393820997,0.8880649538773379,0.6392556047614111,0.4931517325659819,0.1178005847655812,0.3463202530905676,0.11735213898795183],\"z\":[0.14761764872208294,0.9396899009955453,0.8339870192575315,0.37055182472211545,0.2183818954368063,0.040191932403714326,0.39568151517686956,0.5410571240953373,0.4037059716057467,0.7669137818596906,0.5580093497183138,0.7995250915067058,0.47714895371263977,0.8109484860274389,0.12126163198436257,0.7309953161284616,0.004044995876716917,0.16735412324305354,0.7835861191945575,0.9940888391067109,0.33462456447158617,0.7904328387487796,0.2489222314865991,0.027638356970694722,0.6968090530098987,0.4201624593563933,0.9454367382425181,0.4426866221516993,0.5460923749852856,0.6038973393304851,0.5845873559677979,0.28715559076602815,0.7356962282113202,0.25139388465442847,0.6401695778287583,0.5393399939528126,0.42768300653989033,0.6985101245638986,0.7161259833231802,0.07337309100393641,0.5395385053680002,0.7394794920444232,0.9448489443397495,0.06631224206799413,0.8974275048704307,0.24356846127089693,0.8209526013156715,0.5550249219503631,0.5017321289777424,0.34582538650893,0.8122539591078208,0.16811813679424625,0.9194447041177214,0.3430659196253547,0.396799214125923,0.9696795580554887,0.8713003374284285,0.3965886086621123,0.23893353538140472,0.3085803665671001,0.08882967006631803,0.7432743138040552,0.9084966745352318,0.6799926631414109,0.7164163238678074,0.11459857652615368,0.19037756552118656,0.017289907231762047,0.18159135132986193,0.06037710058358614,0.6357534478365008,0.10583523298766973,0.2565841539989847,0.3773281241726003,0.6297987596733172,0.348661373618009,0.5195376960135674,0.9770669244221744,0.4074087196227282,0.5378571152043959,0.05939761181896197,0.10307486416435307,0.3219870723210261,0.7991987125364719,0.14858405334467162,0.18042842037766793,0.9760313736009334,0.2865072836476127,0.3802985333406903,0.2464511046514647,0.3947958814926664,0.7571805433785189,0.36838650803001394,0.32639492975336215,0.1679835853328402,0.4060386919816855,0.16214122153133304,0.6198650226863044,0.11891299163381885,0.5776420188445636,0.6252044132133566,0.24503221177188328,0.677102836316627,0.7515218489374903,0.9894248682002048,0.9533576783696645,0.3953519944897057,0.4083778275611394,0.5083269151151611,0.5741087094314675,0.5034908389335185,0.11048697555836462,0.30808698056638184,0.5253734629063436,0.8369772662818231,0.8484740368793011,0.9869852146731323,0.3254150699057853,0.8339628363014,0.9243463138450299,0.24899053090185097,0.5517662461304847,0.039600469327114696,0.30187228701437185,0.7186477348749052,0.5895094409398803,0.03500043707867517,0.021430132240257027,0.6496467536471344,0.17205279433617315,0.2553616942856386,0.9467883282324135,0.19227486931003757,0.5444925847446097,0.791346762158903,0.7904526118774355,0.2882158224344029,0.24156867158872264,0.8527715891340293,0.5627286924018814,0.23790541548278643,0.28133696338720005,0.22399465160618603,0.7608971626751602,0.17145078799667446,0.4379305523532121,0.3630322914810168,0.9827803533576899,0.3543032470233717,0.05429754475877702,0.23234645875288673,0.2337716896543851,0.9923961181170792,0.6992936234275665,0.885000447642663,0.6138651053158811,0.5105959248441541,0.023013587019601767,0.16490639959257525,0.1253522429603795,0.3773007965396452,0.2021668679650549,0.7515451093256905,0.596992857893058,0.4826909844953148,0.9035515527159623,0.5822980598683567,0.8448949313623216,0.7208347913995637,0.2138527422204317,0.07658271811011708,0.01909769962601915,0.8805326268831725,0.7316580272533483,0.7690409238475473,0.12705507935156313,0.857393894619422,0.6750288848445752,0.19313355155816103,0.5501156219926524,0.2196273009852956,0.7985238508639808,0.2774473596795184,0.35141052790296246,0.3972382218800481,0.8219977619058579,0.8872720952639572,0.11424308693384155,0.9419629059029017,0.5140556265204579,0.7422422779900777,0.27466611426396637,0.2110317735650049,0.4304639657070235,0.4256826395160248,0.042384604706934836,0.7535022239861277,0.9471189121818417,0.9272395563599813,0.8528386109637146,0.826036613603677,0.37469116941888203,0.5641326474697468,0.3228616615542317,0.9978345035154313,0.8124717140621195,0.7794503279770771,0.7926426815640625,0.41902438263659647,0.30734695431314507,0.8127230193002891,0.35266895261589304,0.7607505028402972,0.936552714352052,0.7654600794903601,0.18772050025464948,0.7784045710288031,0.17637423781493433,0.5870473835369399,0.34851531073328224,0.8693279013370969,0.7332079638307131,0.45331564096155363,0.2787077032498504,0.8974089462879974,0.37918488670513373,0.6289603229877309,0.2608329717360094,0.6963372759693088,0.20213231334939274,0.2991070678906056,0.3567824629162675,0.2592656553761866,0.11885644090495973,0.2309985481829132,0.5592217452215639,0.39459110338015224,0.1403652193846513,0.5131396538700477,0.4089411050157703,0.7278470124760659,0.9150807471679782,0.9008024161553868,0.022868411317891746,0.6658354182699361,0.6624909916008652,0.5586977828450547,0.2681159973293247,0.495678748158351,0.2357618508959446,0.893246333014358,0.35020671238712886,0.6752232901606315,0.7881958549981704,0.6280367231029025,0.06865047974018468,0.5795264440211609,0.03709184504433116,0.9675555955618362,0.8871683486526225,0.20926716034720483,0.242542545228701,0.7537668419127912,0.029579105353888524,0.5744381331797977,0.054753074213708564,0.17968040776430527,0.3681156352319225,0.23218519296962326,0.32037174215188136,0.7352475805825872,0.9997652955531965,0.33033187538690667,0.4360988265036241,0.3570666190443049,0.6928907633902772,0.14145619498916207,0.1605565939616289,0.9507706199228995,0.28882624099002074,0.7352107198167187,0.11299077142950509,0.5824365016006109,0.32243715306257525,0.9094084073797081,0.2724754198068887,0.9145439384411967,0.9124817421388298,0.8730151434533091,0.019081534152579738,0.9668329733881255,0.18459458849258148,0.6850312027831862,0.6725414324321933,0.014957504885588335,0.44684712674460614,0.19524370933660573,0.24391745013616428,0.8798824568072795,0.3443378223647128],\"type\":\"scatter3d\"}],                        {\"legend\":{\"bgcolor\":\"#151516\",\"font\":{\"color\":\"#D9D9D9\"}},\"paper_bgcolor\":\"#151516\",\"plot_bgcolor\":\"#151516\",\"scene\":{\"xaxis\":{\"gridcolor\":\"#434343\",\"showgrid\":true,\"tickfont\":{\"color\":\"#C2C2C2\"},\"title\":{\"font\":{\"color\":\"#D9D9D9\"},\"text\":\"\"},\"zerolinecolor\":\"#666570\"},\"yaxis\":{\"gridcolor\":\"#434343\",\"showgrid\":true,\"tickfont\":{\"color\":\"#C2C2C2\"},\"title\":{\"font\":{\"color\":\"#D9D9D9\"},\"text\":\"\"},\"zerolinecolor\":\"#666570\"},\"zaxis\":{\"gridcolor\":\"#434343\",\"showgrid\":true,\"tickfont\":{\"color\":\"#C2C2C2\"},\"title\":{\"font\":{\"color\":\"#D9D9D9\"},\"text\":\"\"},\"zerolinecolor\":\"#666570\"}},\"template\":{\"data\":{\"barpolar\":[{\"marker\":{\"line\":{\"color\":\"#E5ECF6\",\"width\":0.5},\"pattern\":{\"fillmode\":\"overlay\",\"size\":10,\"solidity\":0.2}},\"type\":\"barpolar\"}],\"bar\":[{\"error_x\":{\"color\":\"#2a3f5f\"},\"error_y\":{\"color\":\"#2a3f5f\"},\"marker\":{\"line\":{\"color\":\"#E5ECF6\",\"width\":0.5},\"pattern\":{\"fillmode\":\"overlay\",\"size\":10,\"solidity\":0.2}},\"type\":\"bar\"}],\"carpet\":[{\"aaxis\":{\"endlinecolor\":\"#2a3f5f\",\"gridcolor\":\"white\",\"linecolor\":\"white\",\"minorgridcolor\":\"white\",\"startlinecolor\":\"#2a3f5f\"},\"baxis\":{\"endlinecolor\":\"#2a3f5f\",\"gridcolor\":\"white\",\"linecolor\":\"white\",\"minorgridcolor\":\"white\",\"startlinecolor\":\"#2a3f5f\"},\"type\":\"carpet\"}],\"choropleth\":[{\"colorbar\":{\"outlinewidth\":0,\"ticks\":\"\"},\"type\":\"choropleth\"}],\"contourcarpet\":[{\"colorbar\":{\"outlinewidth\":0,\"ticks\":\"\"},\"type\":\"contourcarpet\"}],\"contour\":[{\"colorbar\":{\"outlinewidth\":0,\"ticks\":\"\"},\"colorscale\":[[0.0,\"#0d0887\"],[0.1111111111111111,\"#46039f\"],[0.2222222222222222,\"#7201a8\"],[0.3333333333333333,\"#9c179e\"],[0.4444444444444444,\"#bd3786\"],[0.5555555555555556,\"#d8576b\"],[0.6666666666666666,\"#ed7953\"],[0.7777777777777778,\"#fb9f3a\"],[0.8888888888888888,\"#fdca26\"],[1.0,\"#f0f921\"]],\"type\":\"contour\"}],\"heatmapgl\":[{\"colorbar\":{\"outlinewidth\":0,\"ticks\":\"\"},\"colorscale\":[[0.0,\"#0d0887\"],[0.1111111111111111,\"#46039f\"],[0.2222222222222222,\"#7201a8\"],[0.3333333333333333,\"#9c179e\"],[0.4444444444444444,\"#bd3786\"],[0.5555555555555556,\"#d8576b\"],[0.6666666666666666,\"#ed7953\"],[0.7777777777777778,\"#fb9f3a\"],[0.8888888888888888,\"#fdca26\"],[1.0,\"#f0f921\"]],\"type\":\"heatmapgl\"}],\"heatmap\":[{\"colorbar\":{\"outlinewidth\":0,\"ticks\":\"\"},\"colorscale\":[[0.0,\"#0d0887\"],[0.1111111111111111,\"#46039f\"],[0.2222222222222222,\"#7201a8\"],[0.3333333333333333,\"#9c179e\"],[0.4444444444444444,\"#bd3786\"],[0.5555555555555556,\"#d8576b\"],[0.6666666666666666,\"#ed7953\"],[0.7777777777777778,\"#fb9f3a\"],[0.8888888888888888,\"#fdca26\"],[1.0,\"#f0f921\"]],\"type\":\"heatmap\"}],\"histogram2dcontour\":[{\"colorbar\":{\"outlinewidth\":0,\"ticks\":\"\"},\"colorscale\":[[0.0,\"#0d0887\"],[0.1111111111111111,\"#46039f\"],[0.2222222222222222,\"#7201a8\"],[0.3333333333333333,\"#9c179e\"],[0.4444444444444444,\"#bd3786\"],[0.5555555555555556,\"#d8576b\"],[0.6666666666666666,\"#ed7953\"],[0.7777777777777778,\"#fb9f3a\"],[0.8888888888888888,\"#fdca26\"],[1.0,\"#f0f921\"]],\"type\":\"histogram2dcontour\"}],\"histogram2d\":[{\"colorbar\":{\"outlinewidth\":0,\"ticks\":\"\"},\"colorscale\":[[0.0,\"#0d0887\"],[0.1111111111111111,\"#46039f\"],[0.2222222222222222,\"#7201a8\"],[0.3333333333333333,\"#9c179e\"],[0.4444444444444444,\"#bd3786\"],[0.5555555555555556,\"#d8576b\"],[0.6666666666666666,\"#ed7953\"],[0.7777777777777778,\"#fb9f3a\"],[0.8888888888888888,\"#fdca26\"],[1.0,\"#f0f921\"]],\"type\":\"histogram2d\"}],\"histogram\":[{\"marker\":{\"pattern\":{\"fillmode\":\"overlay\",\"size\":10,\"solidity\":0.2}},\"type\":\"histogram\"}],\"mesh3d\":[{\"colorbar\":{\"outlinewidth\":0,\"ticks\":\"\"},\"type\":\"mesh3d\"}],\"parcoords\":[{\"line\":{\"colorbar\":{\"outlinewidth\":0,\"ticks\":\"\"}},\"type\":\"parcoords\"}],\"pie\":[{\"automargin\":true,\"type\":\"pie\"}],\"scatter3d\":[{\"line\":{\"colorbar\":{\"outlinewidth\":0,\"ticks\":\"\"}},\"marker\":{\"colorbar\":{\"outlinewidth\":0,\"ticks\":\"\"}},\"type\":\"scatter3d\"}],\"scattercarpet\":[{\"marker\":{\"colorbar\":{\"outlinewidth\":0,\"ticks\":\"\"}},\"type\":\"scattercarpet\"}],\"scattergeo\":[{\"marker\":{\"colorbar\":{\"outlinewidth\":0,\"ticks\":\"\"}},\"type\":\"scattergeo\"}],\"scattergl\":[{\"marker\":{\"colorbar\":{\"outlinewidth\":0,\"ticks\":\"\"}},\"type\":\"scattergl\"}],\"scattermapbox\":[{\"marker\":{\"colorbar\":{\"outlinewidth\":0,\"ticks\":\"\"}},\"type\":\"scattermapbox\"}],\"scatterpolargl\":[{\"marker\":{\"colorbar\":{\"outlinewidth\":0,\"ticks\":\"\"}},\"type\":\"scatterpolargl\"}],\"scatterpolar\":[{\"marker\":{\"colorbar\":{\"outlinewidth\":0,\"ticks\":\"\"}},\"type\":\"scatterpolar\"}],\"scatter\":[{\"marker\":{\"colorbar\":{\"outlinewidth\":0,\"ticks\":\"\"}},\"type\":\"scatter\"}],\"scatterternary\":[{\"marker\":{\"colorbar\":{\"outlinewidth\":0,\"ticks\":\"\"}},\"type\":\"scatterternary\"}],\"surface\":[{\"colorbar\":{\"outlinewidth\":0,\"ticks\":\"\"},\"colorscale\":[[0.0,\"#0d0887\"],[0.1111111111111111,\"#46039f\"],[0.2222222222222222,\"#7201a8\"],[0.3333333333333333,\"#9c179e\"],[0.4444444444444444,\"#bd3786\"],[0.5555555555555556,\"#d8576b\"],[0.6666666666666666,\"#ed7953\"],[0.7777777777777778,\"#fb9f3a\"],[0.8888888888888888,\"#fdca26\"],[1.0,\"#f0f921\"]],\"type\":\"surface\"}],\"table\":[{\"cells\":{\"fill\":{\"color\":\"#EBF0F8\"},\"line\":{\"color\":\"white\"}},\"header\":{\"fill\":{\"color\":\"#C8D4E3\"},\"line\":{\"color\":\"white\"}},\"type\":\"table\"}]},\"layout\":{\"annotationdefaults\":{\"arrowcolor\":\"#2a3f5f\",\"arrowhead\":0,\"arrowwidth\":1},\"autotypenumbers\":\"strict\",\"coloraxis\":{\"colorbar\":{\"outlinewidth\":0,\"ticks\":\"\"}},\"colorscale\":{\"diverging\":[[0,\"#8e0152\"],[0.1,\"#c51b7d\"],[0.2,\"#de77ae\"],[0.3,\"#f1b6da\"],[0.4,\"#fde0ef\"],[0.5,\"#f7f7f7\"],[0.6,\"#e6f5d0\"],[0.7,\"#b8e186\"],[0.8,\"#7fbc41\"],[0.9,\"#4d9221\"],[1,\"#276419\"]],\"sequential\":[[0.0,\"#0d0887\"],[0.1111111111111111,\"#46039f\"],[0.2222222222222222,\"#7201a8\"],[0.3333333333333333,\"#9c179e\"],[0.4444444444444444,\"#bd3786\"],[0.5555555555555556,\"#d8576b\"],[0.6666666666666666,\"#ed7953\"],[0.7777777777777778,\"#fb9f3a\"],[0.8888888888888888,\"#fdca26\"],[1.0,\"#f0f921\"]],\"sequentialminus\":[[0.0,\"#0d0887\"],[0.1111111111111111,\"#46039f\"],[0.2222222222222222,\"#7201a8\"],[0.3333333333333333,\"#9c179e\"],[0.4444444444444444,\"#bd3786\"],[0.5555555555555556,\"#d8576b\"],[0.6666666666666666,\"#ed7953\"],[0.7777777777777778,\"#fb9f3a\"],[0.8888888888888888,\"#fdca26\"],[1.0,\"#f0f921\"]]},\"colorway\":[\"#636efa\",\"#EF553B\",\"#00cc96\",\"#ab63fa\",\"#FFA15A\",\"#19d3f3\",\"#FF6692\",\"#B6E880\",\"#FF97FF\",\"#FECB52\"],\"font\":{\"color\":\"#2a3f5f\"},\"geo\":{\"bgcolor\":\"white\",\"lakecolor\":\"white\",\"landcolor\":\"#E5ECF6\",\"showlakes\":true,\"showland\":true,\"subunitcolor\":\"white\"},\"hoverlabel\":{\"align\":\"left\"},\"hovermode\":\"closest\",\"mapbox\":{\"style\":\"light\"},\"paper_bgcolor\":\"white\",\"plot_bgcolor\":\"#E5ECF6\",\"polar\":{\"angularaxis\":{\"gridcolor\":\"white\",\"linecolor\":\"white\",\"ticks\":\"\"},\"bgcolor\":\"#E5ECF6\",\"radialaxis\":{\"gridcolor\":\"white\",\"linecolor\":\"white\",\"ticks\":\"\"}},\"scene\":{\"xaxis\":{\"backgroundcolor\":\"#E5ECF6\",\"gridcolor\":\"white\",\"gridwidth\":2,\"linecolor\":\"white\",\"showbackground\":true,\"ticks\":\"\",\"zerolinecolor\":\"white\"},\"yaxis\":{\"backgroundcolor\":\"#E5ECF6\",\"gridcolor\":\"white\",\"gridwidth\":2,\"linecolor\":\"white\",\"showbackground\":true,\"ticks\":\"\",\"zerolinecolor\":\"white\"},\"zaxis\":{\"backgroundcolor\":\"#E5ECF6\",\"gridcolor\":\"white\",\"gridwidth\":2,\"linecolor\":\"white\",\"showbackground\":true,\"ticks\":\"\",\"zerolinecolor\":\"white\"}},\"shapedefaults\":{\"line\":{\"color\":\"#2a3f5f\"}},\"ternary\":{\"aaxis\":{\"gridcolor\":\"white\",\"linecolor\":\"white\",\"ticks\":\"\"},\"baxis\":{\"gridcolor\":\"white\",\"linecolor\":\"white\",\"ticks\":\"\"},\"bgcolor\":\"#E5ECF6\",\"caxis\":{\"gridcolor\":\"white\",\"linecolor\":\"white\",\"ticks\":\"\"}},\"title\":{\"x\":0.05},\"xaxis\":{\"automargin\":true,\"gridcolor\":\"white\",\"linecolor\":\"white\",\"ticks\":\"\",\"title\":{\"standoff\":15},\"zerolinecolor\":\"white\",\"zerolinewidth\":2},\"yaxis\":{\"automargin\":true,\"gridcolor\":\"white\",\"linecolor\":\"white\",\"ticks\":\"\",\"title\":{\"standoff\":15},\"zerolinecolor\":\"white\",\"zerolinewidth\":2}}},\"title\":{\"font\":{\"color\":\"#D9D9D9\"}}},                        {\"showLink\": true, \"linkText\": \"Export to plot.ly\", \"plotlyServerURL\": \"https://plot.ly\", \"responsive\": true}                    ).then(function(){\n",
       "                            \n",
       "var gd = document.getElementById('fe48e4d9-c838-4dda-a74a-a5b0b8d57079');\n",
       "var x = new MutationObserver(function (mutations, observer) {{\n",
       "        var display = window.getComputedStyle(gd).display;\n",
       "        if (!display || display === 'none') {{\n",
       "            console.log([gd, 'removed!']);\n",
       "            Plotly.purge(gd);\n",
       "            observer.disconnect();\n",
       "        }}\n",
       "}});\n",
       "\n",
       "// Listen for the removal of the full notebook cells\n",
       "var notebookContainer = gd.closest('#notebook-container');\n",
       "if (notebookContainer) {{\n",
       "    x.observe(notebookContainer, {childList: true});\n",
       "}}\n",
       "\n",
       "// Listen for the clearing of the current output cell\n",
       "var outputEl = gd.closest('.output');\n",
       "if (outputEl) {{\n",
       "    x.observe(outputEl, {childList: true});\n",
       "}}\n",
       "\n",
       "                        })                };                });            </script>        </div>"
      ]
     },
     "metadata": {},
     "output_type": "display_data"
    }
   ],
   "source": [
    "de3.iplot(x = 'a' , y = 'b' , z = 'c' , kind = 'scatter3d')"
   ]
  },
  {
   "cell_type": "code",
   "execution_count": 14,
   "id": "3eed442a",
   "metadata": {},
   "outputs": [],
   "source": [
    "de3['a1']= de3.a+10"
   ]
  },
  {
   "cell_type": "code",
   "execution_count": 15,
   "id": "02bb8fd2",
   "metadata": {},
   "outputs": [],
   "source": [
    "de3['b1']= de3.a+30"
   ]
  },
  {
   "cell_type": "markdown",
   "id": "2892d48c",
   "metadata": {},
   "source": [
    "de3"
   ]
  },
  {
   "cell_type": "code",
   "execution_count": 16,
   "id": "c39c9970",
   "metadata": {},
   "outputs": [
    {
     "data": {
      "text/html": [
       "<div>\n",
       "<style scoped>\n",
       "    .dataframe tbody tr th:only-of-type {\n",
       "        vertical-align: middle;\n",
       "    }\n",
       "\n",
       "    .dataframe tbody tr th {\n",
       "        vertical-align: top;\n",
       "    }\n",
       "\n",
       "    .dataframe thead th {\n",
       "        text-align: right;\n",
       "    }\n",
       "</style>\n",
       "<table border=\"1\" class=\"dataframe\">\n",
       "  <thead>\n",
       "    <tr style=\"text-align: right;\">\n",
       "      <th></th>\n",
       "      <th>a</th>\n",
       "      <th>b</th>\n",
       "      <th>c</th>\n",
       "      <th>a1</th>\n",
       "      <th>b1</th>\n",
       "    </tr>\n",
       "  </thead>\n",
       "  <tbody>\n",
       "    <tr>\n",
       "      <th>0</th>\n",
       "      <td>0.480518</td>\n",
       "      <td>0.261697</td>\n",
       "      <td>0.147618</td>\n",
       "      <td>10.480518</td>\n",
       "      <td>30.480518</td>\n",
       "    </tr>\n",
       "    <tr>\n",
       "      <th>1</th>\n",
       "      <td>0.435502</td>\n",
       "      <td>0.965856</td>\n",
       "      <td>0.939690</td>\n",
       "      <td>10.435502</td>\n",
       "      <td>30.435502</td>\n",
       "    </tr>\n",
       "    <tr>\n",
       "      <th>2</th>\n",
       "      <td>0.763858</td>\n",
       "      <td>0.973176</td>\n",
       "      <td>0.833987</td>\n",
       "      <td>10.763858</td>\n",
       "      <td>30.763858</td>\n",
       "    </tr>\n",
       "    <tr>\n",
       "      <th>3</th>\n",
       "      <td>0.058478</td>\n",
       "      <td>0.096502</td>\n",
       "      <td>0.370552</td>\n",
       "      <td>10.058478</td>\n",
       "      <td>30.058478</td>\n",
       "    </tr>\n",
       "    <tr>\n",
       "      <th>4</th>\n",
       "      <td>0.488421</td>\n",
       "      <td>0.677377</td>\n",
       "      <td>0.218382</td>\n",
       "      <td>10.488421</td>\n",
       "      <td>30.488421</td>\n",
       "    </tr>\n",
       "    <tr>\n",
       "      <th>...</th>\n",
       "      <td>...</td>\n",
       "      <td>...</td>\n",
       "      <td>...</td>\n",
       "      <td>...</td>\n",
       "      <td>...</td>\n",
       "    </tr>\n",
       "    <tr>\n",
       "      <th>295</th>\n",
       "      <td>0.209382</td>\n",
       "      <td>0.639256</td>\n",
       "      <td>0.446847</td>\n",
       "      <td>10.209382</td>\n",
       "      <td>30.209382</td>\n",
       "    </tr>\n",
       "    <tr>\n",
       "      <th>296</th>\n",
       "      <td>0.408393</td>\n",
       "      <td>0.493152</td>\n",
       "      <td>0.195244</td>\n",
       "      <td>10.408393</td>\n",
       "      <td>30.408393</td>\n",
       "    </tr>\n",
       "    <tr>\n",
       "      <th>297</th>\n",
       "      <td>0.335922</td>\n",
       "      <td>0.117801</td>\n",
       "      <td>0.243917</td>\n",
       "      <td>10.335922</td>\n",
       "      <td>30.335922</td>\n",
       "    </tr>\n",
       "    <tr>\n",
       "      <th>298</th>\n",
       "      <td>0.278287</td>\n",
       "      <td>0.346320</td>\n",
       "      <td>0.879882</td>\n",
       "      <td>10.278287</td>\n",
       "      <td>30.278287</td>\n",
       "    </tr>\n",
       "    <tr>\n",
       "      <th>299</th>\n",
       "      <td>0.657607</td>\n",
       "      <td>0.117352</td>\n",
       "      <td>0.344338</td>\n",
       "      <td>10.657607</td>\n",
       "      <td>30.657607</td>\n",
       "    </tr>\n",
       "  </tbody>\n",
       "</table>\n",
       "<p>300 rows × 5 columns</p>\n",
       "</div>"
      ],
      "text/plain": [
       "            a         b         c         a1         b1\n",
       "0    0.480518  0.261697  0.147618  10.480518  30.480518\n",
       "1    0.435502  0.965856  0.939690  10.435502  30.435502\n",
       "2    0.763858  0.973176  0.833987  10.763858  30.763858\n",
       "3    0.058478  0.096502  0.370552  10.058478  30.058478\n",
       "4    0.488421  0.677377  0.218382  10.488421  30.488421\n",
       "..        ...       ...       ...        ...        ...\n",
       "295  0.209382  0.639256  0.446847  10.209382  30.209382\n",
       "296  0.408393  0.493152  0.195244  10.408393  30.408393\n",
       "297  0.335922  0.117801  0.243917  10.335922  30.335922\n",
       "298  0.278287  0.346320  0.879882  10.278287  30.278287\n",
       "299  0.657607  0.117352  0.344338  10.657607  30.657607\n",
       "\n",
       "[300 rows x 5 columns]"
      ]
     },
     "execution_count": 16,
     "metadata": {},
     "output_type": "execute_result"
    }
   ],
   "source": [
    "de3"
   ]
  },
  {
   "cell_type": "code",
   "execution_count": 17,
   "id": "ad985851",
   "metadata": {},
   "outputs": [
    {
     "data": {
      "application/vnd.plotly.v1+json": {
       "config": {
        "linkText": "Export to plot.ly",
        "plotlyServerURL": "https://plot.ly",
        "showLink": true
       },
       "data": [
        {
         "marker": {
          "color": [
           "rgba(255, 153, 51, 1.0)",
           "rgba(55, 128, 191, 1.0)",
           "rgba(50, 171, 96, 1.0)",
           "rgba(128, 0, 128, 1.0)",
           "rgba(219, 64, 82, 1.0)",
           "rgba(0, 128, 128, 1.0)",
           "rgba(255, 255, 51, 1.0)",
           "rgba(128, 128, 0, 1.0)",
           "rgba(251, 128, 114, 1.0)",
           "rgba(128, 177, 211, 1.0)",
           "rgba(128, 177, 211, 0.9733333333333334)",
           "rgba(255, 153, 51, 0.9733333333333334)",
           "rgba(55, 128, 191, 0.9733333333333334)",
           "rgba(50, 171, 96, 0.9733333333333334)",
           "rgba(128, 0, 128, 0.9733333333333334)",
           "rgba(219, 64, 82, 0.9733333333333334)",
           "rgba(0, 128, 128, 0.9733333333333334)",
           "rgba(255, 255, 51, 0.9733333333333334)",
           "rgba(128, 128, 0, 0.9733333333333334)",
           "rgba(251, 128, 114, 0.9733333333333334)",
           "rgba(251, 128, 114, 0.9466666666666665)",
           "rgba(128, 177, 211, 0.9466666666666665)",
           "rgba(255, 153, 51, 0.9466666666666665)",
           "rgba(55, 128, 191, 0.9466666666666665)",
           "rgba(50, 171, 96, 0.9466666666666665)",
           "rgba(128, 0, 128, 0.9466666666666665)",
           "rgba(219, 64, 82, 0.9466666666666665)",
           "rgba(0, 128, 128, 0.9466666666666665)",
           "rgba(255, 255, 51, 0.9466666666666665)",
           "rgba(128, 128, 0, 0.9466666666666665)",
           "rgba(128, 128, 0, 0.9199999999999999)",
           "rgba(251, 128, 114, 0.9199999999999999)",
           "rgba(128, 177, 211, 0.9199999999999999)",
           "rgba(255, 153, 51, 0.9199999999999999)",
           "rgba(55, 128, 191, 0.9199999999999999)",
           "rgba(50, 171, 96, 0.9199999999999999)",
           "rgba(128, 0, 128, 0.9199999999999999)",
           "rgba(219, 64, 82, 0.9199999999999999)",
           "rgba(0, 128, 128, 0.9199999999999999)",
           "rgba(255, 255, 51, 0.9199999999999999)",
           "rgba(255, 255, 51, 0.8933333333333333)",
           "rgba(128, 128, 0, 0.8933333333333333)",
           "rgba(251, 128, 114, 0.8933333333333333)",
           "rgba(128, 177, 211, 0.8933333333333333)",
           "rgba(255, 153, 51, 0.8933333333333333)",
           "rgba(55, 128, 191, 0.8933333333333333)",
           "rgba(50, 171, 96, 0.8933333333333333)",
           "rgba(128, 0, 128, 0.8933333333333333)",
           "rgba(219, 64, 82, 0.8933333333333333)",
           "rgba(0, 128, 128, 0.8933333333333333)",
           "rgba(0, 128, 128, 0.8666666666666667)",
           "rgba(255, 255, 51, 0.8666666666666667)",
           "rgba(128, 128, 0, 0.8666666666666667)",
           "rgba(251, 128, 114, 0.8666666666666667)",
           "rgba(128, 177, 211, 0.8666666666666667)",
           "rgba(255, 153, 51, 0.8666666666666667)",
           "rgba(55, 128, 191, 0.8666666666666667)",
           "rgba(50, 171, 96, 0.8666666666666667)",
           "rgba(128, 0, 128, 0.8666666666666667)",
           "rgba(219, 64, 82, 0.8666666666666667)",
           "rgba(219, 64, 82, 0.8399999999999999)",
           "rgba(0, 128, 128, 0.8399999999999999)",
           "rgba(255, 255, 51, 0.8399999999999999)",
           "rgba(128, 128, 0, 0.8399999999999999)",
           "rgba(251, 128, 114, 0.8399999999999999)",
           "rgba(128, 177, 211, 0.8399999999999999)",
           "rgba(255, 153, 51, 0.8399999999999999)",
           "rgba(55, 128, 191, 0.8399999999999999)",
           "rgba(50, 171, 96, 0.8399999999999999)",
           "rgba(128, 0, 128, 0.8399999999999999)",
           "rgba(128, 0, 128, 0.8133333333333332)",
           "rgba(219, 64, 82, 0.8133333333333332)",
           "rgba(0, 128, 128, 0.8133333333333332)",
           "rgba(255, 255, 51, 0.8133333333333332)",
           "rgba(128, 128, 0, 0.8133333333333332)",
           "rgba(251, 128, 114, 0.8133333333333332)",
           "rgba(128, 177, 211, 0.8133333333333332)",
           "rgba(255, 153, 51, 0.8133333333333332)",
           "rgba(55, 128, 191, 0.8133333333333332)",
           "rgba(50, 171, 96, 0.8133333333333332)",
           "rgba(50, 171, 96, 0.7866666666666666)",
           "rgba(128, 0, 128, 0.7866666666666666)",
           "rgba(219, 64, 82, 0.7866666666666666)",
           "rgba(0, 128, 128, 0.7866666666666666)",
           "rgba(255, 255, 51, 0.7866666666666666)",
           "rgba(128, 128, 0, 0.7866666666666666)",
           "rgba(251, 128, 114, 0.7866666666666666)",
           "rgba(128, 177, 211, 0.7866666666666666)",
           "rgba(255, 153, 51, 0.7866666666666666)",
           "rgba(55, 128, 191, 0.7866666666666666)",
           "rgba(55, 128, 191, 0.76)",
           "rgba(50, 171, 96, 0.76)",
           "rgba(128, 0, 128, 0.76)",
           "rgba(219, 64, 82, 0.76)",
           "rgba(0, 128, 128, 0.76)",
           "rgba(255, 255, 51, 0.76)",
           "rgba(128, 128, 0, 0.76)",
           "rgba(251, 128, 114, 0.76)",
           "rgba(128, 177, 211, 0.76)",
           "rgba(255, 153, 51, 0.76)",
           "rgba(255, 153, 51, 0.7333333333333332)",
           "rgba(55, 128, 191, 0.7333333333333332)",
           "rgba(50, 171, 96, 0.7333333333333332)",
           "rgba(128, 0, 128, 0.7333333333333332)",
           "rgba(219, 64, 82, 0.7333333333333332)",
           "rgba(0, 128, 128, 0.7333333333333332)",
           "rgba(255, 255, 51, 0.7333333333333332)",
           "rgba(128, 128, 0, 0.7333333333333332)",
           "rgba(251, 128, 114, 0.7333333333333332)",
           "rgba(128, 177, 211, 0.7333333333333332)",
           "rgba(128, 177, 211, 0.7066666666666666)",
           "rgba(255, 153, 51, 0.7066666666666666)",
           "rgba(55, 128, 191, 0.7066666666666666)",
           "rgba(50, 171, 96, 0.7066666666666666)",
           "rgba(128, 0, 128, 0.7066666666666666)",
           "rgba(219, 64, 82, 0.7066666666666666)",
           "rgba(0, 128, 128, 0.7066666666666666)",
           "rgba(255, 255, 51, 0.7066666666666666)",
           "rgba(128, 128, 0, 0.7066666666666666)",
           "rgba(251, 128, 114, 0.7066666666666666)",
           "rgba(251, 128, 114, 0.6799999999999999)",
           "rgba(128, 177, 211, 0.6799999999999999)",
           "rgba(255, 153, 51, 0.6799999999999999)",
           "rgba(55, 128, 191, 0.6799999999999999)",
           "rgba(50, 171, 96, 0.6799999999999999)",
           "rgba(128, 0, 128, 0.6799999999999999)",
           "rgba(219, 64, 82, 0.6799999999999999)",
           "rgba(0, 128, 128, 0.6799999999999999)",
           "rgba(255, 255, 51, 0.6799999999999999)",
           "rgba(128, 128, 0, 0.6799999999999999)",
           "rgba(128, 128, 0, 0.6533333333333333)",
           "rgba(251, 128, 114, 0.6533333333333333)",
           "rgba(128, 177, 211, 0.6533333333333333)",
           "rgba(255, 153, 51, 0.6533333333333333)",
           "rgba(55, 128, 191, 0.6533333333333333)",
           "rgba(50, 171, 96, 0.6533333333333333)",
           "rgba(128, 0, 128, 0.6533333333333333)",
           "rgba(219, 64, 82, 0.6533333333333333)",
           "rgba(0, 128, 128, 0.6533333333333333)",
           "rgba(255, 255, 51, 0.6533333333333333)",
           "rgba(255, 255, 51, 0.6266666666666665)",
           "rgba(128, 128, 0, 0.6266666666666665)",
           "rgba(251, 128, 114, 0.6266666666666665)",
           "rgba(128, 177, 211, 0.6266666666666665)",
           "rgba(255, 153, 51, 0.6266666666666665)",
           "rgba(55, 128, 191, 0.6266666666666665)",
           "rgba(50, 171, 96, 0.6266666666666665)",
           "rgba(128, 0, 128, 0.6266666666666665)",
           "rgba(219, 64, 82, 0.6266666666666665)",
           "rgba(0, 128, 128, 0.6266666666666665)",
           "rgba(0, 128, 128, 0.5999999999999999)",
           "rgba(255, 255, 51, 0.5999999999999999)",
           "rgba(128, 128, 0, 0.5999999999999999)",
           "rgba(251, 128, 114, 0.5999999999999999)",
           "rgba(128, 177, 211, 0.5999999999999999)",
           "rgba(255, 153, 51, 0.5999999999999999)",
           "rgba(55, 128, 191, 0.5999999999999999)",
           "rgba(50, 171, 96, 0.5999999999999999)",
           "rgba(128, 0, 128, 0.5999999999999999)",
           "rgba(219, 64, 82, 0.5999999999999999)",
           "rgba(219, 64, 82, 0.5733333333333333)",
           "rgba(0, 128, 128, 0.5733333333333333)",
           "rgba(255, 255, 51, 0.5733333333333333)",
           "rgba(128, 128, 0, 0.5733333333333333)",
           "rgba(251, 128, 114, 0.5733333333333333)",
           "rgba(128, 177, 211, 0.5733333333333333)",
           "rgba(255, 153, 51, 0.5733333333333333)",
           "rgba(55, 128, 191, 0.5733333333333333)",
           "rgba(50, 171, 96, 0.5733333333333333)",
           "rgba(128, 0, 128, 0.5733333333333333)",
           "rgba(128, 0, 128, 0.5466666666666666)",
           "rgba(219, 64, 82, 0.5466666666666666)",
           "rgba(0, 128, 128, 0.5466666666666666)",
           "rgba(255, 255, 51, 0.5466666666666666)",
           "rgba(128, 128, 0, 0.5466666666666666)",
           "rgba(251, 128, 114, 0.5466666666666666)",
           "rgba(128, 177, 211, 0.5466666666666666)",
           "rgba(255, 153, 51, 0.5466666666666666)",
           "rgba(55, 128, 191, 0.5466666666666666)",
           "rgba(50, 171, 96, 0.5466666666666666)",
           "rgba(50, 171, 96, 0.5199999999999998)",
           "rgba(128, 0, 128, 0.5199999999999998)",
           "rgba(219, 64, 82, 0.5199999999999998)",
           "rgba(0, 128, 128, 0.5199999999999998)",
           "rgba(255, 255, 51, 0.5199999999999998)",
           "rgba(128, 128, 0, 0.5199999999999998)",
           "rgba(251, 128, 114, 0.5199999999999998)",
           "rgba(128, 177, 211, 0.5199999999999998)",
           "rgba(255, 153, 51, 0.5199999999999998)",
           "rgba(55, 128, 191, 0.5199999999999998)",
           "rgba(55, 128, 191, 0.49333333333333323)",
           "rgba(50, 171, 96, 0.49333333333333323)",
           "rgba(128, 0, 128, 0.49333333333333323)",
           "rgba(219, 64, 82, 0.49333333333333323)",
           "rgba(0, 128, 128, 0.49333333333333323)",
           "rgba(255, 255, 51, 0.49333333333333323)",
           "rgba(128, 128, 0, 0.49333333333333323)",
           "rgba(251, 128, 114, 0.49333333333333323)",
           "rgba(128, 177, 211, 0.49333333333333323)",
           "rgba(255, 153, 51, 0.49333333333333323)",
           "rgba(255, 153, 51, 0.4666666666666666)",
           "rgba(55, 128, 191, 0.4666666666666666)",
           "rgba(50, 171, 96, 0.4666666666666666)",
           "rgba(128, 0, 128, 0.4666666666666666)",
           "rgba(219, 64, 82, 0.4666666666666666)",
           "rgba(0, 128, 128, 0.4666666666666666)",
           "rgba(255, 255, 51, 0.4666666666666666)",
           "rgba(128, 128, 0, 0.4666666666666666)",
           "rgba(251, 128, 114, 0.4666666666666666)",
           "rgba(128, 177, 211, 0.4666666666666666)",
           "rgba(128, 177, 211, 0.44)",
           "rgba(255, 153, 51, 0.44)",
           "rgba(55, 128, 191, 0.44)",
           "rgba(50, 171, 96, 0.44)",
           "rgba(128, 0, 128, 0.44)",
           "rgba(219, 64, 82, 0.44)",
           "rgba(0, 128, 128, 0.44)",
           "rgba(255, 255, 51, 0.44)",
           "rgba(128, 128, 0, 0.44)",
           "rgba(251, 128, 114, 0.44)",
           "rgba(251, 128, 114, 0.41333333333333316)",
           "rgba(128, 177, 211, 0.41333333333333316)",
           "rgba(255, 153, 51, 0.41333333333333316)",
           "rgba(55, 128, 191, 0.41333333333333316)",
           "rgba(50, 171, 96, 0.41333333333333316)",
           "rgba(128, 0, 128, 0.41333333333333316)",
           "rgba(219, 64, 82, 0.41333333333333316)",
           "rgba(0, 128, 128, 0.41333333333333316)",
           "rgba(255, 255, 51, 0.41333333333333316)",
           "rgba(128, 128, 0, 0.41333333333333316)",
           "rgba(128, 128, 0, 0.38666666666666655)",
           "rgba(251, 128, 114, 0.38666666666666655)",
           "rgba(128, 177, 211, 0.38666666666666655)",
           "rgba(255, 153, 51, 0.38666666666666655)",
           "rgba(55, 128, 191, 0.38666666666666655)",
           "rgba(50, 171, 96, 0.38666666666666655)",
           "rgba(128, 0, 128, 0.38666666666666655)",
           "rgba(219, 64, 82, 0.38666666666666655)",
           "rgba(0, 128, 128, 0.38666666666666655)",
           "rgba(255, 255, 51, 0.38666666666666655)",
           "rgba(255, 255, 51, 0.35999999999999993)",
           "rgba(128, 128, 0, 0.35999999999999993)",
           "rgba(251, 128, 114, 0.35999999999999993)",
           "rgba(128, 177, 211, 0.35999999999999993)",
           "rgba(255, 153, 51, 0.35999999999999993)",
           "rgba(55, 128, 191, 0.35999999999999993)",
           "rgba(50, 171, 96, 0.35999999999999993)",
           "rgba(128, 0, 128, 0.35999999999999993)",
           "rgba(219, 64, 82, 0.35999999999999993)",
           "rgba(0, 128, 128, 0.35999999999999993)",
           "rgba(0, 128, 128, 0.3333333333333333)",
           "rgba(255, 255, 51, 0.3333333333333333)",
           "rgba(128, 128, 0, 0.3333333333333333)",
           "rgba(251, 128, 114, 0.3333333333333333)",
           "rgba(128, 177, 211, 0.3333333333333333)",
           "rgba(255, 153, 51, 0.3333333333333333)",
           "rgba(55, 128, 191, 0.3333333333333333)",
           "rgba(50, 171, 96, 0.3333333333333333)",
           "rgba(128, 0, 128, 0.3333333333333333)",
           "rgba(219, 64, 82, 0.3333333333333333)",
           "rgba(219, 64, 82, 0.3066666666666665)",
           "rgba(0, 128, 128, 0.3066666666666665)",
           "rgba(255, 255, 51, 0.3066666666666665)",
           "rgba(128, 128, 0, 0.3066666666666665)",
           "rgba(251, 128, 114, 0.3066666666666665)",
           "rgba(128, 177, 211, 0.3066666666666665)",
           "rgba(255, 153, 51, 0.3066666666666665)",
           "rgba(55, 128, 191, 0.3066666666666665)",
           "rgba(50, 171, 96, 0.3066666666666665)",
           "rgba(128, 0, 128, 0.3066666666666665)",
           "rgba(128, 0, 128, 0.27999999999999986)",
           "rgba(219, 64, 82, 0.27999999999999986)",
           "rgba(0, 128, 128, 0.27999999999999986)",
           "rgba(255, 255, 51, 0.27999999999999986)",
           "rgba(128, 128, 0, 0.27999999999999986)",
           "rgba(251, 128, 114, 0.27999999999999986)",
           "rgba(128, 177, 211, 0.27999999999999986)",
           "rgba(255, 153, 51, 0.27999999999999986)",
           "rgba(55, 128, 191, 0.27999999999999986)",
           "rgba(50, 171, 96, 0.27999999999999986)",
           "rgba(50, 171, 96, 0.25333333333333324)",
           "rgba(128, 0, 128, 0.25333333333333324)",
           "rgba(219, 64, 82, 0.25333333333333324)",
           "rgba(0, 128, 128, 0.25333333333333324)",
           "rgba(255, 255, 51, 0.25333333333333324)",
           "rgba(128, 128, 0, 0.25333333333333324)",
           "rgba(251, 128, 114, 0.25333333333333324)",
           "rgba(128, 177, 211, 0.25333333333333324)",
           "rgba(255, 153, 51, 0.25333333333333324)",
           "rgba(55, 128, 191, 0.25333333333333324)",
           "rgba(55, 128, 191, 0.22666666666666663)",
           "rgba(50, 171, 96, 0.22666666666666663)",
           "rgba(128, 0, 128, 0.22666666666666663)",
           "rgba(219, 64, 82, 0.22666666666666663)",
           "rgba(0, 128, 128, 0.22666666666666663)",
           "rgba(255, 255, 51, 0.22666666666666663)",
           "rgba(128, 128, 0, 0.22666666666666663)",
           "rgba(251, 128, 114, 0.22666666666666663)",
           "rgba(128, 177, 211, 0.22666666666666663)",
           "rgba(255, 153, 51, 0.22666666666666663)"
          ],
          "opacity": 0.8,
          "size": [
           12,
           12,
           12,
           12,
           12,
           12,
           12,
           12,
           12,
           12,
           12,
           12,
           12,
           12,
           12,
           12,
           12,
           12,
           12,
           12,
           12,
           12,
           12,
           12,
           12,
           12,
           12,
           12,
           12,
           12,
           12,
           12,
           12,
           12,
           12,
           12,
           12,
           12,
           12,
           12,
           12,
           12,
           12,
           12,
           12,
           12,
           12,
           12,
           12,
           12,
           12,
           12,
           12,
           12,
           12,
           12,
           12,
           12,
           12,
           12,
           12,
           12,
           12,
           12,
           12,
           12,
           12,
           12,
           12,
           12,
           12,
           12,
           12,
           12,
           12,
           12,
           12,
           12,
           12,
           12,
           12,
           12,
           12,
           12,
           12,
           12,
           12,
           12,
           12,
           12,
           12,
           12,
           12,
           12,
           12,
           12,
           12,
           12,
           12,
           12,
           12,
           12,
           12,
           12,
           12,
           12,
           12,
           12,
           12,
           12,
           12,
           12,
           12,
           12,
           12,
           12,
           12,
           12,
           12,
           12,
           12,
           12,
           12,
           12,
           12,
           12,
           12,
           12,
           12,
           12,
           12,
           12,
           12,
           12,
           12,
           12,
           12,
           12,
           12,
           12,
           12,
           12,
           12,
           12,
           12,
           12,
           12,
           12,
           12,
           12,
           12,
           12,
           12,
           12,
           12,
           12,
           12,
           12,
           12,
           12,
           12,
           12,
           12,
           12,
           12,
           12,
           12,
           12,
           12,
           12,
           12,
           12,
           12,
           12,
           12,
           12,
           12,
           12,
           12,
           12,
           12,
           12,
           12,
           12,
           12,
           12,
           12,
           12,
           12,
           12,
           12,
           12,
           12,
           12,
           12,
           12,
           12,
           12,
           12,
           12,
           12,
           12,
           12,
           12,
           12,
           12,
           12,
           12,
           12,
           12,
           12,
           12,
           12,
           12,
           12,
           12,
           12,
           12,
           12,
           12,
           12,
           12,
           12,
           12,
           12,
           12,
           12,
           12,
           12,
           12,
           12,
           12,
           12,
           12,
           12,
           12,
           12,
           12,
           12,
           12,
           12,
           12,
           12,
           12,
           12,
           12,
           12,
           12,
           12,
           12,
           12,
           12,
           12,
           12,
           12,
           12,
           12,
           12,
           12,
           12,
           12,
           12,
           12,
           12,
           12,
           12,
           12,
           12,
           12,
           12,
           12,
           12,
           12,
           12,
           12,
           12,
           12,
           12,
           12,
           12,
           12,
           12,
           12,
           12,
           12,
           12,
           12,
           12,
           12,
           12,
           12,
           12,
           12,
           12,
           12,
           12,
           12,
           12,
           12,
           12
          ],
          "symbol": "circle"
         },
         "mode": "markers",
         "text": [
          "0",
          "1",
          "2",
          "3",
          "4",
          "5",
          "6",
          "7",
          "8",
          "9",
          "10",
          "11",
          "12",
          "13",
          "14",
          "15",
          "16",
          "17",
          "18",
          "19",
          "20",
          "21",
          "22",
          "23",
          "24",
          "25",
          "26",
          "27",
          "28",
          "29",
          "30",
          "31",
          "32",
          "33",
          "34",
          "35",
          "36",
          "37",
          "38",
          "39",
          "40",
          "41",
          "42",
          "43",
          "44",
          "45",
          "46",
          "47",
          "48",
          "49",
          "50",
          "51",
          "52",
          "53",
          "54",
          "55",
          "56",
          "57",
          "58",
          "59",
          "60",
          "61",
          "62",
          "63",
          "64",
          "65",
          "66",
          "67",
          "68",
          "69",
          "70",
          "71",
          "72",
          "73",
          "74",
          "75",
          "76",
          "77",
          "78",
          "79",
          "80",
          "81",
          "82",
          "83",
          "84",
          "85",
          "86",
          "87",
          "88",
          "89",
          "90",
          "91",
          "92",
          "93",
          "94",
          "95",
          "96",
          "97",
          "98",
          "99",
          "100",
          "101",
          "102",
          "103",
          "104",
          "105",
          "106",
          "107",
          "108",
          "109",
          "110",
          "111",
          "112",
          "113",
          "114",
          "115",
          "116",
          "117",
          "118",
          "119",
          "120",
          "121",
          "122",
          "123",
          "124",
          "125",
          "126",
          "127",
          "128",
          "129",
          "130",
          "131",
          "132",
          "133",
          "134",
          "135",
          "136",
          "137",
          "138",
          "139",
          "140",
          "141",
          "142",
          "143",
          "144",
          "145",
          "146",
          "147",
          "148",
          "149",
          "150",
          "151",
          "152",
          "153",
          "154",
          "155",
          "156",
          "157",
          "158",
          "159",
          "160",
          "161",
          "162",
          "163",
          "164",
          "165",
          "166",
          "167",
          "168",
          "169",
          "170",
          "171",
          "172",
          "173",
          "174",
          "175",
          "176",
          "177",
          "178",
          "179",
          "180",
          "181",
          "182",
          "183",
          "184",
          "185",
          "186",
          "187",
          "188",
          "189",
          "190",
          "191",
          "192",
          "193",
          "194",
          "195",
          "196",
          "197",
          "198",
          "199",
          "200",
          "201",
          "202",
          "203",
          "204",
          "205",
          "206",
          "207",
          "208",
          "209",
          "210",
          "211",
          "212",
          "213",
          "214",
          "215",
          "216",
          "217",
          "218",
          "219",
          "220",
          "221",
          "222",
          "223",
          "224",
          "225",
          "226",
          "227",
          "228",
          "229",
          "230",
          "231",
          "232",
          "233",
          "234",
          "235",
          "236",
          "237",
          "238",
          "239",
          "240",
          "241",
          "242",
          "243",
          "244",
          "245",
          "246",
          "247",
          "248",
          "249",
          "250",
          "251",
          "252",
          "253",
          "254",
          "255",
          "256",
          "257",
          "258",
          "259",
          "260",
          "261",
          "262",
          "263",
          "264",
          "265",
          "266",
          "267",
          "268",
          "269",
          "270",
          "271",
          "272",
          "273",
          "274",
          "275",
          "276",
          "277",
          "278",
          "279",
          "280",
          "281",
          "282",
          "283",
          "284",
          "285",
          "286",
          "287",
          "288",
          "289",
          "290",
          "291",
          "292",
          "293",
          "294",
          "295",
          "296",
          "297",
          "298",
          "299"
         ],
         "type": "scatter3d",
         "x": [
          0.2616972067562794,
          0.965856192761436,
          0.9731755877329998,
          0.09650187591020143,
          0.677377160678866,
          0.7746766179041092,
          0.6096952090678328,
          0.5100560601906962,
          0.47929448870739966,
          0.21559272989178424,
          0.16034468723673523,
          0.9568548103569411,
          0.03915713960078926,
          0.5668813319953047,
          0.23803726214256005,
          0.025574871046434855,
          0.9944695894028708,
          0.879381548097398,
          0.27995010512869645,
          0.10451465518802716,
          0.866600357196071,
          0.8792502431986794,
          0.6537439752900239,
          0.2773790373348036,
          0.03407916371688968,
          0.8372406866886217,
          0.9485506852568658,
          0.631492332765093,
          0.8205970079235249,
          0.4859670916836111,
          0.89736876897561,
          0.6111278417657411,
          0.6218672131270867,
          0.47119610360024977,
          0.3420522682464564,
          0.02504916012091829,
          0.6778307173871495,
          0.38609149005007315,
          0.42999738942306254,
          0.07120311005406543,
          0.2650259856565099,
          0.8196466216094488,
          0.9476048381658999,
          0.16737120781283066,
          0.5984004867761263,
          0.7651356795648258,
          0.23347317317284177,
          0.8781334518492326,
          0.9255359518906756,
          0.05029070076949371,
          0.7679726357971449,
          0.034382593270424144,
          0.10474677472514238,
          0.5960081846380327,
          0.8781944575645191,
          0.8460677635797924,
          0.663031910094326,
          0.6431945514914079,
          0.05781904827643558,
          0.026075179552852434,
          0.6748158727681163,
          0.8176766820950822,
          0.7275777074542967,
          0.4370644588853483,
          0.8899330035297478,
          0.6636814412831845,
          0.04930755439622492,
          0.39543761933653687,
          0.4059634628249097,
          0.7092522005491678,
          0.9575505703580512,
          0.22422318643970318,
          0.38918279838526526,
          0.9312927357802647,
          0.7998449483268358,
          0.034839240290610474,
          0.8150062554428444,
          0.20218160054288614,
          0.2775156542982915,
          0.13614523713853732,
          0.7852948137902311,
          0.6389487430365167,
          0.6879947492387687,
          0.057741001209266174,
          0.9389594267594324,
          0.8840349540926837,
          0.607535860797791,
          0.42903937076610843,
          0.9392257331827042,
          0.8113597578537464,
          0.055159950718778994,
          0.9740082303900695,
          0.6045526655780177,
          0.7099045591866116,
          0.42843209426739004,
          0.24493222407071735,
          0.9134035217812333,
          0.8771525858554973,
          0.3027111860675219,
          0.4552200744657213,
          0.3537313766413003,
          0.4684251864513199,
          0.4715666277703051,
          0.7892944343951966,
          0.38168840974090545,
          0.809912782121264,
          0.32064171391951923,
          0.07791239676980843,
          0.8376963917153093,
          0.8168075342963187,
          0.8567733751216048,
          0.00976369685121592,
          0.1694945441814284,
          0.4495833318254179,
          0.6749276497575252,
          0.9063038648170022,
          0.45926011530225397,
          0.8994230383505314,
          0.17833115484886464,
          0.9938345616881894,
          0.016476523895530004,
          0.5571740970158847,
          0.9786598384882385,
          0.20259908296700935,
          0.3699105963059285,
          0.0013403744934005202,
          0.3586572644844819,
          0.20423033295329218,
          0.9324296213070646,
          0.6924609918516542,
          0.9426437299180822,
          0.17475498129467193,
          0.6365737064870617,
          0.4789273351002966,
          0.280979574133258,
          0.725206659048991,
          0.12179342411583849,
          0.6176619978854906,
          0.3893706393813703,
          0.8609583426700588,
          0.6249326230027313,
          0.5558698359040055,
          0.3689363768960059,
          0.9112359321874759,
          0.1181103360967628,
          0.7520367346749153,
          0.25173481139068443,
          0.7113731520084642,
          0.4833855897747795,
          0.45234864418309684,
          0.07184661535172576,
          0.647646955273128,
          0.2146877200576638,
          0.24147110867315313,
          0.8971789879967281,
          0.41504023046111915,
          0.19143050993627864,
          0.6957606783372118,
          0.7533533306857292,
          0.17506482227841547,
          0.5246549756944253,
          0.5363145645613424,
          0.37728856131163824,
          0.23102227246141127,
          0.4228908520339598,
          0.7549803371516597,
          0.603388936932501,
          0.5746658306156146,
          0.8451051576301085,
          0.43444156979279613,
          0.28545792889043653,
          0.6470659982941506,
          0.3885372972573463,
          0.8093092457884983,
          0.5612693800757292,
          0.8727873396876118,
          0.5228341544343228,
          0.7750010829832723,
          0.5579476670542088,
          0.46444959165328537,
          0.7193596306349374,
          0.15652979709190395,
          0.4692385240486969,
          0.33027072744580077,
          0.2543965000879188,
          0.09693434345689855,
          0.3503432901827973,
          0.9303462355057094,
          0.8390919584158387,
          0.18634709315467457,
          0.7429148443969288,
          0.3209751423750685,
          0.047192726942152485,
          0.2510934580531283,
          0.4574810915894314,
          0.35802222420377605,
          0.2421993080142386,
          0.5964161914467453,
          0.3983814822394983,
          0.378972169134698,
          0.5106380829965077,
          0.29164633084780744,
          0.6393155376849227,
          0.5801493834483331,
          0.6971895003249141,
          0.4255597523990272,
          0.24755956393214162,
          0.9024826645156634,
          0.3518934579750793,
          0.07186650364824998,
          0.7711674297139942,
          0.12289699196946235,
          0.04438635247070377,
          0.6796393957854073,
          0.4836660995078472,
          0.8573920538763091,
          0.6728322051762375,
          0.49179046407282634,
          0.6509662231371871,
          0.5453497014984713,
          0.9473619262213605,
          0.41666025125140393,
          0.6860477434705998,
          0.03383942744976731,
          0.23756503175121058,
          0.0029948093862748326,
          0.47062081662097666,
          0.08638885287423548,
          0.46221432373176086,
          0.6723345778108596,
          0.8832347427647242,
          0.6831224222820484,
          0.9262032759668022,
          0.8430774272580798,
          0.11972458787273976,
          0.038466809524619894,
          0.7658930049131565,
          0.3105084487942681,
          0.29322221742321364,
          0.8306009865094309,
          0.5348799325788595,
          0.6428207246413357,
          0.15146667852820805,
          0.1955755784713884,
          0.7159577464589186,
          0.21096713817755564,
          0.6785283773608595,
          0.001033018049806933,
          0.548103948007289,
          0.32334458813047806,
          0.026608578608872002,
          0.9020415781475918,
          0.5227448010696475,
          0.6982743544388744,
          0.44675617091479025,
          0.60934295588084,
          0.7406750757376289,
          0.12773346926111928,
          0.5035028038781004,
          0.5548447159737414,
          0.45615849241510975,
          0.6926077309933943,
          0.3397801724664603,
          0.64840003089699,
          0.3385451241736305,
          0.025508195133065903,
          0.69749352111413,
          0.09926014840077291,
          0.396579945508882,
          0.6967548798847544,
          0.1592636590596601,
          0.9685476389242043,
          0.4667461736599968,
          0.38066522717284146,
          0.10791119035768937,
          0.7082086424248432,
          0.9538315378029285,
          0.02477228974483847,
          0.20975356527006128,
          0.07342574463189466,
          0.6118088171689587,
          0.10906450612993457,
          0.5803349487413056,
          0.4407561075520843,
          0.10264160561010338,
          0.9191928560793947,
          0.21672230574560636,
          0.6516946313316628,
          0.7736660244537953,
          0.9758249156797977,
          0.6896982261107723,
          0.33567748552513366,
          0.704024380939992,
          0.020228216393820997,
          0.8880649538773379,
          0.6392556047614111,
          0.4931517325659819,
          0.1178005847655812,
          0.3463202530905676,
          0.11735213898795183
         ],
         "y": [
          10.48051802365127,
          10.435502475544775,
          10.763858293012422,
          10.058477753961244,
          10.48842105892623,
          10.910469161098076,
          10.783013732584381,
          10.455407908788477,
          10.549923414220636,
          10.78163023229377,
          10.154224872993371,
          10.993498710403728,
          10.751378881358107,
          10.658558517558856,
          10.253076442469931,
          10.841454708314355,
          10.476173569004937,
          10.623035199227626,
          10.974581837019493,
          10.44261302534844,
          10.597438542853013,
          10.865014773354496,
          10.637166425954376,
          10.949070776263572,
          10.808812617997324,
          10.797559293739475,
          10.383093342605969,
          10.739174160734855,
          10.212336182097912,
          10.342437950367822,
          10.393431384968233,
          10.247333941783747,
          10.963969900767987,
          10.515657683585772,
          10.939082738090956,
          10.973628645960991,
          10.14256267576207,
          10.88038729598327,
          10.542245310409466,
          10.052740688916577,
          10.676803749376383,
          10.430395799702378,
          10.146633328315056,
          10.884979354791804,
          10.22969214680353,
          10.351848126233788,
          10.920538992705408,
          10.35474407516805,
          10.714586553563338,
          10.083979277054357,
          10.797571646209889,
          10.195463976666138,
          10.233765075955619,
          10.210802019883008,
          10.521347665755957,
          10.982880367320263,
          10.3389562668053,
          10.700458150953136,
          10.201345542075188,
          10.338454123401425,
          10.02692007984859,
          10.891622004589602,
          10.274545377696347,
          10.33864238557059,
          10.64668676537052,
          10.736788312495243,
          10.140921457309265,
          10.660132019553588,
          10.240819040900154,
          10.540361620099528,
          10.746602769293423,
          10.81570679553659,
          10.95097451500419,
          10.744131734261284,
          10.993788971264177,
          10.88070645356318,
          10.377614134311802,
          10.067502043434931,
          10.91371047822425,
          10.672145101532337,
          10.118144716448723,
          10.275780689640687,
          10.844048378389116,
          10.971516809611613,
          10.831206601522934,
          10.592700264176454,
          10.810675532558967,
          10.384698113015022,
          10.757409688362257,
          10.660516366224535,
          10.316109001659866,
          10.05370522340578,
          10.597143009498076,
          10.522735703191664,
          10.027982809720308,
          10.149658122743329,
          10.98144611610956,
          10.746536254334702,
          10.15753965249331,
          10.4485669770559,
          10.178173740162034,
          10.750884954121357,
          10.705679470707302,
          10.256291995290294,
          10.655959245009267,
          10.552259001322632,
          10.889553651220764,
          10.205692712521156,
          10.19166331322399,
          10.303485588180399,
          10.367872751405988,
          10.619987412224019,
          10.394378671603056,
          10.655789400739478,
          10.820932664412066,
          10.811330095561994,
          10.070266653922909,
          10.364315086567101,
          10.691095803335056,
          10.461091073650424,
          10.651779157564453,
          10.35773152893209,
          10.46872621160016,
          10.053073619905108,
          10.096663971107029,
          10.584302710193649,
          10.839738781838125,
          10.746243649890854,
          10.41095597475217,
          10.121728136182249,
          10.030998904924068,
          10.8629338244561,
          10.437691137337687,
          10.91295787118606,
          10.357430720105727,
          10.589059483316031,
          10.08802909334273,
          10.927953790733175,
          10.309145637961132,
          10.754113372148417,
          10.302567995516151,
          10.702391987024757,
          10.950744168280677,
          10.312819387575477,
          10.232758422897282,
          10.774975005815346,
          10.260833884679283,
          10.807998115517996,
          10.116151092355722,
          10.296526773568633,
          10.216874618861757,
          10.334296004135876,
          10.121537798505717,
          10.782471834193247,
          10.848920130836241,
          10.300808771555829,
          10.590978933542964,
          10.097386642382528,
          10.791748490260549,
          10.517740775080748,
          10.84793232029827,
          10.17362945955043,
          10.116238669415598,
          10.282134225488209,
          10.415545691115048,
          10.69506409522435,
          10.178541503411887,
          10.581651056881148,
          10.291856463707129,
          10.364839004080881,
          10.729955976493214,
          10.316729039304821,
          10.6055587214442,
          10.928042262132283,
          10.070163872655229,
          10.985859094489836,
          10.062515105358692,
          10.978467791186933,
          10.034959324677263,
          10.823836699010334,
          10.41648125234725,
          10.018039757156519,
          10.02409595195096,
          10.407587594928215,
          10.295696660580358,
          10.734756219365092,
          10.875243897414059,
          10.898136258454313,
          10.681299540066002,
          10.603732226171402,
          10.012338105591265,
          10.238051155926597,
          10.736670727904311,
          10.446764790184115,
          10.910636478513116,
          10.59612490545304,
          10.059322107883656,
          10.690450422505752,
          10.536404584129727,
          10.502180055802032,
          10.185767717005353,
          10.905750646947029,
          10.099361116497231,
          10.551032367874987,
          10.35229206550797,
          10.076529625011238,
          10.738582160330562,
          10.037396782830488,
          10.615795742580167,
          10.20895744081007,
          10.554273695219234,
          10.394498824525114,
          10.32981484243512,
          10.584127144289347,
          10.88821454689404,
          10.453394456930578,
          10.207392581863896,
          10.75693799654403,
          10.855020769237822,
          10.986103518750744,
          10.463042773996857,
          10.91691503745217,
          10.285433385833144,
          10.078375788149327,
          10.690753589770976,
          10.53636164557029,
          10.05648996043689,
          10.477800051409803,
          10.207495125088336,
          10.725262964785317,
          10.286132946827303,
          10.654665553839642,
          10.582742983957765,
          10.42548740941012,
          10.172205818889662,
          10.232147823257105,
          10.738620376499687,
          10.026883715752366,
          10.089428828902562,
          10.06277083255609,
          10.70098235694872,
          10.221920063546385,
          10.847016545920658,
          10.399403992346821,
          10.548409205866031,
          10.289218014873079,
          10.235009538101632,
          10.339927009437421,
          10.083337376205773,
          10.64345539714426,
          10.970136552251862,
          10.015669538892734,
          10.444246846189698,
          10.153525940746661,
          10.263949767716875,
          10.745290305760651,
          10.03156258894238,
          10.426672469533722,
          10.037215698038887,
          10.55614444560483,
          10.939958884238703,
          10.974101854418612,
          10.122124242777947,
          10.109569051593747,
          10.553908134036362,
          10.479052472402504,
          10.20877638714727,
          10.63434822245542,
          10.78105195258308,
          10.123454671129117,
          10.166309792106901,
          10.215337233526691,
          10.26959834084407,
          10.279850339294011,
          10.585761070931888,
          10.315342841535653,
          10.913416538367779,
          10.147997298217124,
          10.280644924379573,
          10.810673760141672,
          10.432951757655651,
          10.910802187018403,
          10.607533099131354,
          10.55170147309535,
          10.63732289996226,
          10.953467557317325,
          10.40954002032475,
          10.354223918591405,
          10.059421280554435,
          10.96021658762716,
          10.997755251951816,
          10.552551470845481,
          10.49271642888892,
          10.552018867595866,
          10.347950662970298,
          10.20938199623278,
          10.408393493961254,
          10.335921765597163,
          10.278286904913495,
          10.657606759485814
         ],
         "z": [
          30.48051802365127,
          30.435502475544773,
          30.763858293012422,
          30.05847775396124,
          30.48842105892623,
          30.910469161098078,
          30.78301373258438,
          30.455407908788477,
          30.549923414220636,
          30.78163023229377,
          30.15422487299337,
          30.993498710403728,
          30.751378881358107,
          30.658558517558856,
          30.253076442469933,
          30.841454708314355,
          30.47617356900494,
          30.623035199227626,
          30.974581837019493,
          30.44261302534844,
          30.597438542853013,
          30.865014773354496,
          30.637166425954376,
          30.94907077626357,
          30.808812617997326,
          30.797559293739475,
          30.383093342605967,
          30.739174160734855,
          30.212336182097914,
          30.342437950367824,
          30.39343138496823,
          30.247333941783747,
          30.96396990076799,
          30.515657683585772,
          30.939082738090956,
          30.973628645960993,
          30.142562675762072,
          30.88038729598327,
          30.542245310409466,
          30.052740688916575,
          30.676803749376383,
          30.430395799702378,
          30.146633328315055,
          30.884979354791806,
          30.22969214680353,
          30.351848126233786,
          30.92053899270541,
          30.35474407516805,
          30.714586553563336,
          30.083979277054357,
          30.79757164620989,
          30.195463976666137,
          30.233765075955617,
          30.21080201988301,
          30.521347665755957,
          30.982880367320263,
          30.3389562668053,
          30.700458150953136,
          30.201345542075188,
          30.338454123401426,
          30.02692007984859,
          30.8916220045896,
          30.274545377696345,
          30.33864238557059,
          30.646686765370518,
          30.736788312495243,
          30.140921457309265,
          30.66013201955359,
          30.240819040900156,
          30.540361620099528,
          30.74660276929342,
          30.815706795536588,
          30.95097451500419,
          30.744131734261284,
          30.993788971264177,
          30.88070645356318,
          30.377614134311802,
          30.06750204343493,
          30.91371047822425,
          30.672145101532337,
          30.118144716448725,
          30.275780689640687,
          30.844048378389118,
          30.971516809611614,
          30.831206601522936,
          30.592700264176454,
          30.810675532558967,
          30.384698113015023,
          30.75740968836226,
          30.660516366224535,
          30.316109001659864,
          30.05370522340578,
          30.597143009498076,
          30.522735703191664,
          30.02798280972031,
          30.14965812274333,
          30.98144611610956,
          30.746536254334703,
          30.157539652493313,
          30.4485669770559,
          30.178173740162034,
          30.750884954121357,
          30.705679470707302,
          30.256291995290294,
          30.655959245009267,
          30.552259001322632,
          30.889553651220762,
          30.205692712521156,
          30.19166331322399,
          30.3034855881804,
          30.367872751405987,
          30.619987412224017,
          30.394378671603054,
          30.65578940073948,
          30.820932664412066,
          30.811330095561996,
          30.07026665392291,
          30.364315086567103,
          30.691095803335056,
          30.461091073650422,
          30.65177915756445,
          30.35773152893209,
          30.46872621160016,
          30.05307361990511,
          30.096663971107027,
          30.584302710193647,
          30.839738781838125,
          30.746243649890854,
          30.41095597475217,
          30.12172813618225,
          30.03099890492407,
          30.8629338244561,
          30.437691137337687,
          30.912957871186062,
          30.357430720105725,
          30.58905948331603,
          30.08802909334273,
          30.927953790733174,
          30.309145637961134,
          30.754113372148417,
          30.30256799551615,
          30.702391987024757,
          30.95074416828068,
          30.312819387575477,
          30.232758422897284,
          30.774975005815346,
          30.260833884679283,
          30.807998115517996,
          30.11615109235572,
          30.296526773568633,
          30.216874618861755,
          30.334296004135876,
          30.121537798505717,
          30.782471834193245,
          30.84892013083624,
          30.30080877155583,
          30.590978933542964,
          30.097386642382528,
          30.79174849026055,
          30.517740775080746,
          30.84793232029827,
          30.17362945955043,
          30.116238669415598,
          30.282134225488207,
          30.415545691115046,
          30.69506409522435,
          30.17854150341189,
          30.58165105688115,
          30.291856463707127,
          30.36483900408088,
          30.729955976493212,
          30.31672903930482,
          30.6055587214442,
          30.928042262132283,
          30.07016387265523,
          30.985859094489836,
          30.062515105358692,
          30.978467791186933,
          30.034959324677263,
          30.823836699010336,
          30.41648125234725,
          30.01803975715652,
          30.02409595195096,
          30.407587594928213,
          30.295696660580358,
          30.734756219365092,
          30.87524389741406,
          30.89813625845431,
          30.681299540066004,
          30.603732226171402,
          30.012338105591265,
          30.238051155926595,
          30.73667072790431,
          30.446764790184115,
          30.910636478513116,
          30.59612490545304,
          30.059322107883656,
          30.69045042250575,
          30.536404584129727,
          30.502180055802032,
          30.185767717005355,
          30.90575064694703,
          30.09936111649723,
          30.551032367874985,
          30.35229206550797,
          30.07652962501124,
          30.738582160330562,
          30.037396782830488,
          30.615795742580165,
          30.208957440810067,
          30.554273695219234,
          30.39449882452511,
          30.32981484243512,
          30.584127144289347,
          30.88821454689404,
          30.453394456930578,
          30.207392581863896,
          30.75693799654403,
          30.85502076923782,
          30.986103518750745,
          30.463042773996857,
          30.91691503745217,
          30.285433385833144,
          30.078375788149327,
          30.690753589770974,
          30.536361645570288,
          30.056489960436892,
          30.477800051409805,
          30.207495125088336,
          30.725262964785315,
          30.286132946827305,
          30.654665553839642,
          30.582742983957765,
          30.42548740941012,
          30.172205818889662,
          30.232147823257105,
          30.73862037649969,
          30.026883715752366,
          30.089428828902562,
          30.06277083255609,
          30.70098235694872,
          30.221920063546385,
          30.84701654592066,
          30.39940399234682,
          30.54840920586603,
          30.28921801487308,
          30.235009538101632,
          30.33992700943742,
          30.083337376205773,
          30.643455397144262,
          30.970136552251862,
          30.015669538892734,
          30.4442468461897,
          30.15352594074666,
          30.263949767716873,
          30.74529030576065,
          30.03156258894238,
          30.42667246953372,
          30.037215698038885,
          30.55614444560483,
          30.939958884238703,
          30.97410185441861,
          30.122124242777947,
          30.10956905159375,
          30.553908134036362,
          30.479052472402504,
          30.20877638714727,
          30.63434822245542,
          30.78105195258308,
          30.123454671129117,
          30.1663097921069,
          30.21533723352669,
          30.26959834084407,
          30.27985033929401,
          30.585761070931888,
          30.315342841535653,
          30.913416538367777,
          30.147997298217124,
          30.280644924379573,
          30.810673760141672,
          30.43295175765565,
          30.910802187018405,
          30.607533099131356,
          30.55170147309535,
          30.63732289996226,
          30.953467557317325,
          30.409540020324748,
          30.354223918591405,
          30.059421280554435,
          30.960216587627162,
          30.997755251951816,
          30.55255147084548,
          30.49271642888892,
          30.552018867595866,
          30.347950662970298,
          30.209381996232782,
          30.408393493961253,
          30.335921765597163,
          30.278286904913497,
          30.657606759485816
         ]
        }
       ],
       "layout": {
        "legend": {
         "bgcolor": "#151516",
         "font": {
          "color": "#D9D9D9"
         }
        },
        "paper_bgcolor": "#151516",
        "plot_bgcolor": "#151516",
        "scene": {
         "xaxis": {
          "gridcolor": "#434343",
          "showgrid": true,
          "tickfont": {
           "color": "#C2C2C2"
          },
          "title": {
           "font": {
            "color": "#D9D9D9"
           },
           "text": ""
          },
          "zerolinecolor": "#666570"
         },
         "yaxis": {
          "gridcolor": "#434343",
          "showgrid": true,
          "tickfont": {
           "color": "#C2C2C2"
          },
          "title": {
           "font": {
            "color": "#D9D9D9"
           },
           "text": ""
          },
          "zerolinecolor": "#666570"
         },
         "zaxis": {
          "gridcolor": "#434343",
          "showgrid": true,
          "tickfont": {
           "color": "#C2C2C2"
          },
          "title": {
           "font": {
            "color": "#D9D9D9"
           },
           "text": ""
          },
          "zerolinecolor": "#666570"
         }
        },
        "template": {
         "data": {
          "bar": [
           {
            "error_x": {
             "color": "#2a3f5f"
            },
            "error_y": {
             "color": "#2a3f5f"
            },
            "marker": {
             "line": {
              "color": "#E5ECF6",
              "width": 0.5
             },
             "pattern": {
              "fillmode": "overlay",
              "size": 10,
              "solidity": 0.2
             }
            },
            "type": "bar"
           }
          ],
          "barpolar": [
           {
            "marker": {
             "line": {
              "color": "#E5ECF6",
              "width": 0.5
             },
             "pattern": {
              "fillmode": "overlay",
              "size": 10,
              "solidity": 0.2
             }
            },
            "type": "barpolar"
           }
          ],
          "carpet": [
           {
            "aaxis": {
             "endlinecolor": "#2a3f5f",
             "gridcolor": "white",
             "linecolor": "white",
             "minorgridcolor": "white",
             "startlinecolor": "#2a3f5f"
            },
            "baxis": {
             "endlinecolor": "#2a3f5f",
             "gridcolor": "white",
             "linecolor": "white",
             "minorgridcolor": "white",
             "startlinecolor": "#2a3f5f"
            },
            "type": "carpet"
           }
          ],
          "choropleth": [
           {
            "colorbar": {
             "outlinewidth": 0,
             "ticks": ""
            },
            "type": "choropleth"
           }
          ],
          "contour": [
           {
            "colorbar": {
             "outlinewidth": 0,
             "ticks": ""
            },
            "colorscale": [
             [
              0,
              "#0d0887"
             ],
             [
              0.1111111111111111,
              "#46039f"
             ],
             [
              0.2222222222222222,
              "#7201a8"
             ],
             [
              0.3333333333333333,
              "#9c179e"
             ],
             [
              0.4444444444444444,
              "#bd3786"
             ],
             [
              0.5555555555555556,
              "#d8576b"
             ],
             [
              0.6666666666666666,
              "#ed7953"
             ],
             [
              0.7777777777777778,
              "#fb9f3a"
             ],
             [
              0.8888888888888888,
              "#fdca26"
             ],
             [
              1,
              "#f0f921"
             ]
            ],
            "type": "contour"
           }
          ],
          "contourcarpet": [
           {
            "colorbar": {
             "outlinewidth": 0,
             "ticks": ""
            },
            "type": "contourcarpet"
           }
          ],
          "heatmap": [
           {
            "colorbar": {
             "outlinewidth": 0,
             "ticks": ""
            },
            "colorscale": [
             [
              0,
              "#0d0887"
             ],
             [
              0.1111111111111111,
              "#46039f"
             ],
             [
              0.2222222222222222,
              "#7201a8"
             ],
             [
              0.3333333333333333,
              "#9c179e"
             ],
             [
              0.4444444444444444,
              "#bd3786"
             ],
             [
              0.5555555555555556,
              "#d8576b"
             ],
             [
              0.6666666666666666,
              "#ed7953"
             ],
             [
              0.7777777777777778,
              "#fb9f3a"
             ],
             [
              0.8888888888888888,
              "#fdca26"
             ],
             [
              1,
              "#f0f921"
             ]
            ],
            "type": "heatmap"
           }
          ],
          "heatmapgl": [
           {
            "colorbar": {
             "outlinewidth": 0,
             "ticks": ""
            },
            "colorscale": [
             [
              0,
              "#0d0887"
             ],
             [
              0.1111111111111111,
              "#46039f"
             ],
             [
              0.2222222222222222,
              "#7201a8"
             ],
             [
              0.3333333333333333,
              "#9c179e"
             ],
             [
              0.4444444444444444,
              "#bd3786"
             ],
             [
              0.5555555555555556,
              "#d8576b"
             ],
             [
              0.6666666666666666,
              "#ed7953"
             ],
             [
              0.7777777777777778,
              "#fb9f3a"
             ],
             [
              0.8888888888888888,
              "#fdca26"
             ],
             [
              1,
              "#f0f921"
             ]
            ],
            "type": "heatmapgl"
           }
          ],
          "histogram": [
           {
            "marker": {
             "pattern": {
              "fillmode": "overlay",
              "size": 10,
              "solidity": 0.2
             }
            },
            "type": "histogram"
           }
          ],
          "histogram2d": [
           {
            "colorbar": {
             "outlinewidth": 0,
             "ticks": ""
            },
            "colorscale": [
             [
              0,
              "#0d0887"
             ],
             [
              0.1111111111111111,
              "#46039f"
             ],
             [
              0.2222222222222222,
              "#7201a8"
             ],
             [
              0.3333333333333333,
              "#9c179e"
             ],
             [
              0.4444444444444444,
              "#bd3786"
             ],
             [
              0.5555555555555556,
              "#d8576b"
             ],
             [
              0.6666666666666666,
              "#ed7953"
             ],
             [
              0.7777777777777778,
              "#fb9f3a"
             ],
             [
              0.8888888888888888,
              "#fdca26"
             ],
             [
              1,
              "#f0f921"
             ]
            ],
            "type": "histogram2d"
           }
          ],
          "histogram2dcontour": [
           {
            "colorbar": {
             "outlinewidth": 0,
             "ticks": ""
            },
            "colorscale": [
             [
              0,
              "#0d0887"
             ],
             [
              0.1111111111111111,
              "#46039f"
             ],
             [
              0.2222222222222222,
              "#7201a8"
             ],
             [
              0.3333333333333333,
              "#9c179e"
             ],
             [
              0.4444444444444444,
              "#bd3786"
             ],
             [
              0.5555555555555556,
              "#d8576b"
             ],
             [
              0.6666666666666666,
              "#ed7953"
             ],
             [
              0.7777777777777778,
              "#fb9f3a"
             ],
             [
              0.8888888888888888,
              "#fdca26"
             ],
             [
              1,
              "#f0f921"
             ]
            ],
            "type": "histogram2dcontour"
           }
          ],
          "mesh3d": [
           {
            "colorbar": {
             "outlinewidth": 0,
             "ticks": ""
            },
            "type": "mesh3d"
           }
          ],
          "parcoords": [
           {
            "line": {
             "colorbar": {
              "outlinewidth": 0,
              "ticks": ""
             }
            },
            "type": "parcoords"
           }
          ],
          "pie": [
           {
            "automargin": true,
            "type": "pie"
           }
          ],
          "scatter": [
           {
            "marker": {
             "colorbar": {
              "outlinewidth": 0,
              "ticks": ""
             }
            },
            "type": "scatter"
           }
          ],
          "scatter3d": [
           {
            "line": {
             "colorbar": {
              "outlinewidth": 0,
              "ticks": ""
             }
            },
            "marker": {
             "colorbar": {
              "outlinewidth": 0,
              "ticks": ""
             }
            },
            "type": "scatter3d"
           }
          ],
          "scattercarpet": [
           {
            "marker": {
             "colorbar": {
              "outlinewidth": 0,
              "ticks": ""
             }
            },
            "type": "scattercarpet"
           }
          ],
          "scattergeo": [
           {
            "marker": {
             "colorbar": {
              "outlinewidth": 0,
              "ticks": ""
             }
            },
            "type": "scattergeo"
           }
          ],
          "scattergl": [
           {
            "marker": {
             "colorbar": {
              "outlinewidth": 0,
              "ticks": ""
             }
            },
            "type": "scattergl"
           }
          ],
          "scattermapbox": [
           {
            "marker": {
             "colorbar": {
              "outlinewidth": 0,
              "ticks": ""
             }
            },
            "type": "scattermapbox"
           }
          ],
          "scatterpolar": [
           {
            "marker": {
             "colorbar": {
              "outlinewidth": 0,
              "ticks": ""
             }
            },
            "type": "scatterpolar"
           }
          ],
          "scatterpolargl": [
           {
            "marker": {
             "colorbar": {
              "outlinewidth": 0,
              "ticks": ""
             }
            },
            "type": "scatterpolargl"
           }
          ],
          "scatterternary": [
           {
            "marker": {
             "colorbar": {
              "outlinewidth": 0,
              "ticks": ""
             }
            },
            "type": "scatterternary"
           }
          ],
          "surface": [
           {
            "colorbar": {
             "outlinewidth": 0,
             "ticks": ""
            },
            "colorscale": [
             [
              0,
              "#0d0887"
             ],
             [
              0.1111111111111111,
              "#46039f"
             ],
             [
              0.2222222222222222,
              "#7201a8"
             ],
             [
              0.3333333333333333,
              "#9c179e"
             ],
             [
              0.4444444444444444,
              "#bd3786"
             ],
             [
              0.5555555555555556,
              "#d8576b"
             ],
             [
              0.6666666666666666,
              "#ed7953"
             ],
             [
              0.7777777777777778,
              "#fb9f3a"
             ],
             [
              0.8888888888888888,
              "#fdca26"
             ],
             [
              1,
              "#f0f921"
             ]
            ],
            "type": "surface"
           }
          ],
          "table": [
           {
            "cells": {
             "fill": {
              "color": "#EBF0F8"
             },
             "line": {
              "color": "white"
             }
            },
            "header": {
             "fill": {
              "color": "#C8D4E3"
             },
             "line": {
              "color": "white"
             }
            },
            "type": "table"
           }
          ]
         },
         "layout": {
          "annotationdefaults": {
           "arrowcolor": "#2a3f5f",
           "arrowhead": 0,
           "arrowwidth": 1
          },
          "autotypenumbers": "strict",
          "coloraxis": {
           "colorbar": {
            "outlinewidth": 0,
            "ticks": ""
           }
          },
          "colorscale": {
           "diverging": [
            [
             0,
             "#8e0152"
            ],
            [
             0.1,
             "#c51b7d"
            ],
            [
             0.2,
             "#de77ae"
            ],
            [
             0.3,
             "#f1b6da"
            ],
            [
             0.4,
             "#fde0ef"
            ],
            [
             0.5,
             "#f7f7f7"
            ],
            [
             0.6,
             "#e6f5d0"
            ],
            [
             0.7,
             "#b8e186"
            ],
            [
             0.8,
             "#7fbc41"
            ],
            [
             0.9,
             "#4d9221"
            ],
            [
             1,
             "#276419"
            ]
           ],
           "sequential": [
            [
             0,
             "#0d0887"
            ],
            [
             0.1111111111111111,
             "#46039f"
            ],
            [
             0.2222222222222222,
             "#7201a8"
            ],
            [
             0.3333333333333333,
             "#9c179e"
            ],
            [
             0.4444444444444444,
             "#bd3786"
            ],
            [
             0.5555555555555556,
             "#d8576b"
            ],
            [
             0.6666666666666666,
             "#ed7953"
            ],
            [
             0.7777777777777778,
             "#fb9f3a"
            ],
            [
             0.8888888888888888,
             "#fdca26"
            ],
            [
             1,
             "#f0f921"
            ]
           ],
           "sequentialminus": [
            [
             0,
             "#0d0887"
            ],
            [
             0.1111111111111111,
             "#46039f"
            ],
            [
             0.2222222222222222,
             "#7201a8"
            ],
            [
             0.3333333333333333,
             "#9c179e"
            ],
            [
             0.4444444444444444,
             "#bd3786"
            ],
            [
             0.5555555555555556,
             "#d8576b"
            ],
            [
             0.6666666666666666,
             "#ed7953"
            ],
            [
             0.7777777777777778,
             "#fb9f3a"
            ],
            [
             0.8888888888888888,
             "#fdca26"
            ],
            [
             1,
             "#f0f921"
            ]
           ]
          },
          "colorway": [
           "#636efa",
           "#EF553B",
           "#00cc96",
           "#ab63fa",
           "#FFA15A",
           "#19d3f3",
           "#FF6692",
           "#B6E880",
           "#FF97FF",
           "#FECB52"
          ],
          "font": {
           "color": "#2a3f5f"
          },
          "geo": {
           "bgcolor": "white",
           "lakecolor": "white",
           "landcolor": "#E5ECF6",
           "showlakes": true,
           "showland": true,
           "subunitcolor": "white"
          },
          "hoverlabel": {
           "align": "left"
          },
          "hovermode": "closest",
          "mapbox": {
           "style": "light"
          },
          "paper_bgcolor": "white",
          "plot_bgcolor": "#E5ECF6",
          "polar": {
           "angularaxis": {
            "gridcolor": "white",
            "linecolor": "white",
            "ticks": ""
           },
           "bgcolor": "#E5ECF6",
           "radialaxis": {
            "gridcolor": "white",
            "linecolor": "white",
            "ticks": ""
           }
          },
          "scene": {
           "xaxis": {
            "backgroundcolor": "#E5ECF6",
            "gridcolor": "white",
            "gridwidth": 2,
            "linecolor": "white",
            "showbackground": true,
            "ticks": "",
            "zerolinecolor": "white"
           },
           "yaxis": {
            "backgroundcolor": "#E5ECF6",
            "gridcolor": "white",
            "gridwidth": 2,
            "linecolor": "white",
            "showbackground": true,
            "ticks": "",
            "zerolinecolor": "white"
           },
           "zaxis": {
            "backgroundcolor": "#E5ECF6",
            "gridcolor": "white",
            "gridwidth": 2,
            "linecolor": "white",
            "showbackground": true,
            "ticks": "",
            "zerolinecolor": "white"
           }
          },
          "shapedefaults": {
           "line": {
            "color": "#2a3f5f"
           }
          },
          "ternary": {
           "aaxis": {
            "gridcolor": "white",
            "linecolor": "white",
            "ticks": ""
           },
           "baxis": {
            "gridcolor": "white",
            "linecolor": "white",
            "ticks": ""
           },
           "bgcolor": "#E5ECF6",
           "caxis": {
            "gridcolor": "white",
            "linecolor": "white",
            "ticks": ""
           }
          },
          "title": {
           "x": 0.05
          },
          "xaxis": {
           "automargin": true,
           "gridcolor": "white",
           "linecolor": "white",
           "ticks": "",
           "title": {
            "standoff": 15
           },
           "zerolinecolor": "white",
           "zerolinewidth": 2
          },
          "yaxis": {
           "automargin": true,
           "gridcolor": "white",
           "linecolor": "white",
           "ticks": "",
           "title": {
            "standoff": 15
           },
           "zerolinecolor": "white",
           "zerolinewidth": 2
          }
         }
        },
        "title": {
         "font": {
          "color": "#D9D9D9"
         }
        }
       }
      },
      "text/html": [
       "<div>                            <div id=\"e64f5ffc-04fa-4842-aca3-640408c26747\" class=\"plotly-graph-div\" style=\"height:525px; width:100%;\"></div>            <script type=\"text/javascript\">                require([\"plotly\"], function(Plotly) {                    window.PLOTLYENV=window.PLOTLYENV || {};\n",
       "                    window.PLOTLYENV.BASE_URL='https://plot.ly';                                    if (document.getElementById(\"e64f5ffc-04fa-4842-aca3-640408c26747\")) {                    Plotly.newPlot(                        \"e64f5ffc-04fa-4842-aca3-640408c26747\",                        [{\"marker\":{\"color\":[\"rgba(255, 153, 51, 1.0)\",\"rgba(55, 128, 191, 1.0)\",\"rgba(50, 171, 96, 1.0)\",\"rgba(128, 0, 128, 1.0)\",\"rgba(219, 64, 82, 1.0)\",\"rgba(0, 128, 128, 1.0)\",\"rgba(255, 255, 51, 1.0)\",\"rgba(128, 128, 0, 1.0)\",\"rgba(251, 128, 114, 1.0)\",\"rgba(128, 177, 211, 1.0)\",\"rgba(128, 177, 211, 0.9733333333333334)\",\"rgba(255, 153, 51, 0.9733333333333334)\",\"rgba(55, 128, 191, 0.9733333333333334)\",\"rgba(50, 171, 96, 0.9733333333333334)\",\"rgba(128, 0, 128, 0.9733333333333334)\",\"rgba(219, 64, 82, 0.9733333333333334)\",\"rgba(0, 128, 128, 0.9733333333333334)\",\"rgba(255, 255, 51, 0.9733333333333334)\",\"rgba(128, 128, 0, 0.9733333333333334)\",\"rgba(251, 128, 114, 0.9733333333333334)\",\"rgba(251, 128, 114, 0.9466666666666665)\",\"rgba(128, 177, 211, 0.9466666666666665)\",\"rgba(255, 153, 51, 0.9466666666666665)\",\"rgba(55, 128, 191, 0.9466666666666665)\",\"rgba(50, 171, 96, 0.9466666666666665)\",\"rgba(128, 0, 128, 0.9466666666666665)\",\"rgba(219, 64, 82, 0.9466666666666665)\",\"rgba(0, 128, 128, 0.9466666666666665)\",\"rgba(255, 255, 51, 0.9466666666666665)\",\"rgba(128, 128, 0, 0.9466666666666665)\",\"rgba(128, 128, 0, 0.9199999999999999)\",\"rgba(251, 128, 114, 0.9199999999999999)\",\"rgba(128, 177, 211, 0.9199999999999999)\",\"rgba(255, 153, 51, 0.9199999999999999)\",\"rgba(55, 128, 191, 0.9199999999999999)\",\"rgba(50, 171, 96, 0.9199999999999999)\",\"rgba(128, 0, 128, 0.9199999999999999)\",\"rgba(219, 64, 82, 0.9199999999999999)\",\"rgba(0, 128, 128, 0.9199999999999999)\",\"rgba(255, 255, 51, 0.9199999999999999)\",\"rgba(255, 255, 51, 0.8933333333333333)\",\"rgba(128, 128, 0, 0.8933333333333333)\",\"rgba(251, 128, 114, 0.8933333333333333)\",\"rgba(128, 177, 211, 0.8933333333333333)\",\"rgba(255, 153, 51, 0.8933333333333333)\",\"rgba(55, 128, 191, 0.8933333333333333)\",\"rgba(50, 171, 96, 0.8933333333333333)\",\"rgba(128, 0, 128, 0.8933333333333333)\",\"rgba(219, 64, 82, 0.8933333333333333)\",\"rgba(0, 128, 128, 0.8933333333333333)\",\"rgba(0, 128, 128, 0.8666666666666667)\",\"rgba(255, 255, 51, 0.8666666666666667)\",\"rgba(128, 128, 0, 0.8666666666666667)\",\"rgba(251, 128, 114, 0.8666666666666667)\",\"rgba(128, 177, 211, 0.8666666666666667)\",\"rgba(255, 153, 51, 0.8666666666666667)\",\"rgba(55, 128, 191, 0.8666666666666667)\",\"rgba(50, 171, 96, 0.8666666666666667)\",\"rgba(128, 0, 128, 0.8666666666666667)\",\"rgba(219, 64, 82, 0.8666666666666667)\",\"rgba(219, 64, 82, 0.8399999999999999)\",\"rgba(0, 128, 128, 0.8399999999999999)\",\"rgba(255, 255, 51, 0.8399999999999999)\",\"rgba(128, 128, 0, 0.8399999999999999)\",\"rgba(251, 128, 114, 0.8399999999999999)\",\"rgba(128, 177, 211, 0.8399999999999999)\",\"rgba(255, 153, 51, 0.8399999999999999)\",\"rgba(55, 128, 191, 0.8399999999999999)\",\"rgba(50, 171, 96, 0.8399999999999999)\",\"rgba(128, 0, 128, 0.8399999999999999)\",\"rgba(128, 0, 128, 0.8133333333333332)\",\"rgba(219, 64, 82, 0.8133333333333332)\",\"rgba(0, 128, 128, 0.8133333333333332)\",\"rgba(255, 255, 51, 0.8133333333333332)\",\"rgba(128, 128, 0, 0.8133333333333332)\",\"rgba(251, 128, 114, 0.8133333333333332)\",\"rgba(128, 177, 211, 0.8133333333333332)\",\"rgba(255, 153, 51, 0.8133333333333332)\",\"rgba(55, 128, 191, 0.8133333333333332)\",\"rgba(50, 171, 96, 0.8133333333333332)\",\"rgba(50, 171, 96, 0.7866666666666666)\",\"rgba(128, 0, 128, 0.7866666666666666)\",\"rgba(219, 64, 82, 0.7866666666666666)\",\"rgba(0, 128, 128, 0.7866666666666666)\",\"rgba(255, 255, 51, 0.7866666666666666)\",\"rgba(128, 128, 0, 0.7866666666666666)\",\"rgba(251, 128, 114, 0.7866666666666666)\",\"rgba(128, 177, 211, 0.7866666666666666)\",\"rgba(255, 153, 51, 0.7866666666666666)\",\"rgba(55, 128, 191, 0.7866666666666666)\",\"rgba(55, 128, 191, 0.76)\",\"rgba(50, 171, 96, 0.76)\",\"rgba(128, 0, 128, 0.76)\",\"rgba(219, 64, 82, 0.76)\",\"rgba(0, 128, 128, 0.76)\",\"rgba(255, 255, 51, 0.76)\",\"rgba(128, 128, 0, 0.76)\",\"rgba(251, 128, 114, 0.76)\",\"rgba(128, 177, 211, 0.76)\",\"rgba(255, 153, 51, 0.76)\",\"rgba(255, 153, 51, 0.7333333333333332)\",\"rgba(55, 128, 191, 0.7333333333333332)\",\"rgba(50, 171, 96, 0.7333333333333332)\",\"rgba(128, 0, 128, 0.7333333333333332)\",\"rgba(219, 64, 82, 0.7333333333333332)\",\"rgba(0, 128, 128, 0.7333333333333332)\",\"rgba(255, 255, 51, 0.7333333333333332)\",\"rgba(128, 128, 0, 0.7333333333333332)\",\"rgba(251, 128, 114, 0.7333333333333332)\",\"rgba(128, 177, 211, 0.7333333333333332)\",\"rgba(128, 177, 211, 0.7066666666666666)\",\"rgba(255, 153, 51, 0.7066666666666666)\",\"rgba(55, 128, 191, 0.7066666666666666)\",\"rgba(50, 171, 96, 0.7066666666666666)\",\"rgba(128, 0, 128, 0.7066666666666666)\",\"rgba(219, 64, 82, 0.7066666666666666)\",\"rgba(0, 128, 128, 0.7066666666666666)\",\"rgba(255, 255, 51, 0.7066666666666666)\",\"rgba(128, 128, 0, 0.7066666666666666)\",\"rgba(251, 128, 114, 0.7066666666666666)\",\"rgba(251, 128, 114, 0.6799999999999999)\",\"rgba(128, 177, 211, 0.6799999999999999)\",\"rgba(255, 153, 51, 0.6799999999999999)\",\"rgba(55, 128, 191, 0.6799999999999999)\",\"rgba(50, 171, 96, 0.6799999999999999)\",\"rgba(128, 0, 128, 0.6799999999999999)\",\"rgba(219, 64, 82, 0.6799999999999999)\",\"rgba(0, 128, 128, 0.6799999999999999)\",\"rgba(255, 255, 51, 0.6799999999999999)\",\"rgba(128, 128, 0, 0.6799999999999999)\",\"rgba(128, 128, 0, 0.6533333333333333)\",\"rgba(251, 128, 114, 0.6533333333333333)\",\"rgba(128, 177, 211, 0.6533333333333333)\",\"rgba(255, 153, 51, 0.6533333333333333)\",\"rgba(55, 128, 191, 0.6533333333333333)\",\"rgba(50, 171, 96, 0.6533333333333333)\",\"rgba(128, 0, 128, 0.6533333333333333)\",\"rgba(219, 64, 82, 0.6533333333333333)\",\"rgba(0, 128, 128, 0.6533333333333333)\",\"rgba(255, 255, 51, 0.6533333333333333)\",\"rgba(255, 255, 51, 0.6266666666666665)\",\"rgba(128, 128, 0, 0.6266666666666665)\",\"rgba(251, 128, 114, 0.6266666666666665)\",\"rgba(128, 177, 211, 0.6266666666666665)\",\"rgba(255, 153, 51, 0.6266666666666665)\",\"rgba(55, 128, 191, 0.6266666666666665)\",\"rgba(50, 171, 96, 0.6266666666666665)\",\"rgba(128, 0, 128, 0.6266666666666665)\",\"rgba(219, 64, 82, 0.6266666666666665)\",\"rgba(0, 128, 128, 0.6266666666666665)\",\"rgba(0, 128, 128, 0.5999999999999999)\",\"rgba(255, 255, 51, 0.5999999999999999)\",\"rgba(128, 128, 0, 0.5999999999999999)\",\"rgba(251, 128, 114, 0.5999999999999999)\",\"rgba(128, 177, 211, 0.5999999999999999)\",\"rgba(255, 153, 51, 0.5999999999999999)\",\"rgba(55, 128, 191, 0.5999999999999999)\",\"rgba(50, 171, 96, 0.5999999999999999)\",\"rgba(128, 0, 128, 0.5999999999999999)\",\"rgba(219, 64, 82, 0.5999999999999999)\",\"rgba(219, 64, 82, 0.5733333333333333)\",\"rgba(0, 128, 128, 0.5733333333333333)\",\"rgba(255, 255, 51, 0.5733333333333333)\",\"rgba(128, 128, 0, 0.5733333333333333)\",\"rgba(251, 128, 114, 0.5733333333333333)\",\"rgba(128, 177, 211, 0.5733333333333333)\",\"rgba(255, 153, 51, 0.5733333333333333)\",\"rgba(55, 128, 191, 0.5733333333333333)\",\"rgba(50, 171, 96, 0.5733333333333333)\",\"rgba(128, 0, 128, 0.5733333333333333)\",\"rgba(128, 0, 128, 0.5466666666666666)\",\"rgba(219, 64, 82, 0.5466666666666666)\",\"rgba(0, 128, 128, 0.5466666666666666)\",\"rgba(255, 255, 51, 0.5466666666666666)\",\"rgba(128, 128, 0, 0.5466666666666666)\",\"rgba(251, 128, 114, 0.5466666666666666)\",\"rgba(128, 177, 211, 0.5466666666666666)\",\"rgba(255, 153, 51, 0.5466666666666666)\",\"rgba(55, 128, 191, 0.5466666666666666)\",\"rgba(50, 171, 96, 0.5466666666666666)\",\"rgba(50, 171, 96, 0.5199999999999998)\",\"rgba(128, 0, 128, 0.5199999999999998)\",\"rgba(219, 64, 82, 0.5199999999999998)\",\"rgba(0, 128, 128, 0.5199999999999998)\",\"rgba(255, 255, 51, 0.5199999999999998)\",\"rgba(128, 128, 0, 0.5199999999999998)\",\"rgba(251, 128, 114, 0.5199999999999998)\",\"rgba(128, 177, 211, 0.5199999999999998)\",\"rgba(255, 153, 51, 0.5199999999999998)\",\"rgba(55, 128, 191, 0.5199999999999998)\",\"rgba(55, 128, 191, 0.49333333333333323)\",\"rgba(50, 171, 96, 0.49333333333333323)\",\"rgba(128, 0, 128, 0.49333333333333323)\",\"rgba(219, 64, 82, 0.49333333333333323)\",\"rgba(0, 128, 128, 0.49333333333333323)\",\"rgba(255, 255, 51, 0.49333333333333323)\",\"rgba(128, 128, 0, 0.49333333333333323)\",\"rgba(251, 128, 114, 0.49333333333333323)\",\"rgba(128, 177, 211, 0.49333333333333323)\",\"rgba(255, 153, 51, 0.49333333333333323)\",\"rgba(255, 153, 51, 0.4666666666666666)\",\"rgba(55, 128, 191, 0.4666666666666666)\",\"rgba(50, 171, 96, 0.4666666666666666)\",\"rgba(128, 0, 128, 0.4666666666666666)\",\"rgba(219, 64, 82, 0.4666666666666666)\",\"rgba(0, 128, 128, 0.4666666666666666)\",\"rgba(255, 255, 51, 0.4666666666666666)\",\"rgba(128, 128, 0, 0.4666666666666666)\",\"rgba(251, 128, 114, 0.4666666666666666)\",\"rgba(128, 177, 211, 0.4666666666666666)\",\"rgba(128, 177, 211, 0.44)\",\"rgba(255, 153, 51, 0.44)\",\"rgba(55, 128, 191, 0.44)\",\"rgba(50, 171, 96, 0.44)\",\"rgba(128, 0, 128, 0.44)\",\"rgba(219, 64, 82, 0.44)\",\"rgba(0, 128, 128, 0.44)\",\"rgba(255, 255, 51, 0.44)\",\"rgba(128, 128, 0, 0.44)\",\"rgba(251, 128, 114, 0.44)\",\"rgba(251, 128, 114, 0.41333333333333316)\",\"rgba(128, 177, 211, 0.41333333333333316)\",\"rgba(255, 153, 51, 0.41333333333333316)\",\"rgba(55, 128, 191, 0.41333333333333316)\",\"rgba(50, 171, 96, 0.41333333333333316)\",\"rgba(128, 0, 128, 0.41333333333333316)\",\"rgba(219, 64, 82, 0.41333333333333316)\",\"rgba(0, 128, 128, 0.41333333333333316)\",\"rgba(255, 255, 51, 0.41333333333333316)\",\"rgba(128, 128, 0, 0.41333333333333316)\",\"rgba(128, 128, 0, 0.38666666666666655)\",\"rgba(251, 128, 114, 0.38666666666666655)\",\"rgba(128, 177, 211, 0.38666666666666655)\",\"rgba(255, 153, 51, 0.38666666666666655)\",\"rgba(55, 128, 191, 0.38666666666666655)\",\"rgba(50, 171, 96, 0.38666666666666655)\",\"rgba(128, 0, 128, 0.38666666666666655)\",\"rgba(219, 64, 82, 0.38666666666666655)\",\"rgba(0, 128, 128, 0.38666666666666655)\",\"rgba(255, 255, 51, 0.38666666666666655)\",\"rgba(255, 255, 51, 0.35999999999999993)\",\"rgba(128, 128, 0, 0.35999999999999993)\",\"rgba(251, 128, 114, 0.35999999999999993)\",\"rgba(128, 177, 211, 0.35999999999999993)\",\"rgba(255, 153, 51, 0.35999999999999993)\",\"rgba(55, 128, 191, 0.35999999999999993)\",\"rgba(50, 171, 96, 0.35999999999999993)\",\"rgba(128, 0, 128, 0.35999999999999993)\",\"rgba(219, 64, 82, 0.35999999999999993)\",\"rgba(0, 128, 128, 0.35999999999999993)\",\"rgba(0, 128, 128, 0.3333333333333333)\",\"rgba(255, 255, 51, 0.3333333333333333)\",\"rgba(128, 128, 0, 0.3333333333333333)\",\"rgba(251, 128, 114, 0.3333333333333333)\",\"rgba(128, 177, 211, 0.3333333333333333)\",\"rgba(255, 153, 51, 0.3333333333333333)\",\"rgba(55, 128, 191, 0.3333333333333333)\",\"rgba(50, 171, 96, 0.3333333333333333)\",\"rgba(128, 0, 128, 0.3333333333333333)\",\"rgba(219, 64, 82, 0.3333333333333333)\",\"rgba(219, 64, 82, 0.3066666666666665)\",\"rgba(0, 128, 128, 0.3066666666666665)\",\"rgba(255, 255, 51, 0.3066666666666665)\",\"rgba(128, 128, 0, 0.3066666666666665)\",\"rgba(251, 128, 114, 0.3066666666666665)\",\"rgba(128, 177, 211, 0.3066666666666665)\",\"rgba(255, 153, 51, 0.3066666666666665)\",\"rgba(55, 128, 191, 0.3066666666666665)\",\"rgba(50, 171, 96, 0.3066666666666665)\",\"rgba(128, 0, 128, 0.3066666666666665)\",\"rgba(128, 0, 128, 0.27999999999999986)\",\"rgba(219, 64, 82, 0.27999999999999986)\",\"rgba(0, 128, 128, 0.27999999999999986)\",\"rgba(255, 255, 51, 0.27999999999999986)\",\"rgba(128, 128, 0, 0.27999999999999986)\",\"rgba(251, 128, 114, 0.27999999999999986)\",\"rgba(128, 177, 211, 0.27999999999999986)\",\"rgba(255, 153, 51, 0.27999999999999986)\",\"rgba(55, 128, 191, 0.27999999999999986)\",\"rgba(50, 171, 96, 0.27999999999999986)\",\"rgba(50, 171, 96, 0.25333333333333324)\",\"rgba(128, 0, 128, 0.25333333333333324)\",\"rgba(219, 64, 82, 0.25333333333333324)\",\"rgba(0, 128, 128, 0.25333333333333324)\",\"rgba(255, 255, 51, 0.25333333333333324)\",\"rgba(128, 128, 0, 0.25333333333333324)\",\"rgba(251, 128, 114, 0.25333333333333324)\",\"rgba(128, 177, 211, 0.25333333333333324)\",\"rgba(255, 153, 51, 0.25333333333333324)\",\"rgba(55, 128, 191, 0.25333333333333324)\",\"rgba(55, 128, 191, 0.22666666666666663)\",\"rgba(50, 171, 96, 0.22666666666666663)\",\"rgba(128, 0, 128, 0.22666666666666663)\",\"rgba(219, 64, 82, 0.22666666666666663)\",\"rgba(0, 128, 128, 0.22666666666666663)\",\"rgba(255, 255, 51, 0.22666666666666663)\",\"rgba(128, 128, 0, 0.22666666666666663)\",\"rgba(251, 128, 114, 0.22666666666666663)\",\"rgba(128, 177, 211, 0.22666666666666663)\",\"rgba(255, 153, 51, 0.22666666666666663)\"],\"opacity\":0.8,\"size\":[12,12,12,12,12,12,12,12,12,12,12,12,12,12,12,12,12,12,12,12,12,12,12,12,12,12,12,12,12,12,12,12,12,12,12,12,12,12,12,12,12,12,12,12,12,12,12,12,12,12,12,12,12,12,12,12,12,12,12,12,12,12,12,12,12,12,12,12,12,12,12,12,12,12,12,12,12,12,12,12,12,12,12,12,12,12,12,12,12,12,12,12,12,12,12,12,12,12,12,12,12,12,12,12,12,12,12,12,12,12,12,12,12,12,12,12,12,12,12,12,12,12,12,12,12,12,12,12,12,12,12,12,12,12,12,12,12,12,12,12,12,12,12,12,12,12,12,12,12,12,12,12,12,12,12,12,12,12,12,12,12,12,12,12,12,12,12,12,12,12,12,12,12,12,12,12,12,12,12,12,12,12,12,12,12,12,12,12,12,12,12,12,12,12,12,12,12,12,12,12,12,12,12,12,12,12,12,12,12,12,12,12,12,12,12,12,12,12,12,12,12,12,12,12,12,12,12,12,12,12,12,12,12,12,12,12,12,12,12,12,12,12,12,12,12,12,12,12,12,12,12,12,12,12,12,12,12,12,12,12,12,12,12,12,12,12,12,12,12,12,12,12,12,12,12,12,12,12,12,12,12,12,12,12,12,12,12,12,12,12,12,12,12,12,12,12,12,12,12,12],\"symbol\":\"circle\"},\"mode\":\"markers\",\"text\":[\"0\",\"1\",\"2\",\"3\",\"4\",\"5\",\"6\",\"7\",\"8\",\"9\",\"10\",\"11\",\"12\",\"13\",\"14\",\"15\",\"16\",\"17\",\"18\",\"19\",\"20\",\"21\",\"22\",\"23\",\"24\",\"25\",\"26\",\"27\",\"28\",\"29\",\"30\",\"31\",\"32\",\"33\",\"34\",\"35\",\"36\",\"37\",\"38\",\"39\",\"40\",\"41\",\"42\",\"43\",\"44\",\"45\",\"46\",\"47\",\"48\",\"49\",\"50\",\"51\",\"52\",\"53\",\"54\",\"55\",\"56\",\"57\",\"58\",\"59\",\"60\",\"61\",\"62\",\"63\",\"64\",\"65\",\"66\",\"67\",\"68\",\"69\",\"70\",\"71\",\"72\",\"73\",\"74\",\"75\",\"76\",\"77\",\"78\",\"79\",\"80\",\"81\",\"82\",\"83\",\"84\",\"85\",\"86\",\"87\",\"88\",\"89\",\"90\",\"91\",\"92\",\"93\",\"94\",\"95\",\"96\",\"97\",\"98\",\"99\",\"100\",\"101\",\"102\",\"103\",\"104\",\"105\",\"106\",\"107\",\"108\",\"109\",\"110\",\"111\",\"112\",\"113\",\"114\",\"115\",\"116\",\"117\",\"118\",\"119\",\"120\",\"121\",\"122\",\"123\",\"124\",\"125\",\"126\",\"127\",\"128\",\"129\",\"130\",\"131\",\"132\",\"133\",\"134\",\"135\",\"136\",\"137\",\"138\",\"139\",\"140\",\"141\",\"142\",\"143\",\"144\",\"145\",\"146\",\"147\",\"148\",\"149\",\"150\",\"151\",\"152\",\"153\",\"154\",\"155\",\"156\",\"157\",\"158\",\"159\",\"160\",\"161\",\"162\",\"163\",\"164\",\"165\",\"166\",\"167\",\"168\",\"169\",\"170\",\"171\",\"172\",\"173\",\"174\",\"175\",\"176\",\"177\",\"178\",\"179\",\"180\",\"181\",\"182\",\"183\",\"184\",\"185\",\"186\",\"187\",\"188\",\"189\",\"190\",\"191\",\"192\",\"193\",\"194\",\"195\",\"196\",\"197\",\"198\",\"199\",\"200\",\"201\",\"202\",\"203\",\"204\",\"205\",\"206\",\"207\",\"208\",\"209\",\"210\",\"211\",\"212\",\"213\",\"214\",\"215\",\"216\",\"217\",\"218\",\"219\",\"220\",\"221\",\"222\",\"223\",\"224\",\"225\",\"226\",\"227\",\"228\",\"229\",\"230\",\"231\",\"232\",\"233\",\"234\",\"235\",\"236\",\"237\",\"238\",\"239\",\"240\",\"241\",\"242\",\"243\",\"244\",\"245\",\"246\",\"247\",\"248\",\"249\",\"250\",\"251\",\"252\",\"253\",\"254\",\"255\",\"256\",\"257\",\"258\",\"259\",\"260\",\"261\",\"262\",\"263\",\"264\",\"265\",\"266\",\"267\",\"268\",\"269\",\"270\",\"271\",\"272\",\"273\",\"274\",\"275\",\"276\",\"277\",\"278\",\"279\",\"280\",\"281\",\"282\",\"283\",\"284\",\"285\",\"286\",\"287\",\"288\",\"289\",\"290\",\"291\",\"292\",\"293\",\"294\",\"295\",\"296\",\"297\",\"298\",\"299\"],\"x\":[0.2616972067562794,0.965856192761436,0.9731755877329998,0.09650187591020143,0.677377160678866,0.7746766179041092,0.6096952090678328,0.5100560601906962,0.47929448870739966,0.21559272989178424,0.16034468723673523,0.9568548103569411,0.03915713960078926,0.5668813319953047,0.23803726214256005,0.025574871046434855,0.9944695894028708,0.879381548097398,0.27995010512869645,0.10451465518802716,0.866600357196071,0.8792502431986794,0.6537439752900239,0.2773790373348036,0.03407916371688968,0.8372406866886217,0.9485506852568658,0.631492332765093,0.8205970079235249,0.4859670916836111,0.89736876897561,0.6111278417657411,0.6218672131270867,0.47119610360024977,0.3420522682464564,0.02504916012091829,0.6778307173871495,0.38609149005007315,0.42999738942306254,0.07120311005406543,0.2650259856565099,0.8196466216094488,0.9476048381658999,0.16737120781283066,0.5984004867761263,0.7651356795648258,0.23347317317284177,0.8781334518492326,0.9255359518906756,0.05029070076949371,0.7679726357971449,0.034382593270424144,0.10474677472514238,0.5960081846380327,0.8781944575645191,0.8460677635797924,0.663031910094326,0.6431945514914079,0.05781904827643558,0.026075179552852434,0.6748158727681163,0.8176766820950822,0.7275777074542967,0.4370644588853483,0.8899330035297478,0.6636814412831845,0.04930755439622492,0.39543761933653687,0.4059634628249097,0.7092522005491678,0.9575505703580512,0.22422318643970318,0.38918279838526526,0.9312927357802647,0.7998449483268358,0.034839240290610474,0.8150062554428444,0.20218160054288614,0.2775156542982915,0.13614523713853732,0.7852948137902311,0.6389487430365167,0.6879947492387687,0.057741001209266174,0.9389594267594324,0.8840349540926837,0.607535860797791,0.42903937076610843,0.9392257331827042,0.8113597578537464,0.055159950718778994,0.9740082303900695,0.6045526655780177,0.7099045591866116,0.42843209426739004,0.24493222407071735,0.9134035217812333,0.8771525858554973,0.3027111860675219,0.4552200744657213,0.3537313766413003,0.4684251864513199,0.4715666277703051,0.7892944343951966,0.38168840974090545,0.809912782121264,0.32064171391951923,0.07791239676980843,0.8376963917153093,0.8168075342963187,0.8567733751216048,0.00976369685121592,0.1694945441814284,0.4495833318254179,0.6749276497575252,0.9063038648170022,0.45926011530225397,0.8994230383505314,0.17833115484886464,0.9938345616881894,0.016476523895530004,0.5571740970158847,0.9786598384882385,0.20259908296700935,0.3699105963059285,0.0013403744934005202,0.3586572644844819,0.20423033295329218,0.9324296213070646,0.6924609918516542,0.9426437299180822,0.17475498129467193,0.6365737064870617,0.4789273351002966,0.280979574133258,0.725206659048991,0.12179342411583849,0.6176619978854906,0.3893706393813703,0.8609583426700588,0.6249326230027313,0.5558698359040055,0.3689363768960059,0.9112359321874759,0.1181103360967628,0.7520367346749153,0.25173481139068443,0.7113731520084642,0.4833855897747795,0.45234864418309684,0.07184661535172576,0.647646955273128,0.2146877200576638,0.24147110867315313,0.8971789879967281,0.41504023046111915,0.19143050993627864,0.6957606783372118,0.7533533306857292,0.17506482227841547,0.5246549756944253,0.5363145645613424,0.37728856131163824,0.23102227246141127,0.4228908520339598,0.7549803371516597,0.603388936932501,0.5746658306156146,0.8451051576301085,0.43444156979279613,0.28545792889043653,0.6470659982941506,0.3885372972573463,0.8093092457884983,0.5612693800757292,0.8727873396876118,0.5228341544343228,0.7750010829832723,0.5579476670542088,0.46444959165328537,0.7193596306349374,0.15652979709190395,0.4692385240486969,0.33027072744580077,0.2543965000879188,0.09693434345689855,0.3503432901827973,0.9303462355057094,0.8390919584158387,0.18634709315467457,0.7429148443969288,0.3209751423750685,0.047192726942152485,0.2510934580531283,0.4574810915894314,0.35802222420377605,0.2421993080142386,0.5964161914467453,0.3983814822394983,0.378972169134698,0.5106380829965077,0.29164633084780744,0.6393155376849227,0.5801493834483331,0.6971895003249141,0.4255597523990272,0.24755956393214162,0.9024826645156634,0.3518934579750793,0.07186650364824998,0.7711674297139942,0.12289699196946235,0.04438635247070377,0.6796393957854073,0.4836660995078472,0.8573920538763091,0.6728322051762375,0.49179046407282634,0.6509662231371871,0.5453497014984713,0.9473619262213605,0.41666025125140393,0.6860477434705998,0.03383942744976731,0.23756503175121058,0.0029948093862748326,0.47062081662097666,0.08638885287423548,0.46221432373176086,0.6723345778108596,0.8832347427647242,0.6831224222820484,0.9262032759668022,0.8430774272580798,0.11972458787273976,0.038466809524619894,0.7658930049131565,0.3105084487942681,0.29322221742321364,0.8306009865094309,0.5348799325788595,0.6428207246413357,0.15146667852820805,0.1955755784713884,0.7159577464589186,0.21096713817755564,0.6785283773608595,0.001033018049806933,0.548103948007289,0.32334458813047806,0.026608578608872002,0.9020415781475918,0.5227448010696475,0.6982743544388744,0.44675617091479025,0.60934295588084,0.7406750757376289,0.12773346926111928,0.5035028038781004,0.5548447159737414,0.45615849241510975,0.6926077309933943,0.3397801724664603,0.64840003089699,0.3385451241736305,0.025508195133065903,0.69749352111413,0.09926014840077291,0.396579945508882,0.6967548798847544,0.1592636590596601,0.9685476389242043,0.4667461736599968,0.38066522717284146,0.10791119035768937,0.7082086424248432,0.9538315378029285,0.02477228974483847,0.20975356527006128,0.07342574463189466,0.6118088171689587,0.10906450612993457,0.5803349487413056,0.4407561075520843,0.10264160561010338,0.9191928560793947,0.21672230574560636,0.6516946313316628,0.7736660244537953,0.9758249156797977,0.6896982261107723,0.33567748552513366,0.704024380939992,0.020228216393820997,0.8880649538773379,0.6392556047614111,0.4931517325659819,0.1178005847655812,0.3463202530905676,0.11735213898795183],\"y\":[10.48051802365127,10.435502475544775,10.763858293012422,10.058477753961244,10.48842105892623,10.910469161098076,10.783013732584381,10.455407908788477,10.549923414220636,10.78163023229377,10.154224872993371,10.993498710403728,10.751378881358107,10.658558517558856,10.253076442469931,10.841454708314355,10.476173569004937,10.623035199227626,10.974581837019493,10.44261302534844,10.597438542853013,10.865014773354496,10.637166425954376,10.949070776263572,10.808812617997324,10.797559293739475,10.383093342605969,10.739174160734855,10.212336182097912,10.342437950367822,10.393431384968233,10.247333941783747,10.963969900767987,10.515657683585772,10.939082738090956,10.973628645960991,10.14256267576207,10.88038729598327,10.542245310409466,10.052740688916577,10.676803749376383,10.430395799702378,10.146633328315056,10.884979354791804,10.22969214680353,10.351848126233788,10.920538992705408,10.35474407516805,10.714586553563338,10.083979277054357,10.797571646209889,10.195463976666138,10.233765075955619,10.210802019883008,10.521347665755957,10.982880367320263,10.3389562668053,10.700458150953136,10.201345542075188,10.338454123401425,10.02692007984859,10.891622004589602,10.274545377696347,10.33864238557059,10.64668676537052,10.736788312495243,10.140921457309265,10.660132019553588,10.240819040900154,10.540361620099528,10.746602769293423,10.81570679553659,10.95097451500419,10.744131734261284,10.993788971264177,10.88070645356318,10.377614134311802,10.067502043434931,10.91371047822425,10.672145101532337,10.118144716448723,10.275780689640687,10.844048378389116,10.971516809611613,10.831206601522934,10.592700264176454,10.810675532558967,10.384698113015022,10.757409688362257,10.660516366224535,10.316109001659866,10.05370522340578,10.597143009498076,10.522735703191664,10.027982809720308,10.149658122743329,10.98144611610956,10.746536254334702,10.15753965249331,10.4485669770559,10.178173740162034,10.750884954121357,10.705679470707302,10.256291995290294,10.655959245009267,10.552259001322632,10.889553651220764,10.205692712521156,10.19166331322399,10.303485588180399,10.367872751405988,10.619987412224019,10.394378671603056,10.655789400739478,10.820932664412066,10.811330095561994,10.070266653922909,10.364315086567101,10.691095803335056,10.461091073650424,10.651779157564453,10.35773152893209,10.46872621160016,10.053073619905108,10.096663971107029,10.584302710193649,10.839738781838125,10.746243649890854,10.41095597475217,10.121728136182249,10.030998904924068,10.8629338244561,10.437691137337687,10.91295787118606,10.357430720105727,10.589059483316031,10.08802909334273,10.927953790733175,10.309145637961132,10.754113372148417,10.302567995516151,10.702391987024757,10.950744168280677,10.312819387575477,10.232758422897282,10.774975005815346,10.260833884679283,10.807998115517996,10.116151092355722,10.296526773568633,10.216874618861757,10.334296004135876,10.121537798505717,10.782471834193247,10.848920130836241,10.300808771555829,10.590978933542964,10.097386642382528,10.791748490260549,10.517740775080748,10.84793232029827,10.17362945955043,10.116238669415598,10.282134225488209,10.415545691115048,10.69506409522435,10.178541503411887,10.581651056881148,10.291856463707129,10.364839004080881,10.729955976493214,10.316729039304821,10.6055587214442,10.928042262132283,10.070163872655229,10.985859094489836,10.062515105358692,10.978467791186933,10.034959324677263,10.823836699010334,10.41648125234725,10.018039757156519,10.02409595195096,10.407587594928215,10.295696660580358,10.734756219365092,10.875243897414059,10.898136258454313,10.681299540066002,10.603732226171402,10.012338105591265,10.238051155926597,10.736670727904311,10.446764790184115,10.910636478513116,10.59612490545304,10.059322107883656,10.690450422505752,10.536404584129727,10.502180055802032,10.185767717005353,10.905750646947029,10.099361116497231,10.551032367874987,10.35229206550797,10.076529625011238,10.738582160330562,10.037396782830488,10.615795742580167,10.20895744081007,10.554273695219234,10.394498824525114,10.32981484243512,10.584127144289347,10.88821454689404,10.453394456930578,10.207392581863896,10.75693799654403,10.855020769237822,10.986103518750744,10.463042773996857,10.91691503745217,10.285433385833144,10.078375788149327,10.690753589770976,10.53636164557029,10.05648996043689,10.477800051409803,10.207495125088336,10.725262964785317,10.286132946827303,10.654665553839642,10.582742983957765,10.42548740941012,10.172205818889662,10.232147823257105,10.738620376499687,10.026883715752366,10.089428828902562,10.06277083255609,10.70098235694872,10.221920063546385,10.847016545920658,10.399403992346821,10.548409205866031,10.289218014873079,10.235009538101632,10.339927009437421,10.083337376205773,10.64345539714426,10.970136552251862,10.015669538892734,10.444246846189698,10.153525940746661,10.263949767716875,10.745290305760651,10.03156258894238,10.426672469533722,10.037215698038887,10.55614444560483,10.939958884238703,10.974101854418612,10.122124242777947,10.109569051593747,10.553908134036362,10.479052472402504,10.20877638714727,10.63434822245542,10.78105195258308,10.123454671129117,10.166309792106901,10.215337233526691,10.26959834084407,10.279850339294011,10.585761070931888,10.315342841535653,10.913416538367779,10.147997298217124,10.280644924379573,10.810673760141672,10.432951757655651,10.910802187018403,10.607533099131354,10.55170147309535,10.63732289996226,10.953467557317325,10.40954002032475,10.354223918591405,10.059421280554435,10.96021658762716,10.997755251951816,10.552551470845481,10.49271642888892,10.552018867595866,10.347950662970298,10.20938199623278,10.408393493961254,10.335921765597163,10.278286904913495,10.657606759485814],\"z\":[30.48051802365127,30.435502475544773,30.763858293012422,30.05847775396124,30.48842105892623,30.910469161098078,30.78301373258438,30.455407908788477,30.549923414220636,30.78163023229377,30.15422487299337,30.993498710403728,30.751378881358107,30.658558517558856,30.253076442469933,30.841454708314355,30.47617356900494,30.623035199227626,30.974581837019493,30.44261302534844,30.597438542853013,30.865014773354496,30.637166425954376,30.94907077626357,30.808812617997326,30.797559293739475,30.383093342605967,30.739174160734855,30.212336182097914,30.342437950367824,30.39343138496823,30.247333941783747,30.96396990076799,30.515657683585772,30.939082738090956,30.973628645960993,30.142562675762072,30.88038729598327,30.542245310409466,30.052740688916575,30.676803749376383,30.430395799702378,30.146633328315055,30.884979354791806,30.22969214680353,30.351848126233786,30.92053899270541,30.35474407516805,30.714586553563336,30.083979277054357,30.79757164620989,30.195463976666137,30.233765075955617,30.21080201988301,30.521347665755957,30.982880367320263,30.3389562668053,30.700458150953136,30.201345542075188,30.338454123401426,30.02692007984859,30.8916220045896,30.274545377696345,30.33864238557059,30.646686765370518,30.736788312495243,30.140921457309265,30.66013201955359,30.240819040900156,30.540361620099528,30.74660276929342,30.815706795536588,30.95097451500419,30.744131734261284,30.993788971264177,30.88070645356318,30.377614134311802,30.06750204343493,30.91371047822425,30.672145101532337,30.118144716448725,30.275780689640687,30.844048378389118,30.971516809611614,30.831206601522936,30.592700264176454,30.810675532558967,30.384698113015023,30.75740968836226,30.660516366224535,30.316109001659864,30.05370522340578,30.597143009498076,30.522735703191664,30.02798280972031,30.14965812274333,30.98144611610956,30.746536254334703,30.157539652493313,30.4485669770559,30.178173740162034,30.750884954121357,30.705679470707302,30.256291995290294,30.655959245009267,30.552259001322632,30.889553651220762,30.205692712521156,30.19166331322399,30.3034855881804,30.367872751405987,30.619987412224017,30.394378671603054,30.65578940073948,30.820932664412066,30.811330095561996,30.07026665392291,30.364315086567103,30.691095803335056,30.461091073650422,30.65177915756445,30.35773152893209,30.46872621160016,30.05307361990511,30.096663971107027,30.584302710193647,30.839738781838125,30.746243649890854,30.41095597475217,30.12172813618225,30.03099890492407,30.8629338244561,30.437691137337687,30.912957871186062,30.357430720105725,30.58905948331603,30.08802909334273,30.927953790733174,30.309145637961134,30.754113372148417,30.30256799551615,30.702391987024757,30.95074416828068,30.312819387575477,30.232758422897284,30.774975005815346,30.260833884679283,30.807998115517996,30.11615109235572,30.296526773568633,30.216874618861755,30.334296004135876,30.121537798505717,30.782471834193245,30.84892013083624,30.30080877155583,30.590978933542964,30.097386642382528,30.79174849026055,30.517740775080746,30.84793232029827,30.17362945955043,30.116238669415598,30.282134225488207,30.415545691115046,30.69506409522435,30.17854150341189,30.58165105688115,30.291856463707127,30.36483900408088,30.729955976493212,30.31672903930482,30.6055587214442,30.928042262132283,30.07016387265523,30.985859094489836,30.062515105358692,30.978467791186933,30.034959324677263,30.823836699010336,30.41648125234725,30.01803975715652,30.02409595195096,30.407587594928213,30.295696660580358,30.734756219365092,30.87524389741406,30.89813625845431,30.681299540066004,30.603732226171402,30.012338105591265,30.238051155926595,30.73667072790431,30.446764790184115,30.910636478513116,30.59612490545304,30.059322107883656,30.69045042250575,30.536404584129727,30.502180055802032,30.185767717005355,30.90575064694703,30.09936111649723,30.551032367874985,30.35229206550797,30.07652962501124,30.738582160330562,30.037396782830488,30.615795742580165,30.208957440810067,30.554273695219234,30.39449882452511,30.32981484243512,30.584127144289347,30.88821454689404,30.453394456930578,30.207392581863896,30.75693799654403,30.85502076923782,30.986103518750745,30.463042773996857,30.91691503745217,30.285433385833144,30.078375788149327,30.690753589770974,30.536361645570288,30.056489960436892,30.477800051409805,30.207495125088336,30.725262964785315,30.286132946827305,30.654665553839642,30.582742983957765,30.42548740941012,30.172205818889662,30.232147823257105,30.73862037649969,30.026883715752366,30.089428828902562,30.06277083255609,30.70098235694872,30.221920063546385,30.84701654592066,30.39940399234682,30.54840920586603,30.28921801487308,30.235009538101632,30.33992700943742,30.083337376205773,30.643455397144262,30.970136552251862,30.015669538892734,30.4442468461897,30.15352594074666,30.263949767716873,30.74529030576065,30.03156258894238,30.42667246953372,30.037215698038885,30.55614444560483,30.939958884238703,30.97410185441861,30.122124242777947,30.10956905159375,30.553908134036362,30.479052472402504,30.20877638714727,30.63434822245542,30.78105195258308,30.123454671129117,30.1663097921069,30.21533723352669,30.26959834084407,30.27985033929401,30.585761070931888,30.315342841535653,30.913416538367777,30.147997298217124,30.280644924379573,30.810673760141672,30.43295175765565,30.910802187018405,30.607533099131356,30.55170147309535,30.63732289996226,30.953467557317325,30.409540020324748,30.354223918591405,30.059421280554435,30.960216587627162,30.997755251951816,30.55255147084548,30.49271642888892,30.552018867595866,30.347950662970298,30.209381996232782,30.408393493961253,30.335921765597163,30.278286904913497,30.657606759485816],\"type\":\"scatter3d\"}],                        {\"legend\":{\"bgcolor\":\"#151516\",\"font\":{\"color\":\"#D9D9D9\"}},\"paper_bgcolor\":\"#151516\",\"plot_bgcolor\":\"#151516\",\"scene\":{\"xaxis\":{\"gridcolor\":\"#434343\",\"showgrid\":true,\"tickfont\":{\"color\":\"#C2C2C2\"},\"title\":{\"font\":{\"color\":\"#D9D9D9\"},\"text\":\"\"},\"zerolinecolor\":\"#666570\"},\"yaxis\":{\"gridcolor\":\"#434343\",\"showgrid\":true,\"tickfont\":{\"color\":\"#C2C2C2\"},\"title\":{\"font\":{\"color\":\"#D9D9D9\"},\"text\":\"\"},\"zerolinecolor\":\"#666570\"},\"zaxis\":{\"gridcolor\":\"#434343\",\"showgrid\":true,\"tickfont\":{\"color\":\"#C2C2C2\"},\"title\":{\"font\":{\"color\":\"#D9D9D9\"},\"text\":\"\"},\"zerolinecolor\":\"#666570\"}},\"template\":{\"data\":{\"barpolar\":[{\"marker\":{\"line\":{\"color\":\"#E5ECF6\",\"width\":0.5},\"pattern\":{\"fillmode\":\"overlay\",\"size\":10,\"solidity\":0.2}},\"type\":\"barpolar\"}],\"bar\":[{\"error_x\":{\"color\":\"#2a3f5f\"},\"error_y\":{\"color\":\"#2a3f5f\"},\"marker\":{\"line\":{\"color\":\"#E5ECF6\",\"width\":0.5},\"pattern\":{\"fillmode\":\"overlay\",\"size\":10,\"solidity\":0.2}},\"type\":\"bar\"}],\"carpet\":[{\"aaxis\":{\"endlinecolor\":\"#2a3f5f\",\"gridcolor\":\"white\",\"linecolor\":\"white\",\"minorgridcolor\":\"white\",\"startlinecolor\":\"#2a3f5f\"},\"baxis\":{\"endlinecolor\":\"#2a3f5f\",\"gridcolor\":\"white\",\"linecolor\":\"white\",\"minorgridcolor\":\"white\",\"startlinecolor\":\"#2a3f5f\"},\"type\":\"carpet\"}],\"choropleth\":[{\"colorbar\":{\"outlinewidth\":0,\"ticks\":\"\"},\"type\":\"choropleth\"}],\"contourcarpet\":[{\"colorbar\":{\"outlinewidth\":0,\"ticks\":\"\"},\"type\":\"contourcarpet\"}],\"contour\":[{\"colorbar\":{\"outlinewidth\":0,\"ticks\":\"\"},\"colorscale\":[[0.0,\"#0d0887\"],[0.1111111111111111,\"#46039f\"],[0.2222222222222222,\"#7201a8\"],[0.3333333333333333,\"#9c179e\"],[0.4444444444444444,\"#bd3786\"],[0.5555555555555556,\"#d8576b\"],[0.6666666666666666,\"#ed7953\"],[0.7777777777777778,\"#fb9f3a\"],[0.8888888888888888,\"#fdca26\"],[1.0,\"#f0f921\"]],\"type\":\"contour\"}],\"heatmapgl\":[{\"colorbar\":{\"outlinewidth\":0,\"ticks\":\"\"},\"colorscale\":[[0.0,\"#0d0887\"],[0.1111111111111111,\"#46039f\"],[0.2222222222222222,\"#7201a8\"],[0.3333333333333333,\"#9c179e\"],[0.4444444444444444,\"#bd3786\"],[0.5555555555555556,\"#d8576b\"],[0.6666666666666666,\"#ed7953\"],[0.7777777777777778,\"#fb9f3a\"],[0.8888888888888888,\"#fdca26\"],[1.0,\"#f0f921\"]],\"type\":\"heatmapgl\"}],\"heatmap\":[{\"colorbar\":{\"outlinewidth\":0,\"ticks\":\"\"},\"colorscale\":[[0.0,\"#0d0887\"],[0.1111111111111111,\"#46039f\"],[0.2222222222222222,\"#7201a8\"],[0.3333333333333333,\"#9c179e\"],[0.4444444444444444,\"#bd3786\"],[0.5555555555555556,\"#d8576b\"],[0.6666666666666666,\"#ed7953\"],[0.7777777777777778,\"#fb9f3a\"],[0.8888888888888888,\"#fdca26\"],[1.0,\"#f0f921\"]],\"type\":\"heatmap\"}],\"histogram2dcontour\":[{\"colorbar\":{\"outlinewidth\":0,\"ticks\":\"\"},\"colorscale\":[[0.0,\"#0d0887\"],[0.1111111111111111,\"#46039f\"],[0.2222222222222222,\"#7201a8\"],[0.3333333333333333,\"#9c179e\"],[0.4444444444444444,\"#bd3786\"],[0.5555555555555556,\"#d8576b\"],[0.6666666666666666,\"#ed7953\"],[0.7777777777777778,\"#fb9f3a\"],[0.8888888888888888,\"#fdca26\"],[1.0,\"#f0f921\"]],\"type\":\"histogram2dcontour\"}],\"histogram2d\":[{\"colorbar\":{\"outlinewidth\":0,\"ticks\":\"\"},\"colorscale\":[[0.0,\"#0d0887\"],[0.1111111111111111,\"#46039f\"],[0.2222222222222222,\"#7201a8\"],[0.3333333333333333,\"#9c179e\"],[0.4444444444444444,\"#bd3786\"],[0.5555555555555556,\"#d8576b\"],[0.6666666666666666,\"#ed7953\"],[0.7777777777777778,\"#fb9f3a\"],[0.8888888888888888,\"#fdca26\"],[1.0,\"#f0f921\"]],\"type\":\"histogram2d\"}],\"histogram\":[{\"marker\":{\"pattern\":{\"fillmode\":\"overlay\",\"size\":10,\"solidity\":0.2}},\"type\":\"histogram\"}],\"mesh3d\":[{\"colorbar\":{\"outlinewidth\":0,\"ticks\":\"\"},\"type\":\"mesh3d\"}],\"parcoords\":[{\"line\":{\"colorbar\":{\"outlinewidth\":0,\"ticks\":\"\"}},\"type\":\"parcoords\"}],\"pie\":[{\"automargin\":true,\"type\":\"pie\"}],\"scatter3d\":[{\"line\":{\"colorbar\":{\"outlinewidth\":0,\"ticks\":\"\"}},\"marker\":{\"colorbar\":{\"outlinewidth\":0,\"ticks\":\"\"}},\"type\":\"scatter3d\"}],\"scattercarpet\":[{\"marker\":{\"colorbar\":{\"outlinewidth\":0,\"ticks\":\"\"}},\"type\":\"scattercarpet\"}],\"scattergeo\":[{\"marker\":{\"colorbar\":{\"outlinewidth\":0,\"ticks\":\"\"}},\"type\":\"scattergeo\"}],\"scattergl\":[{\"marker\":{\"colorbar\":{\"outlinewidth\":0,\"ticks\":\"\"}},\"type\":\"scattergl\"}],\"scattermapbox\":[{\"marker\":{\"colorbar\":{\"outlinewidth\":0,\"ticks\":\"\"}},\"type\":\"scattermapbox\"}],\"scatterpolargl\":[{\"marker\":{\"colorbar\":{\"outlinewidth\":0,\"ticks\":\"\"}},\"type\":\"scatterpolargl\"}],\"scatterpolar\":[{\"marker\":{\"colorbar\":{\"outlinewidth\":0,\"ticks\":\"\"}},\"type\":\"scatterpolar\"}],\"scatter\":[{\"marker\":{\"colorbar\":{\"outlinewidth\":0,\"ticks\":\"\"}},\"type\":\"scatter\"}],\"scatterternary\":[{\"marker\":{\"colorbar\":{\"outlinewidth\":0,\"ticks\":\"\"}},\"type\":\"scatterternary\"}],\"surface\":[{\"colorbar\":{\"outlinewidth\":0,\"ticks\":\"\"},\"colorscale\":[[0.0,\"#0d0887\"],[0.1111111111111111,\"#46039f\"],[0.2222222222222222,\"#7201a8\"],[0.3333333333333333,\"#9c179e\"],[0.4444444444444444,\"#bd3786\"],[0.5555555555555556,\"#d8576b\"],[0.6666666666666666,\"#ed7953\"],[0.7777777777777778,\"#fb9f3a\"],[0.8888888888888888,\"#fdca26\"],[1.0,\"#f0f921\"]],\"type\":\"surface\"}],\"table\":[{\"cells\":{\"fill\":{\"color\":\"#EBF0F8\"},\"line\":{\"color\":\"white\"}},\"header\":{\"fill\":{\"color\":\"#C8D4E3\"},\"line\":{\"color\":\"white\"}},\"type\":\"table\"}]},\"layout\":{\"annotationdefaults\":{\"arrowcolor\":\"#2a3f5f\",\"arrowhead\":0,\"arrowwidth\":1},\"autotypenumbers\":\"strict\",\"coloraxis\":{\"colorbar\":{\"outlinewidth\":0,\"ticks\":\"\"}},\"colorscale\":{\"diverging\":[[0,\"#8e0152\"],[0.1,\"#c51b7d\"],[0.2,\"#de77ae\"],[0.3,\"#f1b6da\"],[0.4,\"#fde0ef\"],[0.5,\"#f7f7f7\"],[0.6,\"#e6f5d0\"],[0.7,\"#b8e186\"],[0.8,\"#7fbc41\"],[0.9,\"#4d9221\"],[1,\"#276419\"]],\"sequential\":[[0.0,\"#0d0887\"],[0.1111111111111111,\"#46039f\"],[0.2222222222222222,\"#7201a8\"],[0.3333333333333333,\"#9c179e\"],[0.4444444444444444,\"#bd3786\"],[0.5555555555555556,\"#d8576b\"],[0.6666666666666666,\"#ed7953\"],[0.7777777777777778,\"#fb9f3a\"],[0.8888888888888888,\"#fdca26\"],[1.0,\"#f0f921\"]],\"sequentialminus\":[[0.0,\"#0d0887\"],[0.1111111111111111,\"#46039f\"],[0.2222222222222222,\"#7201a8\"],[0.3333333333333333,\"#9c179e\"],[0.4444444444444444,\"#bd3786\"],[0.5555555555555556,\"#d8576b\"],[0.6666666666666666,\"#ed7953\"],[0.7777777777777778,\"#fb9f3a\"],[0.8888888888888888,\"#fdca26\"],[1.0,\"#f0f921\"]]},\"colorway\":[\"#636efa\",\"#EF553B\",\"#00cc96\",\"#ab63fa\",\"#FFA15A\",\"#19d3f3\",\"#FF6692\",\"#B6E880\",\"#FF97FF\",\"#FECB52\"],\"font\":{\"color\":\"#2a3f5f\"},\"geo\":{\"bgcolor\":\"white\",\"lakecolor\":\"white\",\"landcolor\":\"#E5ECF6\",\"showlakes\":true,\"showland\":true,\"subunitcolor\":\"white\"},\"hoverlabel\":{\"align\":\"left\"},\"hovermode\":\"closest\",\"mapbox\":{\"style\":\"light\"},\"paper_bgcolor\":\"white\",\"plot_bgcolor\":\"#E5ECF6\",\"polar\":{\"angularaxis\":{\"gridcolor\":\"white\",\"linecolor\":\"white\",\"ticks\":\"\"},\"bgcolor\":\"#E5ECF6\",\"radialaxis\":{\"gridcolor\":\"white\",\"linecolor\":\"white\",\"ticks\":\"\"}},\"scene\":{\"xaxis\":{\"backgroundcolor\":\"#E5ECF6\",\"gridcolor\":\"white\",\"gridwidth\":2,\"linecolor\":\"white\",\"showbackground\":true,\"ticks\":\"\",\"zerolinecolor\":\"white\"},\"yaxis\":{\"backgroundcolor\":\"#E5ECF6\",\"gridcolor\":\"white\",\"gridwidth\":2,\"linecolor\":\"white\",\"showbackground\":true,\"ticks\":\"\",\"zerolinecolor\":\"white\"},\"zaxis\":{\"backgroundcolor\":\"#E5ECF6\",\"gridcolor\":\"white\",\"gridwidth\":2,\"linecolor\":\"white\",\"showbackground\":true,\"ticks\":\"\",\"zerolinecolor\":\"white\"}},\"shapedefaults\":{\"line\":{\"color\":\"#2a3f5f\"}},\"ternary\":{\"aaxis\":{\"gridcolor\":\"white\",\"linecolor\":\"white\",\"ticks\":\"\"},\"baxis\":{\"gridcolor\":\"white\",\"linecolor\":\"white\",\"ticks\":\"\"},\"bgcolor\":\"#E5ECF6\",\"caxis\":{\"gridcolor\":\"white\",\"linecolor\":\"white\",\"ticks\":\"\"}},\"title\":{\"x\":0.05},\"xaxis\":{\"automargin\":true,\"gridcolor\":\"white\",\"linecolor\":\"white\",\"ticks\":\"\",\"title\":{\"standoff\":15},\"zerolinecolor\":\"white\",\"zerolinewidth\":2},\"yaxis\":{\"automargin\":true,\"gridcolor\":\"white\",\"linecolor\":\"white\",\"ticks\":\"\",\"title\":{\"standoff\":15},\"zerolinecolor\":\"white\",\"zerolinewidth\":2}}},\"title\":{\"font\":{\"color\":\"#D9D9D9\"}}},                        {\"showLink\": true, \"linkText\": \"Export to plot.ly\", \"plotlyServerURL\": \"https://plot.ly\", \"responsive\": true}                    ).then(function(){\n",
       "                            \n",
       "var gd = document.getElementById('e64f5ffc-04fa-4842-aca3-640408c26747');\n",
       "var x = new MutationObserver(function (mutations, observer) {{\n",
       "        var display = window.getComputedStyle(gd).display;\n",
       "        if (!display || display === 'none') {{\n",
       "            console.log([gd, 'removed!']);\n",
       "            Plotly.purge(gd);\n",
       "            observer.disconnect();\n",
       "        }}\n",
       "}});\n",
       "\n",
       "// Listen for the removal of the full notebook cells\n",
       "var notebookContainer = gd.closest('#notebook-container');\n",
       "if (notebookContainer) {{\n",
       "    x.observe(notebookContainer, {childList: true});\n",
       "}}\n",
       "\n",
       "// Listen for the clearing of the current output cell\n",
       "var outputEl = gd.closest('.output');\n",
       "if (outputEl) {{\n",
       "    x.observe(outputEl, {childList: true});\n",
       "}}\n",
       "\n",
       "                        })                };                });            </script>        </div>"
      ]
     },
     "metadata": {},
     "output_type": "display_data"
    }
   ],
   "source": [
    "de3.iplot(x = 'b' , y = 'a1' , z = 'b1' , kind = 'scatter3d')"
   ]
  },
  {
   "cell_type": "code",
   "execution_count": null,
   "id": "739fb1a4",
   "metadata": {},
   "outputs": [],
   "source": []
  },
  {
   "cell_type": "code",
   "execution_count": 18,
   "id": "bf5cb256",
   "metadata": {},
   "outputs": [],
   "source": [
    "de4=pd.read_csv('https://gist.githubusercontent.com/curran/a08a1080b88344b0c8a7/raw/0e7a9b0a5d22642a06d3d5b9bcbad9890c8ee534/iris.csv')"
   ]
  },
  {
   "cell_type": "code",
   "execution_count": 19,
   "id": "7194cb36",
   "metadata": {},
   "outputs": [
    {
     "data": {
      "text/html": [
       "<div>\n",
       "<style scoped>\n",
       "    .dataframe tbody tr th:only-of-type {\n",
       "        vertical-align: middle;\n",
       "    }\n",
       "\n",
       "    .dataframe tbody tr th {\n",
       "        vertical-align: top;\n",
       "    }\n",
       "\n",
       "    .dataframe thead th {\n",
       "        text-align: right;\n",
       "    }\n",
       "</style>\n",
       "<table border=\"1\" class=\"dataframe\">\n",
       "  <thead>\n",
       "    <tr style=\"text-align: right;\">\n",
       "      <th></th>\n",
       "      <th>sepal_length</th>\n",
       "      <th>sepal_width</th>\n",
       "      <th>petal_length</th>\n",
       "      <th>petal_width</th>\n",
       "      <th>species</th>\n",
       "    </tr>\n",
       "  </thead>\n",
       "  <tbody>\n",
       "    <tr>\n",
       "      <th>0</th>\n",
       "      <td>5.1</td>\n",
       "      <td>3.5</td>\n",
       "      <td>1.4</td>\n",
       "      <td>0.2</td>\n",
       "      <td>setosa</td>\n",
       "    </tr>\n",
       "    <tr>\n",
       "      <th>1</th>\n",
       "      <td>4.9</td>\n",
       "      <td>3.0</td>\n",
       "      <td>1.4</td>\n",
       "      <td>0.2</td>\n",
       "      <td>setosa</td>\n",
       "    </tr>\n",
       "  </tbody>\n",
       "</table>\n",
       "</div>"
      ],
      "text/plain": [
       "   sepal_length  sepal_width  petal_length  petal_width species\n",
       "0           5.1          3.5           1.4          0.2  setosa\n",
       "1           4.9          3.0           1.4          0.2  setosa"
      ]
     },
     "execution_count": 19,
     "metadata": {},
     "output_type": "execute_result"
    }
   ],
   "source": [
    "de4.head(2)"
   ]
  },
  {
   "cell_type": "code",
   "execution_count": 20,
   "id": "4c1a8c9e",
   "metadata": {},
   "outputs": [
    {
     "data": {
      "application/vnd.plotly.v1+json": {
       "config": {
        "linkText": "Export to plot.ly",
        "plotlyServerURL": "https://plot.ly",
        "showLink": true
       },
       "data": [
        {
         "marker": {
          "color": [
           "rgba(255, 153, 51, 1.0)",
           "rgba(55, 128, 191, 1.0)",
           "rgba(50, 171, 96, 1.0)",
           "rgba(128, 0, 128, 1.0)",
           "rgba(219, 64, 82, 1.0)",
           "rgba(0, 128, 128, 1.0)",
           "rgba(255, 255, 51, 1.0)",
           "rgba(128, 128, 0, 1.0)",
           "rgba(251, 128, 114, 1.0)",
           "rgba(128, 177, 211, 1.0)",
           "rgba(128, 177, 211, 0.9466666666666665)",
           "rgba(255, 153, 51, 0.9466666666666665)",
           "rgba(55, 128, 191, 0.9466666666666665)",
           "rgba(50, 171, 96, 0.9466666666666665)",
           "rgba(128, 0, 128, 0.9466666666666665)",
           "rgba(219, 64, 82, 0.9466666666666665)",
           "rgba(0, 128, 128, 0.9466666666666665)",
           "rgba(255, 255, 51, 0.9466666666666665)",
           "rgba(128, 128, 0, 0.9466666666666665)",
           "rgba(251, 128, 114, 0.9466666666666665)",
           "rgba(251, 128, 114, 0.8933333333333333)",
           "rgba(128, 177, 211, 0.8933333333333333)",
           "rgba(255, 153, 51, 0.8933333333333333)",
           "rgba(55, 128, 191, 0.8933333333333333)",
           "rgba(50, 171, 96, 0.8933333333333333)",
           "rgba(128, 0, 128, 0.8933333333333333)",
           "rgba(219, 64, 82, 0.8933333333333333)",
           "rgba(0, 128, 128, 0.8933333333333333)",
           "rgba(255, 255, 51, 0.8933333333333333)",
           "rgba(128, 128, 0, 0.8933333333333333)",
           "rgba(128, 128, 0, 0.8399999999999999)",
           "rgba(251, 128, 114, 0.8399999999999999)",
           "rgba(128, 177, 211, 0.8399999999999999)",
           "rgba(255, 153, 51, 0.8399999999999999)",
           "rgba(55, 128, 191, 0.8399999999999999)",
           "rgba(50, 171, 96, 0.8399999999999999)",
           "rgba(128, 0, 128, 0.8399999999999999)",
           "rgba(219, 64, 82, 0.8399999999999999)",
           "rgba(0, 128, 128, 0.8399999999999999)",
           "rgba(255, 255, 51, 0.8399999999999999)",
           "rgba(255, 255, 51, 0.7866666666666666)",
           "rgba(128, 128, 0, 0.7866666666666666)",
           "rgba(251, 128, 114, 0.7866666666666666)",
           "rgba(128, 177, 211, 0.7866666666666666)",
           "rgba(255, 153, 51, 0.7866666666666666)",
           "rgba(55, 128, 191, 0.7866666666666666)",
           "rgba(50, 171, 96, 0.7866666666666666)",
           "rgba(128, 0, 128, 0.7866666666666666)",
           "rgba(219, 64, 82, 0.7866666666666666)",
           "rgba(0, 128, 128, 0.7866666666666666)",
           "rgba(0, 128, 128, 0.7333333333333332)",
           "rgba(255, 255, 51, 0.7333333333333332)",
           "rgba(128, 128, 0, 0.7333333333333332)",
           "rgba(251, 128, 114, 0.7333333333333332)",
           "rgba(128, 177, 211, 0.7333333333333332)",
           "rgba(255, 153, 51, 0.7333333333333332)",
           "rgba(55, 128, 191, 0.7333333333333332)",
           "rgba(50, 171, 96, 0.7333333333333332)",
           "rgba(128, 0, 128, 0.7333333333333332)",
           "rgba(219, 64, 82, 0.7333333333333332)",
           "rgba(219, 64, 82, 0.6799999999999999)",
           "rgba(0, 128, 128, 0.6799999999999999)",
           "rgba(255, 255, 51, 0.6799999999999999)",
           "rgba(128, 128, 0, 0.6799999999999999)",
           "rgba(251, 128, 114, 0.6799999999999999)",
           "rgba(128, 177, 211, 0.6799999999999999)",
           "rgba(255, 153, 51, 0.6799999999999999)",
           "rgba(55, 128, 191, 0.6799999999999999)",
           "rgba(50, 171, 96, 0.6799999999999999)",
           "rgba(128, 0, 128, 0.6799999999999999)",
           "rgba(128, 0, 128, 0.6266666666666665)",
           "rgba(219, 64, 82, 0.6266666666666665)",
           "rgba(0, 128, 128, 0.6266666666666665)",
           "rgba(255, 255, 51, 0.6266666666666665)",
           "rgba(128, 128, 0, 0.6266666666666665)",
           "rgba(251, 128, 114, 0.6266666666666665)",
           "rgba(128, 177, 211, 0.6266666666666665)",
           "rgba(255, 153, 51, 0.6266666666666665)",
           "rgba(55, 128, 191, 0.6266666666666665)",
           "rgba(50, 171, 96, 0.6266666666666665)",
           "rgba(50, 171, 96, 0.5733333333333333)",
           "rgba(128, 0, 128, 0.5733333333333333)",
           "rgba(219, 64, 82, 0.5733333333333333)",
           "rgba(0, 128, 128, 0.5733333333333333)",
           "rgba(255, 255, 51, 0.5733333333333333)",
           "rgba(128, 128, 0, 0.5733333333333333)",
           "rgba(251, 128, 114, 0.5733333333333333)",
           "rgba(128, 177, 211, 0.5733333333333333)",
           "rgba(255, 153, 51, 0.5733333333333333)",
           "rgba(55, 128, 191, 0.5733333333333333)",
           "rgba(55, 128, 191, 0.5199999999999998)",
           "rgba(50, 171, 96, 0.5199999999999998)",
           "rgba(128, 0, 128, 0.5199999999999998)",
           "rgba(219, 64, 82, 0.5199999999999998)",
           "rgba(0, 128, 128, 0.5199999999999998)",
           "rgba(255, 255, 51, 0.5199999999999998)",
           "rgba(128, 128, 0, 0.5199999999999998)",
           "rgba(251, 128, 114, 0.5199999999999998)",
           "rgba(128, 177, 211, 0.5199999999999998)",
           "rgba(255, 153, 51, 0.5199999999999998)",
           "rgba(255, 153, 51, 0.4666666666666666)",
           "rgba(55, 128, 191, 0.4666666666666666)",
           "rgba(50, 171, 96, 0.4666666666666666)",
           "rgba(128, 0, 128, 0.4666666666666666)",
           "rgba(219, 64, 82, 0.4666666666666666)",
           "rgba(0, 128, 128, 0.4666666666666666)",
           "rgba(255, 255, 51, 0.4666666666666666)",
           "rgba(128, 128, 0, 0.4666666666666666)",
           "rgba(251, 128, 114, 0.4666666666666666)",
           "rgba(128, 177, 211, 0.4666666666666666)",
           "rgba(128, 177, 211, 0.41333333333333316)",
           "rgba(255, 153, 51, 0.41333333333333316)",
           "rgba(55, 128, 191, 0.41333333333333316)",
           "rgba(50, 171, 96, 0.41333333333333316)",
           "rgba(128, 0, 128, 0.41333333333333316)",
           "rgba(219, 64, 82, 0.41333333333333316)",
           "rgba(0, 128, 128, 0.41333333333333316)",
           "rgba(255, 255, 51, 0.41333333333333316)",
           "rgba(128, 128, 0, 0.41333333333333316)",
           "rgba(251, 128, 114, 0.41333333333333316)",
           "rgba(251, 128, 114, 0.35999999999999993)",
           "rgba(128, 177, 211, 0.35999999999999993)",
           "rgba(255, 153, 51, 0.35999999999999993)",
           "rgba(55, 128, 191, 0.35999999999999993)",
           "rgba(50, 171, 96, 0.35999999999999993)",
           "rgba(128, 0, 128, 0.35999999999999993)",
           "rgba(219, 64, 82, 0.35999999999999993)",
           "rgba(0, 128, 128, 0.35999999999999993)",
           "rgba(255, 255, 51, 0.35999999999999993)",
           "rgba(128, 128, 0, 0.35999999999999993)",
           "rgba(128, 128, 0, 0.3066666666666665)",
           "rgba(251, 128, 114, 0.3066666666666665)",
           "rgba(128, 177, 211, 0.3066666666666665)",
           "rgba(255, 153, 51, 0.3066666666666665)",
           "rgba(55, 128, 191, 0.3066666666666665)",
           "rgba(50, 171, 96, 0.3066666666666665)",
           "rgba(128, 0, 128, 0.3066666666666665)",
           "rgba(219, 64, 82, 0.3066666666666665)",
           "rgba(0, 128, 128, 0.3066666666666665)",
           "rgba(255, 255, 51, 0.3066666666666665)",
           "rgba(255, 255, 51, 0.25333333333333324)",
           "rgba(128, 128, 0, 0.25333333333333324)",
           "rgba(251, 128, 114, 0.25333333333333324)",
           "rgba(128, 177, 211, 0.25333333333333324)",
           "rgba(255, 153, 51, 0.25333333333333324)",
           "rgba(55, 128, 191, 0.25333333333333324)",
           "rgba(50, 171, 96, 0.25333333333333324)",
           "rgba(128, 0, 128, 0.25333333333333324)",
           "rgba(219, 64, 82, 0.25333333333333324)",
           "rgba(0, 128, 128, 0.25333333333333324)"
          ],
          "opacity": 0.8,
          "size": [
           12,
           12,
           12,
           12,
           12,
           12,
           12,
           12,
           12,
           12,
           12,
           12,
           12,
           12,
           12,
           12,
           12,
           12,
           12,
           12,
           12,
           12,
           12,
           12,
           12,
           12,
           12,
           12,
           12,
           12,
           12,
           12,
           12,
           12,
           12,
           12,
           12,
           12,
           12,
           12,
           12,
           12,
           12,
           12,
           12,
           12,
           12,
           12,
           12,
           12,
           12,
           12,
           12,
           12,
           12,
           12,
           12,
           12,
           12,
           12,
           12,
           12,
           12,
           12,
           12,
           12,
           12,
           12,
           12,
           12,
           12,
           12,
           12,
           12,
           12,
           12,
           12,
           12,
           12,
           12,
           12,
           12,
           12,
           12,
           12,
           12,
           12,
           12,
           12,
           12,
           12,
           12,
           12,
           12,
           12,
           12,
           12,
           12,
           12,
           12,
           12,
           12,
           12,
           12,
           12,
           12,
           12,
           12,
           12,
           12,
           12,
           12,
           12,
           12,
           12,
           12,
           12,
           12,
           12,
           12,
           12,
           12,
           12,
           12,
           12,
           12,
           12,
           12,
           12,
           12,
           12,
           12,
           12,
           12,
           12,
           12,
           12,
           12,
           12,
           12,
           12,
           12,
           12,
           12,
           12,
           12,
           12,
           12,
           12,
           12
          ],
          "symbol": "circle"
         },
         "mode": "markers",
         "text": [
          "0",
          "1",
          "2",
          "3",
          "4",
          "5",
          "6",
          "7",
          "8",
          "9",
          "10",
          "11",
          "12",
          "13",
          "14",
          "15",
          "16",
          "17",
          "18",
          "19",
          "20",
          "21",
          "22",
          "23",
          "24",
          "25",
          "26",
          "27",
          "28",
          "29",
          "30",
          "31",
          "32",
          "33",
          "34",
          "35",
          "36",
          "37",
          "38",
          "39",
          "40",
          "41",
          "42",
          "43",
          "44",
          "45",
          "46",
          "47",
          "48",
          "49",
          "50",
          "51",
          "52",
          "53",
          "54",
          "55",
          "56",
          "57",
          "58",
          "59",
          "60",
          "61",
          "62",
          "63",
          "64",
          "65",
          "66",
          "67",
          "68",
          "69",
          "70",
          "71",
          "72",
          "73",
          "74",
          "75",
          "76",
          "77",
          "78",
          "79",
          "80",
          "81",
          "82",
          "83",
          "84",
          "85",
          "86",
          "87",
          "88",
          "89",
          "90",
          "91",
          "92",
          "93",
          "94",
          "95",
          "96",
          "97",
          "98",
          "99",
          "100",
          "101",
          "102",
          "103",
          "104",
          "105",
          "106",
          "107",
          "108",
          "109",
          "110",
          "111",
          "112",
          "113",
          "114",
          "115",
          "116",
          "117",
          "118",
          "119",
          "120",
          "121",
          "122",
          "123",
          "124",
          "125",
          "126",
          "127",
          "128",
          "129",
          "130",
          "131",
          "132",
          "133",
          "134",
          "135",
          "136",
          "137",
          "138",
          "139",
          "140",
          "141",
          "142",
          "143",
          "144",
          "145",
          "146",
          "147",
          "148",
          "149"
         ],
         "type": "scatter3d",
         "x": [
          5.1,
          4.9,
          4.7,
          4.6,
          5,
          5.4,
          4.6,
          5,
          4.4,
          4.9,
          5.4,
          4.8,
          4.8,
          4.3,
          5.8,
          5.7,
          5.4,
          5.1,
          5.7,
          5.1,
          5.4,
          5.1,
          4.6,
          5.1,
          4.8,
          5,
          5,
          5.2,
          5.2,
          4.7,
          4.8,
          5.4,
          5.2,
          5.5,
          4.9,
          5,
          5.5,
          4.9,
          4.4,
          5.1,
          5,
          4.5,
          4.4,
          5,
          5.1,
          4.8,
          5.1,
          4.6,
          5.3,
          5,
          7,
          6.4,
          6.9,
          5.5,
          6.5,
          5.7,
          6.3,
          4.9,
          6.6,
          5.2,
          5,
          5.9,
          6,
          6.1,
          5.6,
          6.7,
          5.6,
          5.8,
          6.2,
          5.6,
          5.9,
          6.1,
          6.3,
          6.1,
          6.4,
          6.6,
          6.8,
          6.7,
          6,
          5.7,
          5.5,
          5.5,
          5.8,
          6,
          5.4,
          6,
          6.7,
          6.3,
          5.6,
          5.5,
          5.5,
          6.1,
          5.8,
          5,
          5.6,
          5.7,
          5.7,
          6.2,
          5.1,
          5.7,
          6.3,
          5.8,
          7.1,
          6.3,
          6.5,
          7.6,
          4.9,
          7.3,
          6.7,
          7.2,
          6.5,
          6.4,
          6.8,
          5.7,
          5.8,
          6.4,
          6.5,
          7.7,
          7.7,
          6,
          6.9,
          5.6,
          7.7,
          6.3,
          6.7,
          7.2,
          6.2,
          6.1,
          6.4,
          7.2,
          7.4,
          7.9,
          6.4,
          6.3,
          6.1,
          7.7,
          6.3,
          6.4,
          6,
          6.9,
          6.7,
          6.9,
          5.8,
          6.8,
          6.7,
          6.7,
          6.3,
          6.5,
          6.2,
          5.9
         ],
         "y": [
          3.5,
          3,
          3.2,
          3.1,
          3.6,
          3.9,
          3.4,
          3.4,
          2.9,
          3.1,
          3.7,
          3.4,
          3,
          3,
          4,
          4.4,
          3.9,
          3.5,
          3.8,
          3.8,
          3.4,
          3.7,
          3.6,
          3.3,
          3.4,
          3,
          3.4,
          3.5,
          3.4,
          3.2,
          3.1,
          3.4,
          4.1,
          4.2,
          3.1,
          3.2,
          3.5,
          3.1,
          3,
          3.4,
          3.5,
          2.3,
          3.2,
          3.5,
          3.8,
          3,
          3.8,
          3.2,
          3.7,
          3.3,
          3.2,
          3.2,
          3.1,
          2.3,
          2.8,
          2.8,
          3.3,
          2.4,
          2.9,
          2.7,
          2,
          3,
          2.2,
          2.9,
          2.9,
          3.1,
          3,
          2.7,
          2.2,
          2.5,
          3.2,
          2.8,
          2.5,
          2.8,
          2.9,
          3,
          2.8,
          3,
          2.9,
          2.6,
          2.4,
          2.4,
          2.7,
          2.7,
          3,
          3.4,
          3.1,
          2.3,
          3,
          2.5,
          2.6,
          3,
          2.6,
          2.3,
          2.7,
          3,
          2.9,
          2.9,
          2.5,
          2.8,
          3.3,
          2.7,
          3,
          2.9,
          3,
          3,
          2.5,
          2.9,
          2.5,
          3.6,
          3.2,
          2.7,
          3,
          2.5,
          2.8,
          3.2,
          3,
          3.8,
          2.6,
          2.2,
          3.2,
          2.8,
          2.8,
          2.7,
          3.3,
          3.2,
          2.8,
          3,
          2.8,
          3,
          2.8,
          3.8,
          2.8,
          2.8,
          2.6,
          3,
          3.4,
          3.1,
          3,
          3.1,
          3.1,
          3.1,
          2.7,
          3.2,
          3.3,
          3,
          2.5,
          3,
          3.4,
          3
         ],
         "z": [
          "setosa",
          "setosa",
          "setosa",
          "setosa",
          "setosa",
          "setosa",
          "setosa",
          "setosa",
          "setosa",
          "setosa",
          "setosa",
          "setosa",
          "setosa",
          "setosa",
          "setosa",
          "setosa",
          "setosa",
          "setosa",
          "setosa",
          "setosa",
          "setosa",
          "setosa",
          "setosa",
          "setosa",
          "setosa",
          "setosa",
          "setosa",
          "setosa",
          "setosa",
          "setosa",
          "setosa",
          "setosa",
          "setosa",
          "setosa",
          "setosa",
          "setosa",
          "setosa",
          "setosa",
          "setosa",
          "setosa",
          "setosa",
          "setosa",
          "setosa",
          "setosa",
          "setosa",
          "setosa",
          "setosa",
          "setosa",
          "setosa",
          "setosa",
          "versicolor",
          "versicolor",
          "versicolor",
          "versicolor",
          "versicolor",
          "versicolor",
          "versicolor",
          "versicolor",
          "versicolor",
          "versicolor",
          "versicolor",
          "versicolor",
          "versicolor",
          "versicolor",
          "versicolor",
          "versicolor",
          "versicolor",
          "versicolor",
          "versicolor",
          "versicolor",
          "versicolor",
          "versicolor",
          "versicolor",
          "versicolor",
          "versicolor",
          "versicolor",
          "versicolor",
          "versicolor",
          "versicolor",
          "versicolor",
          "versicolor",
          "versicolor",
          "versicolor",
          "versicolor",
          "versicolor",
          "versicolor",
          "versicolor",
          "versicolor",
          "versicolor",
          "versicolor",
          "versicolor",
          "versicolor",
          "versicolor",
          "versicolor",
          "versicolor",
          "versicolor",
          "versicolor",
          "versicolor",
          "versicolor",
          "versicolor",
          "virginica",
          "virginica",
          "virginica",
          "virginica",
          "virginica",
          "virginica",
          "virginica",
          "virginica",
          "virginica",
          "virginica",
          "virginica",
          "virginica",
          "virginica",
          "virginica",
          "virginica",
          "virginica",
          "virginica",
          "virginica",
          "virginica",
          "virginica",
          "virginica",
          "virginica",
          "virginica",
          "virginica",
          "virginica",
          "virginica",
          "virginica",
          "virginica",
          "virginica",
          "virginica",
          "virginica",
          "virginica",
          "virginica",
          "virginica",
          "virginica",
          "virginica",
          "virginica",
          "virginica",
          "virginica",
          "virginica",
          "virginica",
          "virginica",
          "virginica",
          "virginica",
          "virginica",
          "virginica",
          "virginica",
          "virginica",
          "virginica",
          "virginica"
         ]
        }
       ],
       "layout": {
        "legend": {
         "bgcolor": "#151516",
         "font": {
          "color": "#D9D9D9"
         }
        },
        "paper_bgcolor": "#151516",
        "plot_bgcolor": "#151516",
        "scene": {
         "xaxis": {
          "gridcolor": "#434343",
          "showgrid": true,
          "tickfont": {
           "color": "#C2C2C2"
          },
          "title": {
           "font": {
            "color": "#D9D9D9"
           },
           "text": ""
          },
          "zerolinecolor": "#666570"
         },
         "yaxis": {
          "gridcolor": "#434343",
          "showgrid": true,
          "tickfont": {
           "color": "#C2C2C2"
          },
          "title": {
           "font": {
            "color": "#D9D9D9"
           },
           "text": ""
          },
          "zerolinecolor": "#666570"
         },
         "zaxis": {
          "gridcolor": "#434343",
          "showgrid": true,
          "tickfont": {
           "color": "#C2C2C2"
          },
          "title": {
           "font": {
            "color": "#D9D9D9"
           },
           "text": ""
          },
          "zerolinecolor": "#666570"
         }
        },
        "template": {
         "data": {
          "bar": [
           {
            "error_x": {
             "color": "#2a3f5f"
            },
            "error_y": {
             "color": "#2a3f5f"
            },
            "marker": {
             "line": {
              "color": "#E5ECF6",
              "width": 0.5
             },
             "pattern": {
              "fillmode": "overlay",
              "size": 10,
              "solidity": 0.2
             }
            },
            "type": "bar"
           }
          ],
          "barpolar": [
           {
            "marker": {
             "line": {
              "color": "#E5ECF6",
              "width": 0.5
             },
             "pattern": {
              "fillmode": "overlay",
              "size": 10,
              "solidity": 0.2
             }
            },
            "type": "barpolar"
           }
          ],
          "carpet": [
           {
            "aaxis": {
             "endlinecolor": "#2a3f5f",
             "gridcolor": "white",
             "linecolor": "white",
             "minorgridcolor": "white",
             "startlinecolor": "#2a3f5f"
            },
            "baxis": {
             "endlinecolor": "#2a3f5f",
             "gridcolor": "white",
             "linecolor": "white",
             "minorgridcolor": "white",
             "startlinecolor": "#2a3f5f"
            },
            "type": "carpet"
           }
          ],
          "choropleth": [
           {
            "colorbar": {
             "outlinewidth": 0,
             "ticks": ""
            },
            "type": "choropleth"
           }
          ],
          "contour": [
           {
            "colorbar": {
             "outlinewidth": 0,
             "ticks": ""
            },
            "colorscale": [
             [
              0,
              "#0d0887"
             ],
             [
              0.1111111111111111,
              "#46039f"
             ],
             [
              0.2222222222222222,
              "#7201a8"
             ],
             [
              0.3333333333333333,
              "#9c179e"
             ],
             [
              0.4444444444444444,
              "#bd3786"
             ],
             [
              0.5555555555555556,
              "#d8576b"
             ],
             [
              0.6666666666666666,
              "#ed7953"
             ],
             [
              0.7777777777777778,
              "#fb9f3a"
             ],
             [
              0.8888888888888888,
              "#fdca26"
             ],
             [
              1,
              "#f0f921"
             ]
            ],
            "type": "contour"
           }
          ],
          "contourcarpet": [
           {
            "colorbar": {
             "outlinewidth": 0,
             "ticks": ""
            },
            "type": "contourcarpet"
           }
          ],
          "heatmap": [
           {
            "colorbar": {
             "outlinewidth": 0,
             "ticks": ""
            },
            "colorscale": [
             [
              0,
              "#0d0887"
             ],
             [
              0.1111111111111111,
              "#46039f"
             ],
             [
              0.2222222222222222,
              "#7201a8"
             ],
             [
              0.3333333333333333,
              "#9c179e"
             ],
             [
              0.4444444444444444,
              "#bd3786"
             ],
             [
              0.5555555555555556,
              "#d8576b"
             ],
             [
              0.6666666666666666,
              "#ed7953"
             ],
             [
              0.7777777777777778,
              "#fb9f3a"
             ],
             [
              0.8888888888888888,
              "#fdca26"
             ],
             [
              1,
              "#f0f921"
             ]
            ],
            "type": "heatmap"
           }
          ],
          "heatmapgl": [
           {
            "colorbar": {
             "outlinewidth": 0,
             "ticks": ""
            },
            "colorscale": [
             [
              0,
              "#0d0887"
             ],
             [
              0.1111111111111111,
              "#46039f"
             ],
             [
              0.2222222222222222,
              "#7201a8"
             ],
             [
              0.3333333333333333,
              "#9c179e"
             ],
             [
              0.4444444444444444,
              "#bd3786"
             ],
             [
              0.5555555555555556,
              "#d8576b"
             ],
             [
              0.6666666666666666,
              "#ed7953"
             ],
             [
              0.7777777777777778,
              "#fb9f3a"
             ],
             [
              0.8888888888888888,
              "#fdca26"
             ],
             [
              1,
              "#f0f921"
             ]
            ],
            "type": "heatmapgl"
           }
          ],
          "histogram": [
           {
            "marker": {
             "pattern": {
              "fillmode": "overlay",
              "size": 10,
              "solidity": 0.2
             }
            },
            "type": "histogram"
           }
          ],
          "histogram2d": [
           {
            "colorbar": {
             "outlinewidth": 0,
             "ticks": ""
            },
            "colorscale": [
             [
              0,
              "#0d0887"
             ],
             [
              0.1111111111111111,
              "#46039f"
             ],
             [
              0.2222222222222222,
              "#7201a8"
             ],
             [
              0.3333333333333333,
              "#9c179e"
             ],
             [
              0.4444444444444444,
              "#bd3786"
             ],
             [
              0.5555555555555556,
              "#d8576b"
             ],
             [
              0.6666666666666666,
              "#ed7953"
             ],
             [
              0.7777777777777778,
              "#fb9f3a"
             ],
             [
              0.8888888888888888,
              "#fdca26"
             ],
             [
              1,
              "#f0f921"
             ]
            ],
            "type": "histogram2d"
           }
          ],
          "histogram2dcontour": [
           {
            "colorbar": {
             "outlinewidth": 0,
             "ticks": ""
            },
            "colorscale": [
             [
              0,
              "#0d0887"
             ],
             [
              0.1111111111111111,
              "#46039f"
             ],
             [
              0.2222222222222222,
              "#7201a8"
             ],
             [
              0.3333333333333333,
              "#9c179e"
             ],
             [
              0.4444444444444444,
              "#bd3786"
             ],
             [
              0.5555555555555556,
              "#d8576b"
             ],
             [
              0.6666666666666666,
              "#ed7953"
             ],
             [
              0.7777777777777778,
              "#fb9f3a"
             ],
             [
              0.8888888888888888,
              "#fdca26"
             ],
             [
              1,
              "#f0f921"
             ]
            ],
            "type": "histogram2dcontour"
           }
          ],
          "mesh3d": [
           {
            "colorbar": {
             "outlinewidth": 0,
             "ticks": ""
            },
            "type": "mesh3d"
           }
          ],
          "parcoords": [
           {
            "line": {
             "colorbar": {
              "outlinewidth": 0,
              "ticks": ""
             }
            },
            "type": "parcoords"
           }
          ],
          "pie": [
           {
            "automargin": true,
            "type": "pie"
           }
          ],
          "scatter": [
           {
            "marker": {
             "colorbar": {
              "outlinewidth": 0,
              "ticks": ""
             }
            },
            "type": "scatter"
           }
          ],
          "scatter3d": [
           {
            "line": {
             "colorbar": {
              "outlinewidth": 0,
              "ticks": ""
             }
            },
            "marker": {
             "colorbar": {
              "outlinewidth": 0,
              "ticks": ""
             }
            },
            "type": "scatter3d"
           }
          ],
          "scattercarpet": [
           {
            "marker": {
             "colorbar": {
              "outlinewidth": 0,
              "ticks": ""
             }
            },
            "type": "scattercarpet"
           }
          ],
          "scattergeo": [
           {
            "marker": {
             "colorbar": {
              "outlinewidth": 0,
              "ticks": ""
             }
            },
            "type": "scattergeo"
           }
          ],
          "scattergl": [
           {
            "marker": {
             "colorbar": {
              "outlinewidth": 0,
              "ticks": ""
             }
            },
            "type": "scattergl"
           }
          ],
          "scattermapbox": [
           {
            "marker": {
             "colorbar": {
              "outlinewidth": 0,
              "ticks": ""
             }
            },
            "type": "scattermapbox"
           }
          ],
          "scatterpolar": [
           {
            "marker": {
             "colorbar": {
              "outlinewidth": 0,
              "ticks": ""
             }
            },
            "type": "scatterpolar"
           }
          ],
          "scatterpolargl": [
           {
            "marker": {
             "colorbar": {
              "outlinewidth": 0,
              "ticks": ""
             }
            },
            "type": "scatterpolargl"
           }
          ],
          "scatterternary": [
           {
            "marker": {
             "colorbar": {
              "outlinewidth": 0,
              "ticks": ""
             }
            },
            "type": "scatterternary"
           }
          ],
          "surface": [
           {
            "colorbar": {
             "outlinewidth": 0,
             "ticks": ""
            },
            "colorscale": [
             [
              0,
              "#0d0887"
             ],
             [
              0.1111111111111111,
              "#46039f"
             ],
             [
              0.2222222222222222,
              "#7201a8"
             ],
             [
              0.3333333333333333,
              "#9c179e"
             ],
             [
              0.4444444444444444,
              "#bd3786"
             ],
             [
              0.5555555555555556,
              "#d8576b"
             ],
             [
              0.6666666666666666,
              "#ed7953"
             ],
             [
              0.7777777777777778,
              "#fb9f3a"
             ],
             [
              0.8888888888888888,
              "#fdca26"
             ],
             [
              1,
              "#f0f921"
             ]
            ],
            "type": "surface"
           }
          ],
          "table": [
           {
            "cells": {
             "fill": {
              "color": "#EBF0F8"
             },
             "line": {
              "color": "white"
             }
            },
            "header": {
             "fill": {
              "color": "#C8D4E3"
             },
             "line": {
              "color": "white"
             }
            },
            "type": "table"
           }
          ]
         },
         "layout": {
          "annotationdefaults": {
           "arrowcolor": "#2a3f5f",
           "arrowhead": 0,
           "arrowwidth": 1
          },
          "autotypenumbers": "strict",
          "coloraxis": {
           "colorbar": {
            "outlinewidth": 0,
            "ticks": ""
           }
          },
          "colorscale": {
           "diverging": [
            [
             0,
             "#8e0152"
            ],
            [
             0.1,
             "#c51b7d"
            ],
            [
             0.2,
             "#de77ae"
            ],
            [
             0.3,
             "#f1b6da"
            ],
            [
             0.4,
             "#fde0ef"
            ],
            [
             0.5,
             "#f7f7f7"
            ],
            [
             0.6,
             "#e6f5d0"
            ],
            [
             0.7,
             "#b8e186"
            ],
            [
             0.8,
             "#7fbc41"
            ],
            [
             0.9,
             "#4d9221"
            ],
            [
             1,
             "#276419"
            ]
           ],
           "sequential": [
            [
             0,
             "#0d0887"
            ],
            [
             0.1111111111111111,
             "#46039f"
            ],
            [
             0.2222222222222222,
             "#7201a8"
            ],
            [
             0.3333333333333333,
             "#9c179e"
            ],
            [
             0.4444444444444444,
             "#bd3786"
            ],
            [
             0.5555555555555556,
             "#d8576b"
            ],
            [
             0.6666666666666666,
             "#ed7953"
            ],
            [
             0.7777777777777778,
             "#fb9f3a"
            ],
            [
             0.8888888888888888,
             "#fdca26"
            ],
            [
             1,
             "#f0f921"
            ]
           ],
           "sequentialminus": [
            [
             0,
             "#0d0887"
            ],
            [
             0.1111111111111111,
             "#46039f"
            ],
            [
             0.2222222222222222,
             "#7201a8"
            ],
            [
             0.3333333333333333,
             "#9c179e"
            ],
            [
             0.4444444444444444,
             "#bd3786"
            ],
            [
             0.5555555555555556,
             "#d8576b"
            ],
            [
             0.6666666666666666,
             "#ed7953"
            ],
            [
             0.7777777777777778,
             "#fb9f3a"
            ],
            [
             0.8888888888888888,
             "#fdca26"
            ],
            [
             1,
             "#f0f921"
            ]
           ]
          },
          "colorway": [
           "#636efa",
           "#EF553B",
           "#00cc96",
           "#ab63fa",
           "#FFA15A",
           "#19d3f3",
           "#FF6692",
           "#B6E880",
           "#FF97FF",
           "#FECB52"
          ],
          "font": {
           "color": "#2a3f5f"
          },
          "geo": {
           "bgcolor": "white",
           "lakecolor": "white",
           "landcolor": "#E5ECF6",
           "showlakes": true,
           "showland": true,
           "subunitcolor": "white"
          },
          "hoverlabel": {
           "align": "left"
          },
          "hovermode": "closest",
          "mapbox": {
           "style": "light"
          },
          "paper_bgcolor": "white",
          "plot_bgcolor": "#E5ECF6",
          "polar": {
           "angularaxis": {
            "gridcolor": "white",
            "linecolor": "white",
            "ticks": ""
           },
           "bgcolor": "#E5ECF6",
           "radialaxis": {
            "gridcolor": "white",
            "linecolor": "white",
            "ticks": ""
           }
          },
          "scene": {
           "xaxis": {
            "backgroundcolor": "#E5ECF6",
            "gridcolor": "white",
            "gridwidth": 2,
            "linecolor": "white",
            "showbackground": true,
            "ticks": "",
            "zerolinecolor": "white"
           },
           "yaxis": {
            "backgroundcolor": "#E5ECF6",
            "gridcolor": "white",
            "gridwidth": 2,
            "linecolor": "white",
            "showbackground": true,
            "ticks": "",
            "zerolinecolor": "white"
           },
           "zaxis": {
            "backgroundcolor": "#E5ECF6",
            "gridcolor": "white",
            "gridwidth": 2,
            "linecolor": "white",
            "showbackground": true,
            "ticks": "",
            "zerolinecolor": "white"
           }
          },
          "shapedefaults": {
           "line": {
            "color": "#2a3f5f"
           }
          },
          "ternary": {
           "aaxis": {
            "gridcolor": "white",
            "linecolor": "white",
            "ticks": ""
           },
           "baxis": {
            "gridcolor": "white",
            "linecolor": "white",
            "ticks": ""
           },
           "bgcolor": "#E5ECF6",
           "caxis": {
            "gridcolor": "white",
            "linecolor": "white",
            "ticks": ""
           }
          },
          "title": {
           "x": 0.05
          },
          "xaxis": {
           "automargin": true,
           "gridcolor": "white",
           "linecolor": "white",
           "ticks": "",
           "title": {
            "standoff": 15
           },
           "zerolinecolor": "white",
           "zerolinewidth": 2
          },
          "yaxis": {
           "automargin": true,
           "gridcolor": "white",
           "linecolor": "white",
           "ticks": "",
           "title": {
            "standoff": 15
           },
           "zerolinecolor": "white",
           "zerolinewidth": 2
          }
         }
        },
        "title": {
         "font": {
          "color": "#D9D9D9"
         }
        }
       }
      },
      "text/html": [
       "<div>                            <div id=\"88e6c0c2-38c2-4a02-ad8d-b63b153795da\" class=\"plotly-graph-div\" style=\"height:525px; width:100%;\"></div>            <script type=\"text/javascript\">                require([\"plotly\"], function(Plotly) {                    window.PLOTLYENV=window.PLOTLYENV || {};\n",
       "                    window.PLOTLYENV.BASE_URL='https://plot.ly';                                    if (document.getElementById(\"88e6c0c2-38c2-4a02-ad8d-b63b153795da\")) {                    Plotly.newPlot(                        \"88e6c0c2-38c2-4a02-ad8d-b63b153795da\",                        [{\"marker\":{\"color\":[\"rgba(255, 153, 51, 1.0)\",\"rgba(55, 128, 191, 1.0)\",\"rgba(50, 171, 96, 1.0)\",\"rgba(128, 0, 128, 1.0)\",\"rgba(219, 64, 82, 1.0)\",\"rgba(0, 128, 128, 1.0)\",\"rgba(255, 255, 51, 1.0)\",\"rgba(128, 128, 0, 1.0)\",\"rgba(251, 128, 114, 1.0)\",\"rgba(128, 177, 211, 1.0)\",\"rgba(128, 177, 211, 0.9466666666666665)\",\"rgba(255, 153, 51, 0.9466666666666665)\",\"rgba(55, 128, 191, 0.9466666666666665)\",\"rgba(50, 171, 96, 0.9466666666666665)\",\"rgba(128, 0, 128, 0.9466666666666665)\",\"rgba(219, 64, 82, 0.9466666666666665)\",\"rgba(0, 128, 128, 0.9466666666666665)\",\"rgba(255, 255, 51, 0.9466666666666665)\",\"rgba(128, 128, 0, 0.9466666666666665)\",\"rgba(251, 128, 114, 0.9466666666666665)\",\"rgba(251, 128, 114, 0.8933333333333333)\",\"rgba(128, 177, 211, 0.8933333333333333)\",\"rgba(255, 153, 51, 0.8933333333333333)\",\"rgba(55, 128, 191, 0.8933333333333333)\",\"rgba(50, 171, 96, 0.8933333333333333)\",\"rgba(128, 0, 128, 0.8933333333333333)\",\"rgba(219, 64, 82, 0.8933333333333333)\",\"rgba(0, 128, 128, 0.8933333333333333)\",\"rgba(255, 255, 51, 0.8933333333333333)\",\"rgba(128, 128, 0, 0.8933333333333333)\",\"rgba(128, 128, 0, 0.8399999999999999)\",\"rgba(251, 128, 114, 0.8399999999999999)\",\"rgba(128, 177, 211, 0.8399999999999999)\",\"rgba(255, 153, 51, 0.8399999999999999)\",\"rgba(55, 128, 191, 0.8399999999999999)\",\"rgba(50, 171, 96, 0.8399999999999999)\",\"rgba(128, 0, 128, 0.8399999999999999)\",\"rgba(219, 64, 82, 0.8399999999999999)\",\"rgba(0, 128, 128, 0.8399999999999999)\",\"rgba(255, 255, 51, 0.8399999999999999)\",\"rgba(255, 255, 51, 0.7866666666666666)\",\"rgba(128, 128, 0, 0.7866666666666666)\",\"rgba(251, 128, 114, 0.7866666666666666)\",\"rgba(128, 177, 211, 0.7866666666666666)\",\"rgba(255, 153, 51, 0.7866666666666666)\",\"rgba(55, 128, 191, 0.7866666666666666)\",\"rgba(50, 171, 96, 0.7866666666666666)\",\"rgba(128, 0, 128, 0.7866666666666666)\",\"rgba(219, 64, 82, 0.7866666666666666)\",\"rgba(0, 128, 128, 0.7866666666666666)\",\"rgba(0, 128, 128, 0.7333333333333332)\",\"rgba(255, 255, 51, 0.7333333333333332)\",\"rgba(128, 128, 0, 0.7333333333333332)\",\"rgba(251, 128, 114, 0.7333333333333332)\",\"rgba(128, 177, 211, 0.7333333333333332)\",\"rgba(255, 153, 51, 0.7333333333333332)\",\"rgba(55, 128, 191, 0.7333333333333332)\",\"rgba(50, 171, 96, 0.7333333333333332)\",\"rgba(128, 0, 128, 0.7333333333333332)\",\"rgba(219, 64, 82, 0.7333333333333332)\",\"rgba(219, 64, 82, 0.6799999999999999)\",\"rgba(0, 128, 128, 0.6799999999999999)\",\"rgba(255, 255, 51, 0.6799999999999999)\",\"rgba(128, 128, 0, 0.6799999999999999)\",\"rgba(251, 128, 114, 0.6799999999999999)\",\"rgba(128, 177, 211, 0.6799999999999999)\",\"rgba(255, 153, 51, 0.6799999999999999)\",\"rgba(55, 128, 191, 0.6799999999999999)\",\"rgba(50, 171, 96, 0.6799999999999999)\",\"rgba(128, 0, 128, 0.6799999999999999)\",\"rgba(128, 0, 128, 0.6266666666666665)\",\"rgba(219, 64, 82, 0.6266666666666665)\",\"rgba(0, 128, 128, 0.6266666666666665)\",\"rgba(255, 255, 51, 0.6266666666666665)\",\"rgba(128, 128, 0, 0.6266666666666665)\",\"rgba(251, 128, 114, 0.6266666666666665)\",\"rgba(128, 177, 211, 0.6266666666666665)\",\"rgba(255, 153, 51, 0.6266666666666665)\",\"rgba(55, 128, 191, 0.6266666666666665)\",\"rgba(50, 171, 96, 0.6266666666666665)\",\"rgba(50, 171, 96, 0.5733333333333333)\",\"rgba(128, 0, 128, 0.5733333333333333)\",\"rgba(219, 64, 82, 0.5733333333333333)\",\"rgba(0, 128, 128, 0.5733333333333333)\",\"rgba(255, 255, 51, 0.5733333333333333)\",\"rgba(128, 128, 0, 0.5733333333333333)\",\"rgba(251, 128, 114, 0.5733333333333333)\",\"rgba(128, 177, 211, 0.5733333333333333)\",\"rgba(255, 153, 51, 0.5733333333333333)\",\"rgba(55, 128, 191, 0.5733333333333333)\",\"rgba(55, 128, 191, 0.5199999999999998)\",\"rgba(50, 171, 96, 0.5199999999999998)\",\"rgba(128, 0, 128, 0.5199999999999998)\",\"rgba(219, 64, 82, 0.5199999999999998)\",\"rgba(0, 128, 128, 0.5199999999999998)\",\"rgba(255, 255, 51, 0.5199999999999998)\",\"rgba(128, 128, 0, 0.5199999999999998)\",\"rgba(251, 128, 114, 0.5199999999999998)\",\"rgba(128, 177, 211, 0.5199999999999998)\",\"rgba(255, 153, 51, 0.5199999999999998)\",\"rgba(255, 153, 51, 0.4666666666666666)\",\"rgba(55, 128, 191, 0.4666666666666666)\",\"rgba(50, 171, 96, 0.4666666666666666)\",\"rgba(128, 0, 128, 0.4666666666666666)\",\"rgba(219, 64, 82, 0.4666666666666666)\",\"rgba(0, 128, 128, 0.4666666666666666)\",\"rgba(255, 255, 51, 0.4666666666666666)\",\"rgba(128, 128, 0, 0.4666666666666666)\",\"rgba(251, 128, 114, 0.4666666666666666)\",\"rgba(128, 177, 211, 0.4666666666666666)\",\"rgba(128, 177, 211, 0.41333333333333316)\",\"rgba(255, 153, 51, 0.41333333333333316)\",\"rgba(55, 128, 191, 0.41333333333333316)\",\"rgba(50, 171, 96, 0.41333333333333316)\",\"rgba(128, 0, 128, 0.41333333333333316)\",\"rgba(219, 64, 82, 0.41333333333333316)\",\"rgba(0, 128, 128, 0.41333333333333316)\",\"rgba(255, 255, 51, 0.41333333333333316)\",\"rgba(128, 128, 0, 0.41333333333333316)\",\"rgba(251, 128, 114, 0.41333333333333316)\",\"rgba(251, 128, 114, 0.35999999999999993)\",\"rgba(128, 177, 211, 0.35999999999999993)\",\"rgba(255, 153, 51, 0.35999999999999993)\",\"rgba(55, 128, 191, 0.35999999999999993)\",\"rgba(50, 171, 96, 0.35999999999999993)\",\"rgba(128, 0, 128, 0.35999999999999993)\",\"rgba(219, 64, 82, 0.35999999999999993)\",\"rgba(0, 128, 128, 0.35999999999999993)\",\"rgba(255, 255, 51, 0.35999999999999993)\",\"rgba(128, 128, 0, 0.35999999999999993)\",\"rgba(128, 128, 0, 0.3066666666666665)\",\"rgba(251, 128, 114, 0.3066666666666665)\",\"rgba(128, 177, 211, 0.3066666666666665)\",\"rgba(255, 153, 51, 0.3066666666666665)\",\"rgba(55, 128, 191, 0.3066666666666665)\",\"rgba(50, 171, 96, 0.3066666666666665)\",\"rgba(128, 0, 128, 0.3066666666666665)\",\"rgba(219, 64, 82, 0.3066666666666665)\",\"rgba(0, 128, 128, 0.3066666666666665)\",\"rgba(255, 255, 51, 0.3066666666666665)\",\"rgba(255, 255, 51, 0.25333333333333324)\",\"rgba(128, 128, 0, 0.25333333333333324)\",\"rgba(251, 128, 114, 0.25333333333333324)\",\"rgba(128, 177, 211, 0.25333333333333324)\",\"rgba(255, 153, 51, 0.25333333333333324)\",\"rgba(55, 128, 191, 0.25333333333333324)\",\"rgba(50, 171, 96, 0.25333333333333324)\",\"rgba(128, 0, 128, 0.25333333333333324)\",\"rgba(219, 64, 82, 0.25333333333333324)\",\"rgba(0, 128, 128, 0.25333333333333324)\"],\"opacity\":0.8,\"size\":[12,12,12,12,12,12,12,12,12,12,12,12,12,12,12,12,12,12,12,12,12,12,12,12,12,12,12,12,12,12,12,12,12,12,12,12,12,12,12,12,12,12,12,12,12,12,12,12,12,12,12,12,12,12,12,12,12,12,12,12,12,12,12,12,12,12,12,12,12,12,12,12,12,12,12,12,12,12,12,12,12,12,12,12,12,12,12,12,12,12,12,12,12,12,12,12,12,12,12,12,12,12,12,12,12,12,12,12,12,12,12,12,12,12,12,12,12,12,12,12,12,12,12,12,12,12,12,12,12,12,12,12,12,12,12,12,12,12,12,12,12,12,12,12,12,12,12,12,12,12],\"symbol\":\"circle\"},\"mode\":\"markers\",\"text\":[\"0\",\"1\",\"2\",\"3\",\"4\",\"5\",\"6\",\"7\",\"8\",\"9\",\"10\",\"11\",\"12\",\"13\",\"14\",\"15\",\"16\",\"17\",\"18\",\"19\",\"20\",\"21\",\"22\",\"23\",\"24\",\"25\",\"26\",\"27\",\"28\",\"29\",\"30\",\"31\",\"32\",\"33\",\"34\",\"35\",\"36\",\"37\",\"38\",\"39\",\"40\",\"41\",\"42\",\"43\",\"44\",\"45\",\"46\",\"47\",\"48\",\"49\",\"50\",\"51\",\"52\",\"53\",\"54\",\"55\",\"56\",\"57\",\"58\",\"59\",\"60\",\"61\",\"62\",\"63\",\"64\",\"65\",\"66\",\"67\",\"68\",\"69\",\"70\",\"71\",\"72\",\"73\",\"74\",\"75\",\"76\",\"77\",\"78\",\"79\",\"80\",\"81\",\"82\",\"83\",\"84\",\"85\",\"86\",\"87\",\"88\",\"89\",\"90\",\"91\",\"92\",\"93\",\"94\",\"95\",\"96\",\"97\",\"98\",\"99\",\"100\",\"101\",\"102\",\"103\",\"104\",\"105\",\"106\",\"107\",\"108\",\"109\",\"110\",\"111\",\"112\",\"113\",\"114\",\"115\",\"116\",\"117\",\"118\",\"119\",\"120\",\"121\",\"122\",\"123\",\"124\",\"125\",\"126\",\"127\",\"128\",\"129\",\"130\",\"131\",\"132\",\"133\",\"134\",\"135\",\"136\",\"137\",\"138\",\"139\",\"140\",\"141\",\"142\",\"143\",\"144\",\"145\",\"146\",\"147\",\"148\",\"149\"],\"x\":[5.1,4.9,4.7,4.6,5.0,5.4,4.6,5.0,4.4,4.9,5.4,4.8,4.8,4.3,5.8,5.7,5.4,5.1,5.7,5.1,5.4,5.1,4.6,5.1,4.8,5.0,5.0,5.2,5.2,4.7,4.8,5.4,5.2,5.5,4.9,5.0,5.5,4.9,4.4,5.1,5.0,4.5,4.4,5.0,5.1,4.8,5.1,4.6,5.3,5.0,7.0,6.4,6.9,5.5,6.5,5.7,6.3,4.9,6.6,5.2,5.0,5.9,6.0,6.1,5.6,6.7,5.6,5.8,6.2,5.6,5.9,6.1,6.3,6.1,6.4,6.6,6.8,6.7,6.0,5.7,5.5,5.5,5.8,6.0,5.4,6.0,6.7,6.3,5.6,5.5,5.5,6.1,5.8,5.0,5.6,5.7,5.7,6.2,5.1,5.7,6.3,5.8,7.1,6.3,6.5,7.6,4.9,7.3,6.7,7.2,6.5,6.4,6.8,5.7,5.8,6.4,6.5,7.7,7.7,6.0,6.9,5.6,7.7,6.3,6.7,7.2,6.2,6.1,6.4,7.2,7.4,7.9,6.4,6.3,6.1,7.7,6.3,6.4,6.0,6.9,6.7,6.9,5.8,6.8,6.7,6.7,6.3,6.5,6.2,5.9],\"y\":[3.5,3.0,3.2,3.1,3.6,3.9,3.4,3.4,2.9,3.1,3.7,3.4,3.0,3.0,4.0,4.4,3.9,3.5,3.8,3.8,3.4,3.7,3.6,3.3,3.4,3.0,3.4,3.5,3.4,3.2,3.1,3.4,4.1,4.2,3.1,3.2,3.5,3.1,3.0,3.4,3.5,2.3,3.2,3.5,3.8,3.0,3.8,3.2,3.7,3.3,3.2,3.2,3.1,2.3,2.8,2.8,3.3,2.4,2.9,2.7,2.0,3.0,2.2,2.9,2.9,3.1,3.0,2.7,2.2,2.5,3.2,2.8,2.5,2.8,2.9,3.0,2.8,3.0,2.9,2.6,2.4,2.4,2.7,2.7,3.0,3.4,3.1,2.3,3.0,2.5,2.6,3.0,2.6,2.3,2.7,3.0,2.9,2.9,2.5,2.8,3.3,2.7,3.0,2.9,3.0,3.0,2.5,2.9,2.5,3.6,3.2,2.7,3.0,2.5,2.8,3.2,3.0,3.8,2.6,2.2,3.2,2.8,2.8,2.7,3.3,3.2,2.8,3.0,2.8,3.0,2.8,3.8,2.8,2.8,2.6,3.0,3.4,3.1,3.0,3.1,3.1,3.1,2.7,3.2,3.3,3.0,2.5,3.0,3.4,3.0],\"z\":[\"setosa\",\"setosa\",\"setosa\",\"setosa\",\"setosa\",\"setosa\",\"setosa\",\"setosa\",\"setosa\",\"setosa\",\"setosa\",\"setosa\",\"setosa\",\"setosa\",\"setosa\",\"setosa\",\"setosa\",\"setosa\",\"setosa\",\"setosa\",\"setosa\",\"setosa\",\"setosa\",\"setosa\",\"setosa\",\"setosa\",\"setosa\",\"setosa\",\"setosa\",\"setosa\",\"setosa\",\"setosa\",\"setosa\",\"setosa\",\"setosa\",\"setosa\",\"setosa\",\"setosa\",\"setosa\",\"setosa\",\"setosa\",\"setosa\",\"setosa\",\"setosa\",\"setosa\",\"setosa\",\"setosa\",\"setosa\",\"setosa\",\"setosa\",\"versicolor\",\"versicolor\",\"versicolor\",\"versicolor\",\"versicolor\",\"versicolor\",\"versicolor\",\"versicolor\",\"versicolor\",\"versicolor\",\"versicolor\",\"versicolor\",\"versicolor\",\"versicolor\",\"versicolor\",\"versicolor\",\"versicolor\",\"versicolor\",\"versicolor\",\"versicolor\",\"versicolor\",\"versicolor\",\"versicolor\",\"versicolor\",\"versicolor\",\"versicolor\",\"versicolor\",\"versicolor\",\"versicolor\",\"versicolor\",\"versicolor\",\"versicolor\",\"versicolor\",\"versicolor\",\"versicolor\",\"versicolor\",\"versicolor\",\"versicolor\",\"versicolor\",\"versicolor\",\"versicolor\",\"versicolor\",\"versicolor\",\"versicolor\",\"versicolor\",\"versicolor\",\"versicolor\",\"versicolor\",\"versicolor\",\"versicolor\",\"virginica\",\"virginica\",\"virginica\",\"virginica\",\"virginica\",\"virginica\",\"virginica\",\"virginica\",\"virginica\",\"virginica\",\"virginica\",\"virginica\",\"virginica\",\"virginica\",\"virginica\",\"virginica\",\"virginica\",\"virginica\",\"virginica\",\"virginica\",\"virginica\",\"virginica\",\"virginica\",\"virginica\",\"virginica\",\"virginica\",\"virginica\",\"virginica\",\"virginica\",\"virginica\",\"virginica\",\"virginica\",\"virginica\",\"virginica\",\"virginica\",\"virginica\",\"virginica\",\"virginica\",\"virginica\",\"virginica\",\"virginica\",\"virginica\",\"virginica\",\"virginica\",\"virginica\",\"virginica\",\"virginica\",\"virginica\",\"virginica\",\"virginica\"],\"type\":\"scatter3d\"}],                        {\"legend\":{\"bgcolor\":\"#151516\",\"font\":{\"color\":\"#D9D9D9\"}},\"paper_bgcolor\":\"#151516\",\"plot_bgcolor\":\"#151516\",\"scene\":{\"xaxis\":{\"gridcolor\":\"#434343\",\"showgrid\":true,\"tickfont\":{\"color\":\"#C2C2C2\"},\"title\":{\"font\":{\"color\":\"#D9D9D9\"},\"text\":\"\"},\"zerolinecolor\":\"#666570\"},\"yaxis\":{\"gridcolor\":\"#434343\",\"showgrid\":true,\"tickfont\":{\"color\":\"#C2C2C2\"},\"title\":{\"font\":{\"color\":\"#D9D9D9\"},\"text\":\"\"},\"zerolinecolor\":\"#666570\"},\"zaxis\":{\"gridcolor\":\"#434343\",\"showgrid\":true,\"tickfont\":{\"color\":\"#C2C2C2\"},\"title\":{\"font\":{\"color\":\"#D9D9D9\"},\"text\":\"\"},\"zerolinecolor\":\"#666570\"}},\"template\":{\"data\":{\"barpolar\":[{\"marker\":{\"line\":{\"color\":\"#E5ECF6\",\"width\":0.5},\"pattern\":{\"fillmode\":\"overlay\",\"size\":10,\"solidity\":0.2}},\"type\":\"barpolar\"}],\"bar\":[{\"error_x\":{\"color\":\"#2a3f5f\"},\"error_y\":{\"color\":\"#2a3f5f\"},\"marker\":{\"line\":{\"color\":\"#E5ECF6\",\"width\":0.5},\"pattern\":{\"fillmode\":\"overlay\",\"size\":10,\"solidity\":0.2}},\"type\":\"bar\"}],\"carpet\":[{\"aaxis\":{\"endlinecolor\":\"#2a3f5f\",\"gridcolor\":\"white\",\"linecolor\":\"white\",\"minorgridcolor\":\"white\",\"startlinecolor\":\"#2a3f5f\"},\"baxis\":{\"endlinecolor\":\"#2a3f5f\",\"gridcolor\":\"white\",\"linecolor\":\"white\",\"minorgridcolor\":\"white\",\"startlinecolor\":\"#2a3f5f\"},\"type\":\"carpet\"}],\"choropleth\":[{\"colorbar\":{\"outlinewidth\":0,\"ticks\":\"\"},\"type\":\"choropleth\"}],\"contourcarpet\":[{\"colorbar\":{\"outlinewidth\":0,\"ticks\":\"\"},\"type\":\"contourcarpet\"}],\"contour\":[{\"colorbar\":{\"outlinewidth\":0,\"ticks\":\"\"},\"colorscale\":[[0.0,\"#0d0887\"],[0.1111111111111111,\"#46039f\"],[0.2222222222222222,\"#7201a8\"],[0.3333333333333333,\"#9c179e\"],[0.4444444444444444,\"#bd3786\"],[0.5555555555555556,\"#d8576b\"],[0.6666666666666666,\"#ed7953\"],[0.7777777777777778,\"#fb9f3a\"],[0.8888888888888888,\"#fdca26\"],[1.0,\"#f0f921\"]],\"type\":\"contour\"}],\"heatmapgl\":[{\"colorbar\":{\"outlinewidth\":0,\"ticks\":\"\"},\"colorscale\":[[0.0,\"#0d0887\"],[0.1111111111111111,\"#46039f\"],[0.2222222222222222,\"#7201a8\"],[0.3333333333333333,\"#9c179e\"],[0.4444444444444444,\"#bd3786\"],[0.5555555555555556,\"#d8576b\"],[0.6666666666666666,\"#ed7953\"],[0.7777777777777778,\"#fb9f3a\"],[0.8888888888888888,\"#fdca26\"],[1.0,\"#f0f921\"]],\"type\":\"heatmapgl\"}],\"heatmap\":[{\"colorbar\":{\"outlinewidth\":0,\"ticks\":\"\"},\"colorscale\":[[0.0,\"#0d0887\"],[0.1111111111111111,\"#46039f\"],[0.2222222222222222,\"#7201a8\"],[0.3333333333333333,\"#9c179e\"],[0.4444444444444444,\"#bd3786\"],[0.5555555555555556,\"#d8576b\"],[0.6666666666666666,\"#ed7953\"],[0.7777777777777778,\"#fb9f3a\"],[0.8888888888888888,\"#fdca26\"],[1.0,\"#f0f921\"]],\"type\":\"heatmap\"}],\"histogram2dcontour\":[{\"colorbar\":{\"outlinewidth\":0,\"ticks\":\"\"},\"colorscale\":[[0.0,\"#0d0887\"],[0.1111111111111111,\"#46039f\"],[0.2222222222222222,\"#7201a8\"],[0.3333333333333333,\"#9c179e\"],[0.4444444444444444,\"#bd3786\"],[0.5555555555555556,\"#d8576b\"],[0.6666666666666666,\"#ed7953\"],[0.7777777777777778,\"#fb9f3a\"],[0.8888888888888888,\"#fdca26\"],[1.0,\"#f0f921\"]],\"type\":\"histogram2dcontour\"}],\"histogram2d\":[{\"colorbar\":{\"outlinewidth\":0,\"ticks\":\"\"},\"colorscale\":[[0.0,\"#0d0887\"],[0.1111111111111111,\"#46039f\"],[0.2222222222222222,\"#7201a8\"],[0.3333333333333333,\"#9c179e\"],[0.4444444444444444,\"#bd3786\"],[0.5555555555555556,\"#d8576b\"],[0.6666666666666666,\"#ed7953\"],[0.7777777777777778,\"#fb9f3a\"],[0.8888888888888888,\"#fdca26\"],[1.0,\"#f0f921\"]],\"type\":\"histogram2d\"}],\"histogram\":[{\"marker\":{\"pattern\":{\"fillmode\":\"overlay\",\"size\":10,\"solidity\":0.2}},\"type\":\"histogram\"}],\"mesh3d\":[{\"colorbar\":{\"outlinewidth\":0,\"ticks\":\"\"},\"type\":\"mesh3d\"}],\"parcoords\":[{\"line\":{\"colorbar\":{\"outlinewidth\":0,\"ticks\":\"\"}},\"type\":\"parcoords\"}],\"pie\":[{\"automargin\":true,\"type\":\"pie\"}],\"scatter3d\":[{\"line\":{\"colorbar\":{\"outlinewidth\":0,\"ticks\":\"\"}},\"marker\":{\"colorbar\":{\"outlinewidth\":0,\"ticks\":\"\"}},\"type\":\"scatter3d\"}],\"scattercarpet\":[{\"marker\":{\"colorbar\":{\"outlinewidth\":0,\"ticks\":\"\"}},\"type\":\"scattercarpet\"}],\"scattergeo\":[{\"marker\":{\"colorbar\":{\"outlinewidth\":0,\"ticks\":\"\"}},\"type\":\"scattergeo\"}],\"scattergl\":[{\"marker\":{\"colorbar\":{\"outlinewidth\":0,\"ticks\":\"\"}},\"type\":\"scattergl\"}],\"scattermapbox\":[{\"marker\":{\"colorbar\":{\"outlinewidth\":0,\"ticks\":\"\"}},\"type\":\"scattermapbox\"}],\"scatterpolargl\":[{\"marker\":{\"colorbar\":{\"outlinewidth\":0,\"ticks\":\"\"}},\"type\":\"scatterpolargl\"}],\"scatterpolar\":[{\"marker\":{\"colorbar\":{\"outlinewidth\":0,\"ticks\":\"\"}},\"type\":\"scatterpolar\"}],\"scatter\":[{\"marker\":{\"colorbar\":{\"outlinewidth\":0,\"ticks\":\"\"}},\"type\":\"scatter\"}],\"scatterternary\":[{\"marker\":{\"colorbar\":{\"outlinewidth\":0,\"ticks\":\"\"}},\"type\":\"scatterternary\"}],\"surface\":[{\"colorbar\":{\"outlinewidth\":0,\"ticks\":\"\"},\"colorscale\":[[0.0,\"#0d0887\"],[0.1111111111111111,\"#46039f\"],[0.2222222222222222,\"#7201a8\"],[0.3333333333333333,\"#9c179e\"],[0.4444444444444444,\"#bd3786\"],[0.5555555555555556,\"#d8576b\"],[0.6666666666666666,\"#ed7953\"],[0.7777777777777778,\"#fb9f3a\"],[0.8888888888888888,\"#fdca26\"],[1.0,\"#f0f921\"]],\"type\":\"surface\"}],\"table\":[{\"cells\":{\"fill\":{\"color\":\"#EBF0F8\"},\"line\":{\"color\":\"white\"}},\"header\":{\"fill\":{\"color\":\"#C8D4E3\"},\"line\":{\"color\":\"white\"}},\"type\":\"table\"}]},\"layout\":{\"annotationdefaults\":{\"arrowcolor\":\"#2a3f5f\",\"arrowhead\":0,\"arrowwidth\":1},\"autotypenumbers\":\"strict\",\"coloraxis\":{\"colorbar\":{\"outlinewidth\":0,\"ticks\":\"\"}},\"colorscale\":{\"diverging\":[[0,\"#8e0152\"],[0.1,\"#c51b7d\"],[0.2,\"#de77ae\"],[0.3,\"#f1b6da\"],[0.4,\"#fde0ef\"],[0.5,\"#f7f7f7\"],[0.6,\"#e6f5d0\"],[0.7,\"#b8e186\"],[0.8,\"#7fbc41\"],[0.9,\"#4d9221\"],[1,\"#276419\"]],\"sequential\":[[0.0,\"#0d0887\"],[0.1111111111111111,\"#46039f\"],[0.2222222222222222,\"#7201a8\"],[0.3333333333333333,\"#9c179e\"],[0.4444444444444444,\"#bd3786\"],[0.5555555555555556,\"#d8576b\"],[0.6666666666666666,\"#ed7953\"],[0.7777777777777778,\"#fb9f3a\"],[0.8888888888888888,\"#fdca26\"],[1.0,\"#f0f921\"]],\"sequentialminus\":[[0.0,\"#0d0887\"],[0.1111111111111111,\"#46039f\"],[0.2222222222222222,\"#7201a8\"],[0.3333333333333333,\"#9c179e\"],[0.4444444444444444,\"#bd3786\"],[0.5555555555555556,\"#d8576b\"],[0.6666666666666666,\"#ed7953\"],[0.7777777777777778,\"#fb9f3a\"],[0.8888888888888888,\"#fdca26\"],[1.0,\"#f0f921\"]]},\"colorway\":[\"#636efa\",\"#EF553B\",\"#00cc96\",\"#ab63fa\",\"#FFA15A\",\"#19d3f3\",\"#FF6692\",\"#B6E880\",\"#FF97FF\",\"#FECB52\"],\"font\":{\"color\":\"#2a3f5f\"},\"geo\":{\"bgcolor\":\"white\",\"lakecolor\":\"white\",\"landcolor\":\"#E5ECF6\",\"showlakes\":true,\"showland\":true,\"subunitcolor\":\"white\"},\"hoverlabel\":{\"align\":\"left\"},\"hovermode\":\"closest\",\"mapbox\":{\"style\":\"light\"},\"paper_bgcolor\":\"white\",\"plot_bgcolor\":\"#E5ECF6\",\"polar\":{\"angularaxis\":{\"gridcolor\":\"white\",\"linecolor\":\"white\",\"ticks\":\"\"},\"bgcolor\":\"#E5ECF6\",\"radialaxis\":{\"gridcolor\":\"white\",\"linecolor\":\"white\",\"ticks\":\"\"}},\"scene\":{\"xaxis\":{\"backgroundcolor\":\"#E5ECF6\",\"gridcolor\":\"white\",\"gridwidth\":2,\"linecolor\":\"white\",\"showbackground\":true,\"ticks\":\"\",\"zerolinecolor\":\"white\"},\"yaxis\":{\"backgroundcolor\":\"#E5ECF6\",\"gridcolor\":\"white\",\"gridwidth\":2,\"linecolor\":\"white\",\"showbackground\":true,\"ticks\":\"\",\"zerolinecolor\":\"white\"},\"zaxis\":{\"backgroundcolor\":\"#E5ECF6\",\"gridcolor\":\"white\",\"gridwidth\":2,\"linecolor\":\"white\",\"showbackground\":true,\"ticks\":\"\",\"zerolinecolor\":\"white\"}},\"shapedefaults\":{\"line\":{\"color\":\"#2a3f5f\"}},\"ternary\":{\"aaxis\":{\"gridcolor\":\"white\",\"linecolor\":\"white\",\"ticks\":\"\"},\"baxis\":{\"gridcolor\":\"white\",\"linecolor\":\"white\",\"ticks\":\"\"},\"bgcolor\":\"#E5ECF6\",\"caxis\":{\"gridcolor\":\"white\",\"linecolor\":\"white\",\"ticks\":\"\"}},\"title\":{\"x\":0.05},\"xaxis\":{\"automargin\":true,\"gridcolor\":\"white\",\"linecolor\":\"white\",\"ticks\":\"\",\"title\":{\"standoff\":15},\"zerolinecolor\":\"white\",\"zerolinewidth\":2},\"yaxis\":{\"automargin\":true,\"gridcolor\":\"white\",\"linecolor\":\"white\",\"ticks\":\"\",\"title\":{\"standoff\":15},\"zerolinecolor\":\"white\",\"zerolinewidth\":2}}},\"title\":{\"font\":{\"color\":\"#D9D9D9\"}}},                        {\"showLink\": true, \"linkText\": \"Export to plot.ly\", \"plotlyServerURL\": \"https://plot.ly\", \"responsive\": true}                    ).then(function(){\n",
       "                            \n",
       "var gd = document.getElementById('88e6c0c2-38c2-4a02-ad8d-b63b153795da');\n",
       "var x = new MutationObserver(function (mutations, observer) {{\n",
       "        var display = window.getComputedStyle(gd).display;\n",
       "        if (!display || display === 'none') {{\n",
       "            console.log([gd, 'removed!']);\n",
       "            Plotly.purge(gd);\n",
       "            observer.disconnect();\n",
       "        }}\n",
       "}});\n",
       "\n",
       "// Listen for the removal of the full notebook cells\n",
       "var notebookContainer = gd.closest('#notebook-container');\n",
       "if (notebookContainer) {{\n",
       "    x.observe(notebookContainer, {childList: true});\n",
       "}}\n",
       "\n",
       "// Listen for the clearing of the current output cell\n",
       "var outputEl = gd.closest('.output');\n",
       "if (outputEl) {{\n",
       "    x.observe(outputEl, {childList: true});\n",
       "}}\n",
       "\n",
       "                        })                };                });            </script>        </div>"
      ]
     },
     "metadata": {},
     "output_type": "display_data"
    }
   ],
   "source": [
    "de4.iplot(x = 'sepal_length' , y = 'sepal_width' , z = 'species' , kind = 'scatter3d')"
   ]
  },
  {
   "cell_type": "code",
   "execution_count": null,
   "id": "85dda599",
   "metadata": {},
   "outputs": [],
   "source": []
  },
  {
   "cell_type": "code",
   "execution_count": null,
   "id": "232f6fdc",
   "metadata": {},
   "outputs": [],
   "source": []
  },
  {
   "cell_type": "code",
   "execution_count": null,
   "id": "883d8f53",
   "metadata": {},
   "outputs": [],
   "source": []
  },
  {
   "cell_type": "code",
   "execution_count": null,
   "id": "87ff31e7",
   "metadata": {},
   "outputs": [],
   "source": []
  }
 ],
 "metadata": {
  "kernelspec": {
   "display_name": "Python 3 (ipykernel)",
   "language": "python",
   "name": "python3"
  },
  "language_info": {
   "codemirror_mode": {
    "name": "ipython",
    "version": 3
   },
   "file_extension": ".py",
   "mimetype": "text/x-python",
   "name": "python",
   "nbconvert_exporter": "python",
   "pygments_lexer": "ipython3",
   "version": "3.9.12"
  }
 },
 "nbformat": 4,
 "nbformat_minor": 5
}
